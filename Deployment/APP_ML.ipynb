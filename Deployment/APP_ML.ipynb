{
 "cells": [
  {
   "cell_type": "code",
   "execution_count": null,
   "id": "c8e734b4",
   "metadata": {},
   "outputs": [
    {
     "name": "stdout",
     "output_type": "stream",
     "text": [
      " * Serving Flask app \"__main__\" (lazy loading)\n",
      " * Environment: production\n",
      "\u001b[31m   WARNING: This is a development server. Do not use it in a production deployment.\u001b[0m\n",
      "\u001b[2m   Use a production WSGI server instead.\u001b[0m\n",
      " * Debug mode: off\n"
     ]
    },
    {
     "name": "stderr",
     "output_type": "stream",
     "text": [
      " * Running on http://127.0.0.1:5000/ (Press CTRL+C to quit)\n",
      "127.0.0.1 - - [08/Mar/2022 01:47:15] \"GET / HTTP/1.1\" 200 -\n",
      "127.0.0.1 - - [08/Mar/2022 01:47:15] \"GET /favicon.ico HTTP/1.1\" 404 -\n"
     ]
    },
    {
     "name": "stdout",
     "output_type": "stream",
     "text": [
      "\"مشى الحال\"\n",
      "['LEVANT']\n"
     ]
    },
    {
     "name": "stderr",
     "output_type": "stream",
     "text": [
      "127.0.0.1 - - [08/Mar/2022 01:47:24] \"POST /classify HTTP/1.1\" 200 -\n"
     ]
    },
    {
     "name": "stdout",
     "output_type": "stream",
     "text": [
      "['JO']\n",
      "\"انا كويسة الحمد لله\"\n"
     ]
    },
    {
     "name": "stderr",
     "output_type": "stream",
     "text": [
      "127.0.0.1 - - [08/Mar/2022 01:47:44] \"POST /classify HTTP/1.1\" 200 -\n"
     ]
    },
    {
     "name": "stdout",
     "output_type": "stream",
     "text": [
      "['NILE BASIN']\n",
      "['EG']\n",
      "\"شوفت فيلم النهاردة\"\n"
     ]
    },
    {
     "name": "stderr",
     "output_type": "stream",
     "text": [
      "127.0.0.1 - - [08/Mar/2022 01:48:10] \"POST /classify HTTP/1.1\" 200 -\n"
     ]
    },
    {
     "name": "stdout",
     "output_type": "stream",
     "text": [
      "['NILE BASIN']\n",
      "['EG']\n"
     ]
    }
   ],
   "source": [
    "import numpy as np\n",
    "from flask import Flask, request, jsonify, render_template\n",
    "#from category_encoders.cat_boost import CatBoostEncoder\n",
    "from sklearn import preprocessing\n",
    "import pandas as pd\n",
    "import pickle\n",
    "\n",
    "app = Flask(__name__)\n",
    "union_main = pickle.load(open('union_main.pkl','rb'))\n",
    "model_main = pickle.load(open('model_main.pkl','rb'))\n",
    "union_levant = pickle.load(open('union_levant.pkl','rb'))\n",
    "model_levant = pickle.load(open('model_levant.pkl','rb'))\n",
    "union_maghreb = pickle.load(open('union_maghreb.pkl','rb'))\n",
    "model_maghreb = pickle.load(open('model_maghreb.pkl','rb'))\n",
    "union_nile_basin = pickle.load(open('union_nile_basin.pkl','rb'))\n",
    "model_nile_basin = pickle.load(open('model_nile_basin.pkl','rb'))\n",
    "union_gulf = pickle.load(open('union_gulf.pkl','rb'))\n",
    "model_gulf = pickle.load(open('model_gulf.pkl','rb'))\n",
    "\n",
    "\n",
    "@app.route('/')\n",
    "def home():\n",
    "    return render_template('index.html')\n",
    "\n",
    "@app.route('/classify',methods=['POST'])\n",
    "def classify():\n",
    "    '''\n",
    "    For rendering results on HTML GUI\n",
    "    '''\n",
    "  \n",
    "    int_features =request.form[\"sentence\"]\n",
    "    print(int_features)\n",
    "    int_feat_union=union_main.transform([int_features])\n",
    "    prediction = model_main.predict(int_feat_union)\n",
    "    print(prediction)\n",
    "    if prediction=='MAGHERB':\n",
    "        int_feat_union=union_maghreb.transform([int_features])\n",
    "        prediction = model_maghreb.predict(int_feat_union)\n",
    "    elif prediction=='LEVANT':\n",
    "        int_feat_union=union_levant.transform([int_features])\n",
    "        prediction = model_levant.predict(int_feat_union)\n",
    "    elif prediction=='NILE BASIN':\n",
    "        int_feat_union=union_nile_basin.transform([int_features])\n",
    "        prediction = model_nile_basin.predict(int_feat_union)\n",
    "    elif prediction=='GULF':\n",
    "        int_feat_union=union_gulf.transform([int_features])\n",
    "        prediction = model_gulf.predict(int_feat_union)\n",
    "        \n",
    "    print(prediction)\n",
    "\n",
    "\n",
    "\n",
    "    return render_template('index.html', prediction_text='dialect of this sentence is {}'.format(prediction[0]))\n",
    "\n",
    "\n",
    "if __name__ == \"__main__\":\n",
    "    app.debug=False\n",
    "    app.run()"
   ]
  },
  {
   "cell_type": "code",
   "execution_count": null,
   "id": "21a52166",
   "metadata": {},
   "outputs": [],
   "source": []
  },
  {
   "cell_type": "code",
   "execution_count": null,
   "id": "f287fb2f",
   "metadata": {},
   "outputs": [],
   "source": []
  },
  {
   "cell_type": "code",
   "execution_count": null,
   "id": "c5d37fe7",
   "metadata": {},
   "outputs": [],
   "source": []
  },
  {
   "cell_type": "code",
   "execution_count": null,
   "id": "da5054d5",
   "metadata": {},
   "outputs": [],
   "source": []
  },
  {
   "cell_type": "code",
   "execution_count": null,
   "id": "9b1656c3",
   "metadata": {},
   "outputs": [],
   "source": []
  },
  {
   "cell_type": "code",
   "execution_count": null,
   "id": "baa0666c",
   "metadata": {},
   "outputs": [],
   "source": []
  }
 ],
 "metadata": {
  "kernelspec": {
   "display_name": "Python 3 (ipykernel)",
   "language": "python",
   "name": "python3"
  },
  "language_info": {
   "codemirror_mode": {
    "name": "ipython",
    "version": 3
   },
   "file_extension": ".py",
   "mimetype": "text/x-python",
   "name": "python",
   "nbconvert_exporter": "python",
   "pygments_lexer": "ipython3",
   "version": "3.9.7"
  }
 },
 "nbformat": 4,
 "nbformat_minor": 5
}
