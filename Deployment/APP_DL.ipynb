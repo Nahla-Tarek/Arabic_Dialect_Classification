{
 "cells": [
  {
   "cell_type": "code",
   "execution_count": null,
   "id": "17dccc27",
   "metadata": {},
   "outputs": [
    {
     "name": "stdout",
     "output_type": "stream",
     "text": [
      " * Serving Flask app \"__main__\" (lazy loading)\n",
      " * Environment: production\n",
      "\u001b[31m   WARNING: This is a development server. Do not use it in a production deployment.\u001b[0m\n",
      "\u001b[2m   Use a production WSGI server instead.\u001b[0m\n",
      " * Debug mode: off\n"
     ]
    },
    {
     "name": "stderr",
     "output_type": "stream",
     "text": [
      " * Running on http://127.0.0.1:5000/ (Press CTRL+C to quit)\n",
      "127.0.0.1 - - [14/Mar/2022 01:04:22] \"GET / HTTP/1.1\" 200 -\n"
     ]
    },
    {
     "name": "stdout",
     "output_type": "stream",
     "text": [
      "\"عامل ايه\"\n",
      "NILE BASIN\n"
     ]
    },
    {
     "name": "stderr",
     "output_type": "stream",
     "text": [
      "127.0.0.1 - - [14/Mar/2022 01:04:29] \"POST /classify HTTP/1.1\" 200 -\n"
     ]
    },
    {
     "name": "stdout",
     "output_type": "stream",
     "text": [
      "EG\n",
      "\"السلام يا حلوين مين يشرب\"\n",
      "LEVANT\n"
     ]
    },
    {
     "name": "stderr",
     "output_type": "stream",
     "text": [
      "127.0.0.1 - - [14/Mar/2022 01:04:38] \"POST /classify HTTP/1.1\" 200 -\n"
     ]
    },
    {
     "name": "stdout",
     "output_type": "stream",
     "text": [
      "PL\n",
      "\"توحشتك بزاف\"\n",
      "MAGHERB\n"
     ]
    },
    {
     "name": "stderr",
     "output_type": "stream",
     "text": [
      "127.0.0.1 - - [14/Mar/2022 01:04:50] \"POST /classify HTTP/1.1\" 200 -\n"
     ]
    },
    {
     "name": "stdout",
     "output_type": "stream",
     "text": [
      "MA\n"
     ]
    },
    {
     "name": "stderr",
     "output_type": "stream",
     "text": [
      "127.0.0.1 - - [14/Mar/2022 01:06:47] \"POST /classify HTTP/1.1\" 200 -\n"
     ]
    },
    {
     "name": "stdout",
     "output_type": "stream",
     "text": [
      "\"شوفت فيلم النهاردة\"\n",
      "NILE BASIN\n",
      "EG\n"
     ]
    },
    {
     "name": "stderr",
     "output_type": "stream",
     "text": [
      "127.0.0.1 - - [14/Mar/2022 01:10:13] \"POST /classify HTTP/1.1\" 200 -\n"
     ]
    },
    {
     "name": "stdout",
     "output_type": "stream",
     "text": [
      "\"انا كويسة\"\n",
      "LEVANT\n",
      "PL\n"
     ]
    },
    {
     "name": "stderr",
     "output_type": "stream",
     "text": [
      "127.0.0.1 - - [14/Mar/2022 01:10:34] \"POST /classify HTTP/1.1\" 200 -\n"
     ]
    },
    {
     "name": "stdout",
     "output_type": "stream",
     "text": [
      "\"اخباركوا ايه\"\n",
      "NILE BASIN\n",
      "EG\n"
     ]
    }
   ],
   "source": [
    "import numpy as np\n",
    "from flask import Flask, request, jsonify, render_template\n",
    "#from category_encoders.cat_boost import CatBoostEncoder\n",
    "from sklearn import preprocessing\n",
    "import pandas as pd\n",
    "import pickle\n",
    "import tensorflow\n",
    "from tensorflow.keras.preprocessing.sequence import pad_sequences\n",
    "\n",
    "app = Flask(__name__)\n",
    "main_model=tensorflow.keras.models.load_model(\"dialection_DL/MAIN_MODEL.h5\")\n",
    "gulf_model=tensorflow.keras.models.load_model(\"dialection_DL/gulf.h5\")\n",
    "maghreb_model=tensorflow.keras.models.load_model(\"dialection_DL/maghreb.h5\")\n",
    "nile_basin_model=tensorflow.keras.models.load_model(\"dialection_DL/Nile_Basin (1).h5\")\n",
    "levant_model=tensorflow.keras.models.load_model(\"dialection_DL/levant.h5\")\n",
    "tokenizer_main = pickle.load(open('dialection_DL/tokenizer_main.pkl','rb'))\n",
    "tokenizer_gulf = pickle.load(open('dialection_DL/tokenizer_gulf.pkl','rb'))\n",
    "tokenizer_maghreb = pickle.load(open('dialection_DL/tokenizer_maghreeb.pkl','rb'))\n",
    "tokenizer_levant = pickle.load(open('dialection_DL/tokenizer_lavent.pkl','rb'))\n",
    "tokenizer_nile_basin = pickle.load(open('dialection_DL/tokenizer_nile_basin.pkl','rb'))\n",
    "\n",
    "\n",
    "@app.route('/')\n",
    "def home():\n",
    "    return render_template('index.html')\n",
    "\n",
    "@app.route('/classify',methods=['POST'])\n",
    "def classify():\n",
    "    '''\n",
    "    For rendering results on HTML GUI\n",
    "    '''\n",
    "    def splitolist(data):\n",
    "        l=data.split(\" \")\n",
    "        return l\n",
    "    int_features =request.form[\"sentence\"]\n",
    "    print(int_features)\n",
    "    l=splitolist(int_features)\n",
    "    seq=tokenizer_main.texts_to_sequences(l)\n",
    "    b=[item for sublist in seq for item in sublist]\n",
    "    #print(b)\n",
    "    pad_seq=pad_sequences([b], maxlen=86,padding='post')\n",
    "    prediction=main_model.predict(pad_seq).argmax(axis=1)\n",
    "    \n",
    "    target_names=['GULF','IQ','LEVANT', 'MAGHERB', 'NILE BASIN', 'YE']\n",
    "    prediction=target_names[prediction[0]]\n",
    "    print(prediction)\n",
    "    if prediction=='MAGHERB':\n",
    "        l=splitolist(int_features)\n",
    "        seq=tokenizer_maghreb.texts_to_sequences(l)\n",
    "        b=[item for sublist in seq for item in sublist]\n",
    "        #print(b)\n",
    "        pad_seq=pad_sequences([b], maxlen=61,padding='post')\n",
    "        prediction = maghreb_model.predict(pad_seq).argmax(axis=1)\n",
    "        target_names=['DZ','LY', 'MA', 'TN']\n",
    "        prediction=target_names[prediction[0]]\n",
    "    elif prediction=='LEVANT':\n",
    "        l=splitolist(int_features)\n",
    "        seq=tokenizer_levant.texts_to_sequences(l)\n",
    "        b=[item for sublist in seq for item in sublist]\n",
    "        #print(b)\n",
    "        pad_seq=pad_sequences([b], maxlen=68,padding='post')\n",
    "        prediction =levant_model.predict(pad_seq).argmax(axis=1)\n",
    "        target_names=['JO', 'LB','PL', 'SY']\n",
    "        prediction=target_names[prediction[0]]\n",
    "    elif prediction=='NILE BASIN':\n",
    "        l=splitolist(int_features)\n",
    "        seq=tokenizer_nile_basin.texts_to_sequences(l)\n",
    "        b=[item for sublist in seq for item in sublist]\n",
    "        #print(b)\n",
    "        pad_seq=pad_sequences([b], maxlen=54,padding='post')\n",
    "        prediction =nile_basin_model.predict(pad_seq).argmax(axis=1)\n",
    "        target_names=['EG', 'SD']\n",
    "        prediction=target_names[prediction[0]]\n",
    "    elif prediction=='GULF':\n",
    "        l=splitolist(int_features)\n",
    "        seq=tokenizer_gulf.texts_to_sequences(l)\n",
    "        b=[item for sublist in seq for item in sublist]\n",
    "        #print(b)\n",
    "        pad_seq=pad_sequences([b], maxlen=86,padding='post')\n",
    "        prediction =gulf_model.predict(pad_seq).argmax(axis=1)\n",
    "        target_names=['AE','BH','KW','OM','QA', 'SA']\n",
    "        prediction=target_names[prediction[0]]\n",
    "    print(prediction)\n",
    "\n",
    "\n",
    "\n",
    "    return render_template('index.html', prediction_text='dialection of this sentence is {}'.format(prediction))\n",
    "\n",
    "\n",
    "if __name__ == \"__main__\":\n",
    "    app.debug=False\n",
    "    app.run()"
   ]
  },
  {
   "cell_type": "code",
   "execution_count": null,
   "id": "46161744",
   "metadata": {},
   "outputs": [],
   "source": []
  }
 ],
 "metadata": {
  "kernelspec": {
   "display_name": "Python 3 (ipykernel)",
   "language": "python",
   "name": "python3"
  },
  "language_info": {
   "codemirror_mode": {
    "name": "ipython",
    "version": 3
   },
   "file_extension": ".py",
   "mimetype": "text/x-python",
   "name": "python",
   "nbconvert_exporter": "python",
   "pygments_lexer": "ipython3",
   "version": "3.9.7"
  }
 },
 "nbformat": 4,
 "nbformat_minor": 5
}
