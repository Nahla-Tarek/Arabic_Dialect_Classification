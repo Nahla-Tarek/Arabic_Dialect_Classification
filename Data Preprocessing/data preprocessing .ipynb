{
 "cells": [
  {
   "cell_type": "code",
   "execution_count": 1,
   "id": "6984112e",
   "metadata": {},
   "outputs": [],
   "source": [
    "#pip install emoji"
   ]
  },
  {
   "cell_type": "code",
   "execution_count": 2,
   "id": "28d8beef",
   "metadata": {},
   "outputs": [],
   "source": [
    "# # pip install arabicstopwords\n",
    "# !pip install Arabic-Stopwords"
   ]
  },
  {
   "cell_type": "code",
   "execution_count": 3,
   "id": "af4197c1",
   "metadata": {},
   "outputs": [],
   "source": [
    "import pandas as pd\n",
    "import seaborn as sns\n",
    "import re\n",
    "#from arabert.preprocess import ArabertPreprocessor\n",
    "import string\n",
    "from imblearn.over_sampling import SMOTE\n",
    "import pickle\n",
    "import emoji\n",
    "import arabicstopwords.arabicstopwords as stp\n",
    "import json\n",
    "import pyarabic.araby as araby\n",
    "from nltk.stem.snowball import SnowballStemmer"
   ]
  },
  {
   "cell_type": "code",
   "execution_count": 77,
   "id": "961bf927",
   "metadata": {},
   "outputs": [],
   "source": [
    "#stp.stopwords_list()"
   ]
  },
  {
   "cell_type": "markdown",
   "id": "cab91fed",
   "metadata": {},
   "source": [
    "### Import csv file"
   ]
  },
  {
   "cell_type": "code",
   "execution_count": 5,
   "id": "90339edd",
   "metadata": {},
   "outputs": [],
   "source": [
    "df=pd.read_csv('dialect_dataset.csv')"
   ]
  },
  {
   "cell_type": "code",
   "execution_count": 6,
   "id": "8bdaa2a4",
   "metadata": {},
   "outputs": [
    {
     "data": {
      "text/html": [
       "<div>\n",
       "<style scoped>\n",
       "    .dataframe tbody tr th:only-of-type {\n",
       "        vertical-align: middle;\n",
       "    }\n",
       "\n",
       "    .dataframe tbody tr th {\n",
       "        vertical-align: top;\n",
       "    }\n",
       "\n",
       "    .dataframe thead th {\n",
       "        text-align: right;\n",
       "    }\n",
       "</style>\n",
       "<table border=\"1\" class=\"dataframe\">\n",
       "  <thead>\n",
       "    <tr style=\"text-align: right;\">\n",
       "      <th></th>\n",
       "      <th>id</th>\n",
       "      <th>dialect</th>\n",
       "    </tr>\n",
       "  </thead>\n",
       "  <tbody>\n",
       "    <tr>\n",
       "      <th>0</th>\n",
       "      <td>1175358310087892992</td>\n",
       "      <td>IQ</td>\n",
       "    </tr>\n",
       "    <tr>\n",
       "      <th>1</th>\n",
       "      <td>1175416117793349632</td>\n",
       "      <td>IQ</td>\n",
       "    </tr>\n",
       "    <tr>\n",
       "      <th>2</th>\n",
       "      <td>1175450108898565888</td>\n",
       "      <td>IQ</td>\n",
       "    </tr>\n",
       "    <tr>\n",
       "      <th>3</th>\n",
       "      <td>1175471073770573824</td>\n",
       "      <td>IQ</td>\n",
       "    </tr>\n",
       "    <tr>\n",
       "      <th>4</th>\n",
       "      <td>1175496913145217024</td>\n",
       "      <td>IQ</td>\n",
       "    </tr>\n",
       "    <tr>\n",
       "      <th>...</th>\n",
       "      <td>...</td>\n",
       "      <td>...</td>\n",
       "    </tr>\n",
       "    <tr>\n",
       "      <th>458192</th>\n",
       "      <td>1019484980282580992</td>\n",
       "      <td>BH</td>\n",
       "    </tr>\n",
       "    <tr>\n",
       "      <th>458193</th>\n",
       "      <td>1021083283709407232</td>\n",
       "      <td>BH</td>\n",
       "    </tr>\n",
       "    <tr>\n",
       "      <th>458194</th>\n",
       "      <td>1017477537889431552</td>\n",
       "      <td>BH</td>\n",
       "    </tr>\n",
       "    <tr>\n",
       "      <th>458195</th>\n",
       "      <td>1022430374696239232</td>\n",
       "      <td>BH</td>\n",
       "    </tr>\n",
       "    <tr>\n",
       "      <th>458196</th>\n",
       "      <td>1022409931029458944</td>\n",
       "      <td>BH</td>\n",
       "    </tr>\n",
       "  </tbody>\n",
       "</table>\n",
       "<p>458197 rows × 2 columns</p>\n",
       "</div>"
      ],
      "text/plain": [
       "                         id dialect\n",
       "0       1175358310087892992      IQ\n",
       "1       1175416117793349632      IQ\n",
       "2       1175450108898565888      IQ\n",
       "3       1175471073770573824      IQ\n",
       "4       1175496913145217024      IQ\n",
       "...                     ...     ...\n",
       "458192  1019484980282580992      BH\n",
       "458193  1021083283709407232      BH\n",
       "458194  1017477537889431552      BH\n",
       "458195  1022430374696239232      BH\n",
       "458196  1022409931029458944      BH\n",
       "\n",
       "[458197 rows x 2 columns]"
      ]
     },
     "execution_count": 6,
     "metadata": {},
     "output_type": "execute_result"
    }
   ],
   "source": [
    "df"
   ]
  },
  {
   "cell_type": "code",
   "execution_count": 7,
   "id": "b2c23c4e",
   "metadata": {},
   "outputs": [
    {
     "data": {
      "text/plain": [
       "(458197, 2)"
      ]
     },
     "execution_count": 7,
     "metadata": {},
     "output_type": "execute_result"
    }
   ],
   "source": [
    "df.shape"
   ]
  },
  {
   "cell_type": "markdown",
   "id": "bc4d69c1",
   "metadata": {},
   "source": [
    "### Check null values"
   ]
  },
  {
   "cell_type": "code",
   "execution_count": 8,
   "id": "374721a6",
   "metadata": {},
   "outputs": [
    {
     "data": {
      "text/plain": [
       "id         0\n",
       "dialect    0\n",
       "dtype: int64"
      ]
     },
     "execution_count": 8,
     "metadata": {},
     "output_type": "execute_result"
    }
   ],
   "source": [
    "df.isnull().sum()"
   ]
  },
  {
   "cell_type": "markdown",
   "id": "73a5eca5",
   "metadata": {},
   "source": [
    "### import the dictionary --> keys=id, values=text"
   ]
  },
  {
   "cell_type": "code",
   "execution_count": 9,
   "id": "2e608bbe",
   "metadata": {},
   "outputs": [],
   "source": [
    "with open('data.json', 'rb') as fp:\n",
    "    data = pickle.load(fp)"
   ]
  },
  {
   "cell_type": "code",
   "execution_count": 10,
   "id": "432317f3",
   "metadata": {},
   "outputs": [
    {
     "data": {
      "text/plain": [
       "'ﻱ ﺷﻮﻕ ﻗﻠﮧ ﺻﺎﺍﺣﺒﮏ ﺩﻭﻡ ﻳﻄﺮﻳﮏ ﻭﺎﻧﮏ ﺏ ﻗﻠﺒﮧ ﻟﻮ ﺗﻄﻮﻝ ﺎﻟﻤﺴﺎﺍﻓﻬﮧﺀ . .'"
      ]
     },
     "execution_count": 10,
     "metadata": {},
     "output_type": "execute_result"
    }
   ],
   "source": [
    "data['471056063672750080']"
   ]
  },
  {
   "cell_type": "code",
   "execution_count": 11,
   "id": "41eb8771",
   "metadata": {},
   "outputs": [],
   "source": [
    "# for item in data.items():\n",
    "#     print(item)"
   ]
  },
  {
   "cell_type": "code",
   "execution_count": 12,
   "id": "3d860b28",
   "metadata": {},
   "outputs": [
    {
     "data": {
      "text/plain": [
       "458197"
      ]
     },
     "execution_count": 12,
     "metadata": {},
     "output_type": "execute_result"
    }
   ],
   "source": [
    "len(data)"
   ]
  },
  {
   "cell_type": "markdown",
   "id": "4c83ebfd",
   "metadata": {},
   "source": [
    "### Add all the data in one dataframe (text,label)"
   ]
  },
  {
   "cell_type": "code",
   "execution_count": 13,
   "id": "57e91b12",
   "metadata": {},
   "outputs": [],
   "source": [
    "df1=pd.DataFrame.from_dict(data,orient='index',columns=['text'])"
   ]
  },
  {
   "cell_type": "code",
   "execution_count": 14,
   "id": "e9e23d05",
   "metadata": {},
   "outputs": [],
   "source": [
    "df1=df1.reset_index()"
   ]
  },
  {
   "cell_type": "code",
   "execution_count": 15,
   "id": "edd75cef",
   "metadata": {},
   "outputs": [],
   "source": [
    "df1['id']=df1['index']"
   ]
  },
  {
   "cell_type": "code",
   "execution_count": 16,
   "id": "6e17ec67",
   "metadata": {},
   "outputs": [],
   "source": [
    "df1=df1.drop(\"index\",axis=1)"
   ]
  },
  {
   "cell_type": "code",
   "execution_count": 17,
   "id": "afe61b0b",
   "metadata": {},
   "outputs": [],
   "source": [
    "df1 = df1[['id','text']]"
   ]
  },
  {
   "cell_type": "code",
   "execution_count": 18,
   "id": "0a46f96c",
   "metadata": {},
   "outputs": [],
   "source": [
    "df1['dialect']=df['dialect']"
   ]
  },
  {
   "cell_type": "code",
   "execution_count": 19,
   "id": "939a5e62",
   "metadata": {},
   "outputs": [
    {
     "data": {
      "text/html": [
       "<div>\n",
       "<style scoped>\n",
       "    .dataframe tbody tr th:only-of-type {\n",
       "        vertical-align: middle;\n",
       "    }\n",
       "\n",
       "    .dataframe tbody tr th {\n",
       "        vertical-align: top;\n",
       "    }\n",
       "\n",
       "    .dataframe thead th {\n",
       "        text-align: right;\n",
       "    }\n",
       "</style>\n",
       "<table border=\"1\" class=\"dataframe\">\n",
       "  <thead>\n",
       "    <tr style=\"text-align: right;\">\n",
       "      <th></th>\n",
       "      <th>id</th>\n",
       "      <th>text</th>\n",
       "      <th>dialect</th>\n",
       "    </tr>\n",
       "  </thead>\n",
       "  <tbody>\n",
       "    <tr>\n",
       "      <th>0</th>\n",
       "      <td>1175358310087892992</td>\n",
       "      <td>@Nw8ieJUwaCAAreT لكن بالنهاية .. ينتفض .. يغير .</td>\n",
       "      <td>IQ</td>\n",
       "    </tr>\n",
       "    <tr>\n",
       "      <th>1</th>\n",
       "      <td>1175416117793349632</td>\n",
       "      <td>@7zNqXP0yrODdRjK يعني هذا محسوب على البشر .. ح...</td>\n",
       "      <td>IQ</td>\n",
       "    </tr>\n",
       "    <tr>\n",
       "      <th>2</th>\n",
       "      <td>1175450108898565888</td>\n",
       "      <td>@KanaanRema مبين من كلامه خليجي</td>\n",
       "      <td>IQ</td>\n",
       "    </tr>\n",
       "    <tr>\n",
       "      <th>3</th>\n",
       "      <td>1175471073770573824</td>\n",
       "      <td>@HAIDER76128900 يسلملي مرورك وروحك الحلوه💐</td>\n",
       "      <td>IQ</td>\n",
       "    </tr>\n",
       "    <tr>\n",
       "      <th>4</th>\n",
       "      <td>1175496913145217024</td>\n",
       "      <td>@hmo2406 وين هل الغيبه  اخ محمد 🌸🌺</td>\n",
       "      <td>IQ</td>\n",
       "    </tr>\n",
       "    <tr>\n",
       "      <th>...</th>\n",
       "      <td>...</td>\n",
       "      <td>...</td>\n",
       "      <td>...</td>\n",
       "    </tr>\n",
       "    <tr>\n",
       "      <th>458192</th>\n",
       "      <td>1019484980282580992</td>\n",
       "      <td>@Al_mhbaa_7 مبسوطين منك اللي باسطانا😅</td>\n",
       "      <td>BH</td>\n",
       "    </tr>\n",
       "    <tr>\n",
       "      <th>458193</th>\n",
       "      <td>1021083283709407232</td>\n",
       "      <td>@Zzainabali @P_ameerah والله ماينده ابش يختي</td>\n",
       "      <td>BH</td>\n",
       "    </tr>\n",
       "    <tr>\n",
       "      <th>458194</th>\n",
       "      <td>1017477537889431552</td>\n",
       "      <td>@Al_mhbaa_7 شو عملنا لك حنا تهربي مننا احنا مس...</td>\n",
       "      <td>BH</td>\n",
       "    </tr>\n",
       "    <tr>\n",
       "      <th>458195</th>\n",
       "      <td>1022430374696239232</td>\n",
       "      <td>@haneenalmwla الله يبارك فيها وبالعافيه 😋😋😋</td>\n",
       "      <td>BH</td>\n",
       "    </tr>\n",
       "    <tr>\n",
       "      <th>458196</th>\n",
       "      <td>1022409931029458944</td>\n",
       "      <td>@jolnar121 السحله ضيفي ي بتطلع لك سحليه😅😅</td>\n",
       "      <td>BH</td>\n",
       "    </tr>\n",
       "  </tbody>\n",
       "</table>\n",
       "<p>458197 rows × 3 columns</p>\n",
       "</div>"
      ],
      "text/plain": [
       "                         id  \\\n",
       "0       1175358310087892992   \n",
       "1       1175416117793349632   \n",
       "2       1175450108898565888   \n",
       "3       1175471073770573824   \n",
       "4       1175496913145217024   \n",
       "...                     ...   \n",
       "458192  1019484980282580992   \n",
       "458193  1021083283709407232   \n",
       "458194  1017477537889431552   \n",
       "458195  1022430374696239232   \n",
       "458196  1022409931029458944   \n",
       "\n",
       "                                                     text dialect  \n",
       "0        @Nw8ieJUwaCAAreT لكن بالنهاية .. ينتفض .. يغير .      IQ  \n",
       "1       @7zNqXP0yrODdRjK يعني هذا محسوب على البشر .. ح...      IQ  \n",
       "2                         @KanaanRema مبين من كلامه خليجي      IQ  \n",
       "3              @HAIDER76128900 يسلملي مرورك وروحك الحلوه💐      IQ  \n",
       "4                      @hmo2406 وين هل الغيبه  اخ محمد 🌸🌺      IQ  \n",
       "...                                                   ...     ...  \n",
       "458192              @Al_mhbaa_7 مبسوطين منك اللي باسطانا😅      BH  \n",
       "458193       @Zzainabali @P_ameerah والله ماينده ابش يختي      BH  \n",
       "458194  @Al_mhbaa_7 شو عملنا لك حنا تهربي مننا احنا مس...      BH  \n",
       "458195        @haneenalmwla الله يبارك فيها وبالعافيه 😋😋😋      BH  \n",
       "458196          @jolnar121 السحله ضيفي ي بتطلع لك سحليه😅😅      BH  \n",
       "\n",
       "[458197 rows x 3 columns]"
      ]
     },
     "execution_count": 19,
     "metadata": {},
     "output_type": "execute_result"
    }
   ],
   "source": [
    "df1"
   ]
  },
  {
   "cell_type": "code",
   "execution_count": 20,
   "id": "666d89fc",
   "metadata": {},
   "outputs": [
    {
     "data": {
      "text/plain": [
       "'@bhmesh @Jordaniancitizn @Ahmadkh51210191 يجون يشوفون اللي عندنا حتى باب السياره له ناس تفتح لهم 😅'"
      ]
     },
     "execution_count": 20,
     "metadata": {},
     "output_type": "execute_result"
    }
   ],
   "source": [
    "df1.loc[458188,'text']"
   ]
  },
  {
   "cell_type": "code",
   "execution_count": 21,
   "id": "fbf31e1a",
   "metadata": {},
   "outputs": [
    {
     "data": {
      "text/plain": [
       "id         0\n",
       "text       0\n",
       "dialect    0\n",
       "dtype: int64"
      ]
     },
     "execution_count": 21,
     "metadata": {},
     "output_type": "execute_result"
    }
   ],
   "source": [
    "df1.isnull().sum()"
   ]
  },
  {
   "cell_type": "markdown",
   "id": "bf61f774",
   "metadata": {},
   "source": [
    "### Exploratory Data Analysis"
   ]
  },
  {
   "cell_type": "code",
   "execution_count": 22,
   "id": "986663f2",
   "metadata": {},
   "outputs": [
    {
     "name": "stdout",
     "output_type": "stream",
     "text": [
      "Index(['EG', 'PL', 'KW', 'LY', 'QA', 'JO', 'LB', 'SA', 'AE', 'BH', 'OM', 'SY',\n",
      "       'DZ', 'IQ', 'SD', 'MA', 'YE', 'TN'],\n",
      "      dtype='object')\n"
     ]
    },
    {
     "name": "stderr",
     "output_type": "stream",
     "text": [
      "D:\\anaconda1\\lib\\site-packages\\seaborn\\_decorators.py:36: FutureWarning: Pass the following variables as keyword args: x, y. From version 0.12, the only valid positional argument will be `data`, and passing other arguments without an explicit keyword will result in an error or misinterpretation.\n",
      "  warnings.warn(\n"
     ]
    },
    {
     "data": {
      "text/plain": [
       "<AxesSubplot:ylabel='dialect'>"
      ]
     },
     "execution_count": 22,
     "metadata": {},
     "output_type": "execute_result"
    },
    {
     "data": {
      "image/png": "[encoded data removed]",
      "text/plain": [
       "<Figure size 432x288 with 1 Axes>"
      ]
     },
     "metadata": {
      "needs_background": "light"
     },
     "output_type": "display_data"
    }
   ],
   "source": [
    "x=df1['dialect'].value_counts()\n",
    "print(x.index)\n",
    "sns.barplot(x.index,x)"
   ]
  },
  {
   "cell_type": "markdown",
   "id": "99c8d43e",
   "metadata": {},
   "source": [
    "### Cleaning text column"
   ]
  },
  {
   "cell_type": "code",
   "execution_count": 23,
   "id": "0b6d9bf1",
   "metadata": {},
   "outputs": [],
   "source": [
    "## remove words that are repeated in the text but they can not help the model to classify the dialects\n",
    "def remove_common_words(doc_text1):\n",
    "    list_c=[\"الشعب\",\"الكويت\",\"توتير\",\"السعودية\",\"رمضان\",\"والله\",\"لا حول و لا قوة الا بالله\",\"مصر\",\"ان شاء الله\",\"الحمد لله\",\"استغفر الله العظيم\",\"لا اله الا الله\"]\n",
    "    for i in list_c:\n",
    "        if i in doc_text1:\n",
    "            doc_text1=doc_text1.replace(i, \"\")\n",
    "    return doc_text1        "
   ]
  },
  {
   "cell_type": "code",
   "execution_count": 24,
   "id": "cc2dcda8",
   "metadata": {},
   "outputs": [],
   "source": [
    "\n",
    "def separate_punc(text):\n",
    "    text=re.sub(\"\\W\",\" \",text) ## remove non word characters\n",
    "    text=re.sub(\"[a-zA-Z0-9_-]\",\" \",text) ## remove non-arabic characters\n",
    "    text=re.sub(\"\\d\",\" \",text) ## remove any number in the text\n",
    "    text=text.strip()\n",
    "    return text"
   ]
  },
  {
   "cell_type": "code",
   "execution_count": 25,
   "id": "11fc929f",
   "metadata": {},
   "outputs": [],
   "source": [
    "## remove stop words\n",
    "def remove_stop_words(doc_text):\n",
    "    l=doc_text.split(\" \")\n",
    "    l1=\" \".join([word for word in l if word not in stp.stopwords_list()])\n",
    "    return l1"
   ]
  },
  {
   "cell_type": "code",
   "execution_count": 26,
   "id": "7056f172",
   "metadata": {},
   "outputs": [],
   "source": [
    "## remove weird characters\n",
    "def removeWeirdChars(text):\n",
    "    weirdPatterns = re.compile(\"[\"\n",
    "                               u\"\\U0001F600-\\U0001F64F\"  # emoticons\n",
    "                               u\"\\U0001F300-\\U0001F5FF\"  # symbols & pictographs\n",
    "                               u\"\\U0001F680-\\U0001F6FF\"  # transport & map symbols\n",
    "                               u\"\\U0001F1E0-\\U0001F1FF\"  # flags (iOS)\n",
    "                               u\"\\U00002702-\\U000027B0\"\n",
    "                               u\"\\U000024C2-\\U0001F251\"\n",
    "                               u\"\\U0001f926-\\U0001f937\"\n",
    "                               u'\\U00010000-\\U0010ffff'\n",
    "                               u\"\\u200d\"\n",
    "                               u\"\\u2640-\\u2642\"\n",
    "                               u\"\\u2600-\\u2B55\"\n",
    "                               u\"\\u23cf\"\n",
    "                               u\"\\u23e9\"\n",
    "                               u\"\\u231a\"\n",
    "                               u\"\\u3030\"\n",
    "                               u\"\\ufe0f\"\n",
    "                               u\"\\u2069\"\n",
    "                               u\"\\u2066\"\n",
    "                               u\"\\u200c\"\n",
    "                               u\"\\u2068\"\n",
    "                               u\"\\u2067\"\n",
    "                               \"]+\", flags=re.UNICODE)\n",
    "    return weirdPatterns.sub(r'', text)"
   ]
  },
  {
   "cell_type": "code",
   "execution_count": 27,
   "id": "5aaffae7",
   "metadata": {},
   "outputs": [],
   "source": [
    "##remove_extra_white_spaces\n",
    "def remove_extra_white_spaces(text):\n",
    "    without_sc = re.sub(pattern=\"\\s+\", repl=\" \", string=text)\n",
    "    return without_sc"
   ]
  },
  {
   "cell_type": "code",
   "execution_count": 28,
   "id": "17294dc8",
   "metadata": {},
   "outputs": [],
   "source": [
    "def clean_text(text):\n",
    "    text=araby.strip_diacritics(text) ## remove tashkeel\n",
    "    p_longation = re.compile(r'(.)\\1+') ## remove longation\n",
    "    subst = r\"\\1\\1\"\n",
    "    text = re.sub(p_longation, subst, text) \n",
    "    text = text.replace(\"ة\",\"ه\")\n",
    "    #text = text.replace(\"ي\",\"ى\")\n",
    "    text = text.replace(\"أ\",\"ا\")\n",
    "    text = text.replace(\"آ\",\"ا\")\n",
    "        \n",
    "    text = text.strip()\n",
    "    \n",
    "    return text"
   ]
  },
  {
   "cell_type": "code",
   "execution_count": 29,
   "id": "6f9d11a3",
   "metadata": {},
   "outputs": [
    {
     "data": {
      "text/plain": [
       "'اللهم اغفر لنا ولوالدينا'"
      ]
     },
     "execution_count": 29,
     "metadata": {},
     "output_type": "execute_result"
    }
   ],
   "source": [
    "clean_text(\"اللَّهمَّ اغْفِرْ لنَا ولوالدِينَا\")"
   ]
  },
  {
   "cell_type": "code",
   "execution_count": 30,
   "id": "f6eefa40",
   "metadata": {},
   "outputs": [],
   "source": [
    "def stemming(text):\n",
    "    ar_stemmer = SnowballStemmer(\"arabic\")\n",
    "    ar_stemmer.stem(text)\n",
    "    return text"
   ]
  },
  {
   "cell_type": "code",
   "execution_count": 31,
   "id": "e2d33a5c",
   "metadata": {},
   "outputs": [
    {
     "data": {
      "text/plain": [
       "'يجون يشوفون اللي باب السياره ناس تفتح'"
      ]
     },
     "execution_count": 31,
     "metadata": {},
     "output_type": "execute_result"
    }
   ],
   "source": [
    "stemming(remove_extra_white_spaces(separate_punc(clean_text(remove_stop_words('@bhmesh @Jordaniancitizn @Ahmadkh51210191 يجون يشوفون اللي عندنا حتى باب السياره له ناس تفتح لهم 😅')))))"
   ]
  },
  {
   "cell_type": "code",
   "execution_count": 32,
   "id": "aa891508",
   "metadata": {},
   "outputs": [],
   "source": [
    "df1['text_up1']=df1['text'].apply(remove_stop_words)"
   ]
  },
  {
   "cell_type": "code",
   "execution_count": 33,
   "id": "2607dc4f",
   "metadata": {},
   "outputs": [],
   "source": [
    "df1['text_up2']=df1['text_up1'].apply(clean_text)"
   ]
  },
  {
   "cell_type": "code",
   "execution_count": 34,
   "id": "0454751d",
   "metadata": {},
   "outputs": [],
   "source": [
    "df1['tokens1']=df1['text_up2'].apply(separate_punc)"
   ]
  },
  {
   "cell_type": "code",
   "execution_count": 35,
   "id": "b7d014cf",
   "metadata": {},
   "outputs": [],
   "source": [
    "df1['tokens2']=df1['tokens1'].apply(removeWeirdChars)"
   ]
  },
  {
   "cell_type": "code",
   "execution_count": 36,
   "id": "bc94862c",
   "metadata": {},
   "outputs": [],
   "source": [
    "df1['tokens3']=df1['tokens2'].apply(remove_common_words)"
   ]
  },
  {
   "cell_type": "code",
   "execution_count": 37,
   "id": "bb7aebc9",
   "metadata": {},
   "outputs": [],
   "source": [
    "df1['tokens4']=df1['tokens3'].apply(remove_extra_white_spaces)"
   ]
  },
  {
   "cell_type": "code",
   "execution_count": 38,
   "id": "f567632e",
   "metadata": {},
   "outputs": [],
   "source": [
    "df1['tokens']=df1['tokens4'].apply(stemming)"
   ]
  },
  {
   "cell_type": "code",
   "execution_count": 39,
   "id": "68b284c9",
   "metadata": {},
   "outputs": [
    {
     "data": {
      "text/html": [
       "<div>\n",
       "<style scoped>\n",
       "    .dataframe tbody tr th:only-of-type {\n",
       "        vertical-align: middle;\n",
       "    }\n",
       "\n",
       "    .dataframe tbody tr th {\n",
       "        vertical-align: top;\n",
       "    }\n",
       "\n",
       "    .dataframe thead th {\n",
       "        text-align: right;\n",
       "    }\n",
       "</style>\n",
       "<table border=\"1\" class=\"dataframe\">\n",
       "  <thead>\n",
       "    <tr style=\"text-align: right;\">\n",
       "      <th></th>\n",
       "      <th>id</th>\n",
       "      <th>text</th>\n",
       "      <th>dialect</th>\n",
       "      <th>text_up1</th>\n",
       "      <th>text_up2</th>\n",
       "      <th>tokens1</th>\n",
       "      <th>tokens2</th>\n",
       "      <th>tokens3</th>\n",
       "      <th>tokens4</th>\n",
       "      <th>tokens</th>\n",
       "    </tr>\n",
       "  </thead>\n",
       "  <tbody>\n",
       "    <tr>\n",
       "      <th>0</th>\n",
       "      <td>1175358310087892992</td>\n",
       "      <td>@Nw8ieJUwaCAAreT لكن بالنهاية .. ينتفض .. يغير .</td>\n",
       "      <td>IQ</td>\n",
       "      <td>@Nw8ieJUwaCAAreT بالنهاية .. ينتفض .. يغير .</td>\n",
       "      <td>@Nw8ieJUwaCAAreT بالنهايه .. ينتفض .. يغير .</td>\n",
       "      <td>بالنهايه    ينتفض    يغير</td>\n",
       "      <td>بالنهايه    ينتفض    يغير</td>\n",
       "      <td>بالنهايه    ينتفض    يغير</td>\n",
       "      <td>بالنهايه ينتفض يغير</td>\n",
       "      <td>بالنهايه ينتفض يغير</td>\n",
       "    </tr>\n",
       "    <tr>\n",
       "      <th>1</th>\n",
       "      <td>1175416117793349632</td>\n",
       "      <td>@7zNqXP0yrODdRjK يعني هذا محسوب على البشر .. ح...</td>\n",
       "      <td>IQ</td>\n",
       "      <td>@7zNqXP0yrODdRjK يعني محسوب البشر .. حيونه ووح...</td>\n",
       "      <td>@7zNqXP0yrODdRjK يعني محسوب البشر .. حيونه ووح...</td>\n",
       "      <td>يعني محسوب البشر    حيونه ووحشيه    وتطلبون ال...</td>\n",
       "      <td>يعني محسوب البشر    حيونه ووحشيه    وتطلبون ال...</td>\n",
       "      <td>يعني محسوب البشر    حيونه ووحشيه    وتطلبون ال...</td>\n",
       "      <td>يعني محسوب البشر حيونه ووحشيه وتطلبون الغرب يح...</td>\n",
       "      <td>يعني محسوب البشر حيونه ووحشيه وتطلبون الغرب يح...</td>\n",
       "    </tr>\n",
       "    <tr>\n",
       "      <th>2</th>\n",
       "      <td>1175450108898565888</td>\n",
       "      <td>@KanaanRema مبين من كلامه خليجي</td>\n",
       "      <td>IQ</td>\n",
       "      <td>@KanaanRema مبين كلامه خليجي</td>\n",
       "      <td>@KanaanRema مبين كلامه خليجي</td>\n",
       "      <td>مبين كلامه خليجي</td>\n",
       "      <td>مبين كلامه خليجي</td>\n",
       "      <td>مبين كلامه خليجي</td>\n",
       "      <td>مبين كلامه خليجي</td>\n",
       "      <td>مبين كلامه خليجي</td>\n",
       "    </tr>\n",
       "    <tr>\n",
       "      <th>3</th>\n",
       "      <td>1175471073770573824</td>\n",
       "      <td>@HAIDER76128900 يسلملي مرورك وروحك الحلوه💐</td>\n",
       "      <td>IQ</td>\n",
       "      <td>@HAIDER76128900 يسلملي مرورك وروحك الحلوه💐</td>\n",
       "      <td>@HAIDER76128900 يسلملي مرورك وروحك الحلوه💐</td>\n",
       "      <td>يسلملي مرورك وروحك الحلوه</td>\n",
       "      <td>يسلملي مرورك وروحك الحلوه</td>\n",
       "      <td>يسلملي مرورك وروحك الحلوه</td>\n",
       "      <td>يسلملي مرورك وروحك الحلوه</td>\n",
       "      <td>يسلملي مرورك وروحك الحلوه</td>\n",
       "    </tr>\n",
       "    <tr>\n",
       "      <th>4</th>\n",
       "      <td>1175496913145217024</td>\n",
       "      <td>@hmo2406 وين هل الغيبه  اخ محمد 🌸🌺</td>\n",
       "      <td>IQ</td>\n",
       "      <td>@hmo2406 وين الغيبه  اخ محمد 🌸🌺</td>\n",
       "      <td>@hmo2406 وين الغيبه  اخ محمد 🌸🌺</td>\n",
       "      <td>وين الغيبه  اخ محمد</td>\n",
       "      <td>وين الغيبه  اخ محمد</td>\n",
       "      <td>وين الغيبه  اخ محمد</td>\n",
       "      <td>وين الغيبه اخ محمد</td>\n",
       "      <td>وين الغيبه اخ محمد</td>\n",
       "    </tr>\n",
       "    <tr>\n",
       "      <th>...</th>\n",
       "      <td>...</td>\n",
       "      <td>...</td>\n",
       "      <td>...</td>\n",
       "      <td>...</td>\n",
       "      <td>...</td>\n",
       "      <td>...</td>\n",
       "      <td>...</td>\n",
       "      <td>...</td>\n",
       "      <td>...</td>\n",
       "      <td>...</td>\n",
       "    </tr>\n",
       "    <tr>\n",
       "      <th>458192</th>\n",
       "      <td>1019484980282580992</td>\n",
       "      <td>@Al_mhbaa_7 مبسوطين منك اللي باسطانا😅</td>\n",
       "      <td>BH</td>\n",
       "      <td>@Al_mhbaa_7 مبسوطين اللي باسطانا😅</td>\n",
       "      <td>@Al_mhbaa_7 مبسوطين اللي باسطانا😅</td>\n",
       "      <td>مبسوطين اللي باسطانا</td>\n",
       "      <td>مبسوطين اللي باسطانا</td>\n",
       "      <td>مبسوطين اللي باسطانا</td>\n",
       "      <td>مبسوطين اللي باسطانا</td>\n",
       "      <td>مبسوطين اللي باسطانا</td>\n",
       "    </tr>\n",
       "    <tr>\n",
       "      <th>458193</th>\n",
       "      <td>1021083283709407232</td>\n",
       "      <td>@Zzainabali @P_ameerah والله ماينده ابش يختي</td>\n",
       "      <td>BH</td>\n",
       "      <td>@Zzainabali @P_ameerah والله ماينده ابش يختي</td>\n",
       "      <td>@Zzainabali @P_ameerah والله ماينده ابش يختي</td>\n",
       "      <td>والله ماينده ابش يختي</td>\n",
       "      <td>والله ماينده ابش يختي</td>\n",
       "      <td>ماينده ابش يختي</td>\n",
       "      <td>ماينده ابش يختي</td>\n",
       "      <td>ماينده ابش يختي</td>\n",
       "    </tr>\n",
       "    <tr>\n",
       "      <th>458194</th>\n",
       "      <td>1017477537889431552</td>\n",
       "      <td>@Al_mhbaa_7 شو عملنا لك حنا تهربي مننا احنا مس...</td>\n",
       "      <td>BH</td>\n",
       "      <td>@Al_mhbaa_7 شو عملنا حنا تهربي احنا مساكين ليش...</td>\n",
       "      <td>@Al_mhbaa_7 شو عملنا حنا تهربي احنا مساكين ليش...</td>\n",
       "      <td>شو عملنا حنا تهربي احنا مساكين ليش بتعملي هيك</td>\n",
       "      <td>شو عملنا حنا تهربي احنا مساكين ليش بتعملي هيك</td>\n",
       "      <td>شو عملنا حنا تهربي احنا مساكين ليش بتعملي هيك</td>\n",
       "      <td>شو عملنا حنا تهربي احنا مساكين ليش بتعملي هيك</td>\n",
       "      <td>شو عملنا حنا تهربي احنا مساكين ليش بتعملي هيك</td>\n",
       "    </tr>\n",
       "    <tr>\n",
       "      <th>458195</th>\n",
       "      <td>1022430374696239232</td>\n",
       "      <td>@haneenalmwla الله يبارك فيها وبالعافيه 😋😋😋</td>\n",
       "      <td>BH</td>\n",
       "      <td>@haneenalmwla الله يبارك وبالعافيه 😋😋😋</td>\n",
       "      <td>@haneenalmwla الله يبارك وبالعافيه 😋😋</td>\n",
       "      <td>الله يبارك وبالعافيه</td>\n",
       "      <td>الله يبارك وبالعافيه</td>\n",
       "      <td>الله يبارك وبالعافيه</td>\n",
       "      <td>الله يبارك وبالعافيه</td>\n",
       "      <td>الله يبارك وبالعافيه</td>\n",
       "    </tr>\n",
       "    <tr>\n",
       "      <th>458196</th>\n",
       "      <td>1022409931029458944</td>\n",
       "      <td>@jolnar121 السحله ضيفي ي بتطلع لك سحليه😅😅</td>\n",
       "      <td>BH</td>\n",
       "      <td>@jolnar121 السحله ضيفي بتطلع سحليه😅😅</td>\n",
       "      <td>@jolnar121 السحله ضيفي بتطلع سحليه😅😅</td>\n",
       "      <td>السحله ضيفي بتطلع سحليه</td>\n",
       "      <td>السحله ضيفي بتطلع سحليه</td>\n",
       "      <td>السحله ضيفي بتطلع سحليه</td>\n",
       "      <td>السحله ضيفي بتطلع سحليه</td>\n",
       "      <td>السحله ضيفي بتطلع سحليه</td>\n",
       "    </tr>\n",
       "  </tbody>\n",
       "</table>\n",
       "<p>458197 rows × 10 columns</p>\n",
       "</div>"
      ],
      "text/plain": [
       "                         id  \\\n",
       "0       1175358310087892992   \n",
       "1       1175416117793349632   \n",
       "2       1175450108898565888   \n",
       "3       1175471073770573824   \n",
       "4       1175496913145217024   \n",
       "...                     ...   \n",
       "458192  1019484980282580992   \n",
       "458193  1021083283709407232   \n",
       "458194  1017477537889431552   \n",
       "458195  1022430374696239232   \n",
       "458196  1022409931029458944   \n",
       "\n",
       "                                                     text dialect  \\\n",
       "0        @Nw8ieJUwaCAAreT لكن بالنهاية .. ينتفض .. يغير .      IQ   \n",
       "1       @7zNqXP0yrODdRjK يعني هذا محسوب على البشر .. ح...      IQ   \n",
       "2                         @KanaanRema مبين من كلامه خليجي      IQ   \n",
       "3              @HAIDER76128900 يسلملي مرورك وروحك الحلوه💐      IQ   \n",
       "4                      @hmo2406 وين هل الغيبه  اخ محمد 🌸🌺      IQ   \n",
       "...                                                   ...     ...   \n",
       "458192              @Al_mhbaa_7 مبسوطين منك اللي باسطانا😅      BH   \n",
       "458193       @Zzainabali @P_ameerah والله ماينده ابش يختي      BH   \n",
       "458194  @Al_mhbaa_7 شو عملنا لك حنا تهربي مننا احنا مس...      BH   \n",
       "458195        @haneenalmwla الله يبارك فيها وبالعافيه 😋😋😋      BH   \n",
       "458196          @jolnar121 السحله ضيفي ي بتطلع لك سحليه😅😅      BH   \n",
       "\n",
       "                                                 text_up1  \\\n",
       "0            @Nw8ieJUwaCAAreT بالنهاية .. ينتفض .. يغير .   \n",
       "1       @7zNqXP0yrODdRjK يعني محسوب البشر .. حيونه ووح...   \n",
       "2                            @KanaanRema مبين كلامه خليجي   \n",
       "3              @HAIDER76128900 يسلملي مرورك وروحك الحلوه💐   \n",
       "4                         @hmo2406 وين الغيبه  اخ محمد 🌸🌺   \n",
       "...                                                   ...   \n",
       "458192                  @Al_mhbaa_7 مبسوطين اللي باسطانا😅   \n",
       "458193       @Zzainabali @P_ameerah والله ماينده ابش يختي   \n",
       "458194  @Al_mhbaa_7 شو عملنا حنا تهربي احنا مساكين ليش...   \n",
       "458195             @haneenalmwla الله يبارك وبالعافيه 😋😋😋   \n",
       "458196               @jolnar121 السحله ضيفي بتطلع سحليه😅😅   \n",
       "\n",
       "                                                 text_up2  \\\n",
       "0            @Nw8ieJUwaCAAreT بالنهايه .. ينتفض .. يغير .   \n",
       "1       @7zNqXP0yrODdRjK يعني محسوب البشر .. حيونه ووح...   \n",
       "2                            @KanaanRema مبين كلامه خليجي   \n",
       "3              @HAIDER76128900 يسلملي مرورك وروحك الحلوه💐   \n",
       "4                         @hmo2406 وين الغيبه  اخ محمد 🌸🌺   \n",
       "...                                                   ...   \n",
       "458192                  @Al_mhbaa_7 مبسوطين اللي باسطانا😅   \n",
       "458193       @Zzainabali @P_ameerah والله ماينده ابش يختي   \n",
       "458194  @Al_mhbaa_7 شو عملنا حنا تهربي احنا مساكين ليش...   \n",
       "458195              @haneenalmwla الله يبارك وبالعافيه 😋😋   \n",
       "458196               @jolnar121 السحله ضيفي بتطلع سحليه😅😅   \n",
       "\n",
       "                                                  tokens1  \\\n",
       "0                               بالنهايه    ينتفض    يغير   \n",
       "1       يعني محسوب البشر    حيونه ووحشيه    وتطلبون ال...   \n",
       "2                                        مبين كلامه خليجي   \n",
       "3                               يسلملي مرورك وروحك الحلوه   \n",
       "4                                     وين الغيبه  اخ محمد   \n",
       "...                                                   ...   \n",
       "458192                               مبسوطين اللي باسطانا   \n",
       "458193                              والله ماينده ابش يختي   \n",
       "458194      شو عملنا حنا تهربي احنا مساكين ليش بتعملي هيك   \n",
       "458195                               الله يبارك وبالعافيه   \n",
       "458196                            السحله ضيفي بتطلع سحليه   \n",
       "\n",
       "                                                  tokens2  \\\n",
       "0                               بالنهايه    ينتفض    يغير   \n",
       "1       يعني محسوب البشر    حيونه ووحشيه    وتطلبون ال...   \n",
       "2                                        مبين كلامه خليجي   \n",
       "3                               يسلملي مرورك وروحك الحلوه   \n",
       "4                                     وين الغيبه  اخ محمد   \n",
       "...                                                   ...   \n",
       "458192                               مبسوطين اللي باسطانا   \n",
       "458193                              والله ماينده ابش يختي   \n",
       "458194      شو عملنا حنا تهربي احنا مساكين ليش بتعملي هيك   \n",
       "458195                               الله يبارك وبالعافيه   \n",
       "458196                            السحله ضيفي بتطلع سحليه   \n",
       "\n",
       "                                                  tokens3  \\\n",
       "0                               بالنهايه    ينتفض    يغير   \n",
       "1       يعني محسوب البشر    حيونه ووحشيه    وتطلبون ال...   \n",
       "2                                        مبين كلامه خليجي   \n",
       "3                               يسلملي مرورك وروحك الحلوه   \n",
       "4                                     وين الغيبه  اخ محمد   \n",
       "...                                                   ...   \n",
       "458192                               مبسوطين اللي باسطانا   \n",
       "458193                                    ماينده ابش يختي   \n",
       "458194      شو عملنا حنا تهربي احنا مساكين ليش بتعملي هيك   \n",
       "458195                               الله يبارك وبالعافيه   \n",
       "458196                            السحله ضيفي بتطلع سحليه   \n",
       "\n",
       "                                                  tokens4  \\\n",
       "0                                     بالنهايه ينتفض يغير   \n",
       "1       يعني محسوب البشر حيونه ووحشيه وتطلبون الغرب يح...   \n",
       "2                                        مبين كلامه خليجي   \n",
       "3                               يسلملي مرورك وروحك الحلوه   \n",
       "4                                      وين الغيبه اخ محمد   \n",
       "...                                                   ...   \n",
       "458192                               مبسوطين اللي باسطانا   \n",
       "458193                                    ماينده ابش يختي   \n",
       "458194      شو عملنا حنا تهربي احنا مساكين ليش بتعملي هيك   \n",
       "458195                               الله يبارك وبالعافيه   \n",
       "458196                            السحله ضيفي بتطلع سحليه   \n",
       "\n",
       "                                                   tokens  \n",
       "0                                     بالنهايه ينتفض يغير  \n",
       "1       يعني محسوب البشر حيونه ووحشيه وتطلبون الغرب يح...  \n",
       "2                                        مبين كلامه خليجي  \n",
       "3                               يسلملي مرورك وروحك الحلوه  \n",
       "4                                      وين الغيبه اخ محمد  \n",
       "...                                                   ...  \n",
       "458192                               مبسوطين اللي باسطانا  \n",
       "458193                                    ماينده ابش يختي  \n",
       "458194      شو عملنا حنا تهربي احنا مساكين ليش بتعملي هيك  \n",
       "458195                               الله يبارك وبالعافيه  \n",
       "458196                            السحله ضيفي بتطلع سحليه  \n",
       "\n",
       "[458197 rows x 10 columns]"
      ]
     },
     "execution_count": 39,
     "metadata": {},
     "output_type": "execute_result"
    }
   ],
   "source": [
    "df1"
   ]
  },
  {
   "cell_type": "code",
   "execution_count": 40,
   "id": "98b0dad8",
   "metadata": {},
   "outputs": [
    {
     "data": {
      "text/plain": [
       "'@hmo2406 وين هل الغيبه  اخ محمد 🌸🌺'"
      ]
     },
     "execution_count": 40,
     "metadata": {},
     "output_type": "execute_result"
    }
   ],
   "source": [
    "df1['text'][4]"
   ]
  },
  {
   "cell_type": "code",
   "execution_count": 41,
   "id": "3b74eb90",
   "metadata": {},
   "outputs": [
    {
     "data": {
      "text/plain": [
       "'وين الغيبه اخ محمد'"
      ]
     },
     "execution_count": 41,
     "metadata": {},
     "output_type": "execute_result"
    }
   ],
   "source": [
    "df1['tokens'][4]"
   ]
  },
  {
   "cell_type": "markdown",
   "id": "97a7d752",
   "metadata": {},
   "source": [
    "### compute the average of number of words for each dialect"
   ]
  },
  {
   "cell_type": "code",
   "execution_count": 42,
   "id": "d663e598",
   "metadata": {},
   "outputs": [
    {
     "name": "stdout",
     "output_type": "stream",
     "text": [
      "the mean of number of words for EG is 12.404486779096398\n",
      "the mean of number of words for PL is 9.572264642677519\n",
      "the mean of number of words for KW is 11.71690137500297\n",
      "the mean of number of words for LY is 10.084796843749144\n",
      "the mean of number of words for QA is 12.235025266342657\n",
      "the mean of number of words for JO is 9.83367357902654\n",
      "the mean of number of words for LB is 11.266068001593222\n",
      "the mean of number of words for SA is 11.254025044722718\n",
      "the mean of number of words for AE is 11.025935503498632\n",
      "the mean of number of words for BH is 9.827780313403316\n",
      "the mean of number of words for OM is 9.1476250261561\n",
      "the mean of number of words for SY is 9.832286664203917\n",
      "the mean of number of words for DZ is 10.36699005128839\n",
      "the mean of number of words for IQ is 9.88733303219978\n",
      "the mean of number of words for SD is 11.341208258279064\n",
      "the mean of number of words for MA is 10.342923996880145\n",
      "the mean of number of words for YE is 9.532587891608744\n",
      "the mean of number of words for TN is 11.45403417694138\n"
     ]
    }
   ],
   "source": [
    "df1['word_count'] = df1['tokens'].apply(lambda x: len(str(x).split())) \n",
    "print(\"the mean of number of words for EG is\"+\" \"+str(df1[df1['dialect']=='EG']['word_count'].mean())) #EG TEXT\n",
    "print(\"the mean of number of words for PL is\"+\" \"+str(df1[df1['dialect']=='PL']['word_count'].mean())) #PL TEXT\n",
    "print(\"the mean of number of words for KW is\"+\" \"+str(df1[df1['dialect']=='KW']['word_count'].mean())) #KW TEXT\n",
    "print(\"the mean of number of words for LY is\"+\" \"+str(df1[df1['dialect']=='LY']['word_count'].mean())) #LY TEXT\n",
    "print(\"the mean of number of words for QA is\"+\" \"+str(df1[df1['dialect']=='QA']['word_count'].mean())) #QA TEXT\n",
    "print(\"the mean of number of words for JO is\"+\" \"+str(df1[df1['dialect']=='JO']['word_count'].mean())) #JO TEXT\n",
    "print(\"the mean of number of words for LB is\"+\" \"+str(df1[df1['dialect']=='LB']['word_count'].mean())) #LB TEXT\n",
    "print(\"the mean of number of words for SA is\"+\" \"+str(df1[df1['dialect']=='SA']['word_count'].mean())) #SA TEXT\n",
    "print(\"the mean of number of words for AE is\"+\" \"+str(df1[df1['dialect']=='AE']['word_count'].mean())) #AE TEXT\n",
    "print(\"the mean of number of words for BH is\"+\" \"+str(df1[df1['dialect']=='BH']['word_count'].mean())) #BH TEXT\n",
    "print(\"the mean of number of words for OM is\"+\" \"+str(df1[df1['dialect']=='OM']['word_count'].mean())) #OM TEXT\n",
    "print(\"the mean of number of words for SY is\"+\" \"+str(df1[df1['dialect']=='SY']['word_count'].mean())) #SY TEXT\n",
    "print(\"the mean of number of words for DZ is\"+\" \"+str(df1[df1['dialect']=='DZ']['word_count'].mean())) #DZ TEXT\n",
    "print(\"the mean of number of words for IQ is\"+\" \"+str(df1[df1['dialect']=='IQ']['word_count'].mean())) #IQ TEXT\n",
    "print(\"the mean of number of words for SD is\"+\" \"+str(df1[df1['dialect']=='SD']['word_count'].mean())) #SD TEXT\n",
    "print(\"the mean of number of words for MA is\"+\" \"+str(df1[df1['dialect']=='MA']['word_count'].mean())) #MA TEXT\n",
    "print(\"the mean of number of words for YE is\"+\" \"+str(df1[df1['dialect']=='YE']['word_count'].mean())) #YE TEXT\n",
    "print(\"the mean of number of words for TN is\"+\" \"+str(df1[df1['dialect']=='TN']['word_count'].mean())) #TN TEXT"
   ]
  },
  {
   "cell_type": "markdown",
   "id": "5ffce5a3",
   "metadata": {},
   "source": [
    "## Divide the dataframe into 5 dataframes \n",
    "### 1- df_maghreb for maghrab group which contains 4 subgroups DZ,TN,MA,and LY\n",
    "### 2- df_nile_basin for nile basin group which contains 2 subgroups EG,SD\n",
    "### 3- df_levant for levant group which contains 4 subgroups SY,JO,LB,and PL\n",
    "### 4- df_gulf for gulf group which contains 6 subgroups 'KW', 'QA', 'SA', 'AE', 'BH',and 'OM'\n",
    "### 5- df_main contains maghreb,nile_basin,levant,gulf,IQ,and YE"
   ]
  },
  {
   "cell_type": "code",
   "execution_count": 43,
   "id": "a142bf53",
   "metadata": {},
   "outputs": [],
   "source": [
    "df2=df1[['tokens','dialect']]"
   ]
  },
  {
   "cell_type": "code",
   "execution_count": 44,
   "id": "d278a83c",
   "metadata": {},
   "outputs": [
    {
     "name": "stdout",
     "output_type": "stream",
     "text": [
      "[2793, 4457, 4458, 5611, 11433, 11434, 14196, 18586, 18608, 19488, 22372, 23903, 24414, 32455, 33021, 33194, 35881, 39523, 40678, 40981, 41041, 41080, 44642, 44797, 46403, 52716, 64546, 64556, 82978, 91890, 95884, 99772, 100396, 100408, 100428, 111761, 116966, 120209, 129423, 132982, 134108, 134120, 137565, 137737, 140234, 141413, 148127, 150371, 152576, 156809, 157101, 157353, 161164, 162592, 162806, 167097, 168197, 169986, 170243, 175243, 175248, 175249, 175252, 175258, 175371, 182515, 182937, 188667, 193781, 212439, 218121, 218162, 221384, 223296, 223794, 223808, 223813, 226782, 226876, 236356, 240096, 261418, 288194, 288257, 288304, 291784, 291976, 297057, 297071, 297081, 297142, 297157, 297164, 297170, 297185, 299430, 304205, 323414, 330288, 340666, 351869, 351984, 355920, 368871, 375834, 377235, 381985, 384406, 386899, 387429, 388765, 391808, 391809, 391810, 391848, 391849, 391850, 391907, 391908, 391923, 391930, 391931, 391951, 391958, 391960, 391961, 391962, 392353, 393059, 393060, 393650, 394077, 394657, 395432, 398681, 398682, 398693, 398701, 398723, 400641, 403104, 403114, 403538, 403631, 404160, 404161, 404162, 404472, 415535, 425603, 426770, 432264, 440106, 447239, 447691, 450634, 456864]\n"
     ]
    },
    {
     "name": "stderr",
     "output_type": "stream",
     "text": [
      "D:\\anaconda1\\lib\\site-packages\\pandas\\core\\frame.py:4906: SettingWithCopyWarning: \n",
      "A value is trying to be set on a copy of a slice from a DataFrame\n",
      "\n",
      "See the caveats in the documentation: https://pandas.pydata.org/pandas-docs/stable/user_guide/indexing.html#returning-a-view-versus-a-copy\n",
      "  return super().drop(\n"
     ]
    }
   ],
   "source": [
    "#df1.loc[df1['tokens']==' ']\n",
    "blanks=[]\n",
    "for row,row1,row2 in df2.itertuples():\n",
    "    if row1.isspace() or row1=='':\n",
    "        blanks.append(row)\n",
    "print(blanks)\n",
    "df2.drop(blanks, axis=0, inplace=True)"
   ]
  },
  {
   "cell_type": "code",
   "execution_count": 45,
   "id": "406596b1",
   "metadata": {},
   "outputs": [
    {
     "data": {
      "text/html": [
       "<div>\n",
       "<style scoped>\n",
       "    .dataframe tbody tr th:only-of-type {\n",
       "        vertical-align: middle;\n",
       "    }\n",
       "\n",
       "    .dataframe tbody tr th {\n",
       "        vertical-align: top;\n",
       "    }\n",
       "\n",
       "    .dataframe thead th {\n",
       "        text-align: right;\n",
       "    }\n",
       "</style>\n",
       "<table border=\"1\" class=\"dataframe\">\n",
       "  <thead>\n",
       "    <tr style=\"text-align: right;\">\n",
       "      <th></th>\n",
       "      <th>tokens</th>\n",
       "      <th>dialect</th>\n",
       "    </tr>\n",
       "  </thead>\n",
       "  <tbody>\n",
       "  </tbody>\n",
       "</table>\n",
       "</div>"
      ],
      "text/plain": [
       "Empty DataFrame\n",
       "Columns: [tokens, dialect]\n",
       "Index: []"
      ]
     },
     "execution_count": 45,
     "metadata": {},
     "output_type": "execute_result"
    }
   ],
   "source": [
    "df2.loc[df2['tokens']==' ']"
   ]
  },
  {
   "cell_type": "markdown",
   "id": "513513c1",
   "metadata": {},
   "source": [
    "## Maghreb"
   ]
  },
  {
   "cell_type": "code",
   "execution_count": 46,
   "id": "79705049",
   "metadata": {},
   "outputs": [],
   "source": [
    "df_Maghreb=df2.loc[(df2['dialect']=='DZ') | (df2['dialect']=='TN') | (df2['dialect']=='MA') | (df2['dialect']=='LY')]"
   ]
  },
  {
   "cell_type": "code",
   "execution_count": 47,
   "id": "e3f7d604",
   "metadata": {},
   "outputs": [
    {
     "data": {
      "text/html": [
       "<div>\n",
       "<style scoped>\n",
       "    .dataframe tbody tr th:only-of-type {\n",
       "        vertical-align: middle;\n",
       "    }\n",
       "\n",
       "    .dataframe tbody tr th {\n",
       "        vertical-align: top;\n",
       "    }\n",
       "\n",
       "    .dataframe thead th {\n",
       "        text-align: right;\n",
       "    }\n",
       "</style>\n",
       "<table border=\"1\" class=\"dataframe\">\n",
       "  <thead>\n",
       "    <tr style=\"text-align: right;\">\n",
       "      <th></th>\n",
       "      <th>tokens</th>\n",
       "      <th>dialect</th>\n",
       "    </tr>\n",
       "  </thead>\n",
       "  <tbody>\n",
       "    <tr>\n",
       "      <th>15497</th>\n",
       "      <td>قليلين ادب ومنافقين اختهم او قريبتهم تتعاكس تق...</td>\n",
       "      <td>LY</td>\n",
       "    </tr>\n",
       "    <tr>\n",
       "      <th>15498</th>\n",
       "      <td>الليبيين متقلبين بس بالنسبه ليا انا ميليشياوي ...</td>\n",
       "      <td>LY</td>\n",
       "    </tr>\n",
       "    <tr>\n",
       "      <th>15499</th>\n",
       "      <td>تانيه شاب ليبي بيرتاح لبنت مختلفه ويلاحظ انها ...</td>\n",
       "      <td>LY</td>\n",
       "    </tr>\n",
       "    <tr>\n",
       "      <th>15500</th>\n",
       "      <td>رانيا عقليتك متخلفه اولا الانسان يلي يحتاج اهل...</td>\n",
       "      <td>LY</td>\n",
       "    </tr>\n",
       "    <tr>\n",
       "      <th>15501</th>\n",
       "      <td>شكلك متعقده علشان الراجل تحبيه ازوج بنت يتيمه ...</td>\n",
       "      <td>LY</td>\n",
       "    </tr>\n",
       "    <tr>\n",
       "      <th>...</th>\n",
       "      <td>...</td>\n",
       "      <td>...</td>\n",
       "    </tr>\n",
       "    <tr>\n",
       "      <th>244692</th>\n",
       "      <td>المعلومه غلط انا ماشفتك الا ورى</td>\n",
       "      <td>DZ</td>\n",
       "    </tr>\n",
       "    <tr>\n",
       "      <th>244693</th>\n",
       "      <td>السلام يا حلوين مين يشرب</td>\n",
       "      <td>DZ</td>\n",
       "    </tr>\n",
       "    <tr>\n",
       "      <th>244694</th>\n",
       "      <td>ابكي لصبح مراح تروحي</td>\n",
       "      <td>DZ</td>\n",
       "    </tr>\n",
       "    <tr>\n",
       "      <th>244695</th>\n",
       "      <td>ارحموا عزيز قوم ذل</td>\n",
       "      <td>DZ</td>\n",
       "    </tr>\n",
       "    <tr>\n",
       "      <th>244696</th>\n",
       "      <td>ساهم الفوز بالليغا والكاس</td>\n",
       "      <td>DZ</td>\n",
       "    </tr>\n",
       "  </tbody>\n",
       "</table>\n",
       "<p>73442 rows × 2 columns</p>\n",
       "</div>"
      ],
      "text/plain": [
       "                                                   tokens dialect\n",
       "15497   قليلين ادب ومنافقين اختهم او قريبتهم تتعاكس تق...      LY\n",
       "15498   الليبيين متقلبين بس بالنسبه ليا انا ميليشياوي ...      LY\n",
       "15499   تانيه شاب ليبي بيرتاح لبنت مختلفه ويلاحظ انها ...      LY\n",
       "15500   رانيا عقليتك متخلفه اولا الانسان يلي يحتاج اهل...      LY\n",
       "15501   شكلك متعقده علشان الراجل تحبيه ازوج بنت يتيمه ...      LY\n",
       "...                                                   ...     ...\n",
       "244692                    المعلومه غلط انا ماشفتك الا ورى      DZ\n",
       "244693                           السلام يا حلوين مين يشرب      DZ\n",
       "244694                               ابكي لصبح مراح تروحي      DZ\n",
       "244695                                 ارحموا عزيز قوم ذل      DZ\n",
       "244696                          ساهم الفوز بالليغا والكاس      DZ\n",
       "\n",
       "[73442 rows x 2 columns]"
      ]
     },
     "execution_count": 47,
     "metadata": {},
     "output_type": "execute_result"
    }
   ],
   "source": [
    "df_Maghreb"
   ]
  },
  {
   "cell_type": "code",
   "execution_count": 48,
   "id": "d50f66d7",
   "metadata": {},
   "outputs": [
    {
     "data": {
      "text/plain": [
       "tokens     0\n",
       "dialect    0\n",
       "dtype: int64"
      ]
     },
     "execution_count": 48,
     "metadata": {},
     "output_type": "execute_result"
    }
   ],
   "source": [
    "df_Maghreb.isnull().sum()"
   ]
  },
  {
   "cell_type": "code",
   "execution_count": 49,
   "id": "ee0bacd3",
   "metadata": {},
   "outputs": [
    {
     "name": "stdout",
     "output_type": "stream",
     "text": [
      "Index(['LY', 'DZ', 'MA', 'TN'], dtype='object')\n"
     ]
    },
    {
     "name": "stderr",
     "output_type": "stream",
     "text": [
      "D:\\anaconda1\\lib\\site-packages\\seaborn\\_decorators.py:36: FutureWarning: Pass the following variables as keyword args: x, y. From version 0.12, the only valid positional argument will be `data`, and passing other arguments without an explicit keyword will result in an error or misinterpretation.\n",
      "  warnings.warn(\n"
     ]
    },
    {
     "data": {
      "text/plain": [
       "<AxesSubplot:ylabel='dialect'>"
      ]
     },
     "execution_count": 49,
     "metadata": {},
     "output_type": "execute_result"
    },
    {
     "data": {
      "image/png": "[encoded data removed]",
      "text/plain": [
       "<Figure size 432x288 with 1 Axes>"
      ]
     },
     "metadata": {
      "needs_background": "light"
     },
     "output_type": "display_data"
    }
   ],
   "source": [
    "x=df_Maghreb['dialect'].value_counts()\n",
    "print(x.index)\n",
    "sns.barplot(x.index,x)"
   ]
  },
  {
   "cell_type": "code",
   "execution_count": 50,
   "id": "ac62b2d0",
   "metadata": {},
   "outputs": [],
   "source": [
    "df_Maghreb.to_excel('data_maghreb.xlsx')"
   ]
  },
  {
   "cell_type": "markdown",
   "id": "b5b9210b",
   "metadata": {},
   "source": [
    "## Nile_Basin"
   ]
  },
  {
   "cell_type": "code",
   "execution_count": 51,
   "id": "60cfbcee",
   "metadata": {},
   "outputs": [],
   "source": [
    "df_nile_basin=df2.loc[(df2['dialect']=='SD') | (df2['dialect']=='EG')]"
   ]
  },
  {
   "cell_type": "code",
   "execution_count": 52,
   "id": "ea9b1cfb",
   "metadata": {},
   "outputs": [
    {
     "data": {
      "text/html": [
       "<div>\n",
       "<style scoped>\n",
       "    .dataframe tbody tr th:only-of-type {\n",
       "        vertical-align: middle;\n",
       "    }\n",
       "\n",
       "    .dataframe tbody tr th {\n",
       "        vertical-align: top;\n",
       "    }\n",
       "\n",
       "    .dataframe thead th {\n",
       "        text-align: right;\n",
       "    }\n",
       "</style>\n",
       "<table border=\"1\" class=\"dataframe\">\n",
       "  <thead>\n",
       "    <tr style=\"text-align: right;\">\n",
       "      <th></th>\n",
       "      <th>tokens</th>\n",
       "      <th>dialect</th>\n",
       "    </tr>\n",
       "  </thead>\n",
       "  <tbody>\n",
       "    <tr>\n",
       "      <th>244697</th>\n",
       "      <td>الاقيش معاك الف يا عم نجيب قرض حسن ابدا بيهم ح...</td>\n",
       "      <td>EG</td>\n",
       "    </tr>\n",
       "    <tr>\n",
       "      <th>244698</th>\n",
       "      <td>انت بتفهم كنت بقيت زملكاوي</td>\n",
       "      <td>EG</td>\n",
       "    </tr>\n",
       "    <tr>\n",
       "      <th>244699</th>\n",
       "      <td>ولولوا وسكتوا</td>\n",
       "      <td>EG</td>\n",
       "    </tr>\n",
       "    <tr>\n",
       "      <th>244700</th>\n",
       "      <td>واحده عشان بواب ملكش عازه</td>\n",
       "      <td>EG</td>\n",
       "    </tr>\n",
       "    <tr>\n",
       "      <th>244701</th>\n",
       "      <td>جنسيتك ايه ده انت صهيوني مش هتقول كده</td>\n",
       "      <td>EG</td>\n",
       "    </tr>\n",
       "    <tr>\n",
       "      <th>...</th>\n",
       "      <td>...</td>\n",
       "      <td>...</td>\n",
       "    </tr>\n",
       "    <tr>\n",
       "      <th>405604</th>\n",
       "      <td>الناس دي بتنفخ قربه مقدوده بالدارجي كده البلد ...</td>\n",
       "      <td>SD</td>\n",
       "    </tr>\n",
       "    <tr>\n",
       "      <th>405605</th>\n",
       "      <td>انت عايش وين بره السودان شنو ماشايف البحصل دا</td>\n",
       "      <td>SD</td>\n",
       "    </tr>\n",
       "    <tr>\n",
       "      <th>405606</th>\n",
       "      <td>مااحرم ميسي حريف ولعاب برضو مدريدي وافتخر</td>\n",
       "      <td>SD</td>\n",
       "    </tr>\n",
       "    <tr>\n",
       "      <th>405607</th>\n",
       "      <td>ياخي ديل ماخلو للشيطان وإبليس شي يروحو وين ربن...</td>\n",
       "      <td>SD</td>\n",
       "    </tr>\n",
       "    <tr>\n",
       "      <th>405608</th>\n",
       "      <td>النبي صدمتني ياخي عاوز تعويض</td>\n",
       "      <td>SD</td>\n",
       "    </tr>\n",
       "  </tbody>\n",
       "</table>\n",
       "<p>72018 rows × 2 columns</p>\n",
       "</div>"
      ],
      "text/plain": [
       "                                                   tokens dialect\n",
       "244697  الاقيش معاك الف يا عم نجيب قرض حسن ابدا بيهم ح...      EG\n",
       "244698                         انت بتفهم كنت بقيت زملكاوي      EG\n",
       "244699                                      ولولوا وسكتوا      EG\n",
       "244700                          واحده عشان بواب ملكش عازه      EG\n",
       "244701              جنسيتك ايه ده انت صهيوني مش هتقول كده      EG\n",
       "...                                                   ...     ...\n",
       "405604  الناس دي بتنفخ قربه مقدوده بالدارجي كده البلد ...      SD\n",
       "405605      انت عايش وين بره السودان شنو ماشايف البحصل دا      SD\n",
       "405606          مااحرم ميسي حريف ولعاب برضو مدريدي وافتخر      SD\n",
       "405607  ياخي ديل ماخلو للشيطان وإبليس شي يروحو وين ربن...      SD\n",
       "405608                       النبي صدمتني ياخي عاوز تعويض      SD\n",
       "\n",
       "[72018 rows x 2 columns]"
      ]
     },
     "execution_count": 52,
     "metadata": {},
     "output_type": "execute_result"
    }
   ],
   "source": [
    "df_nile_basin"
   ]
  },
  {
   "cell_type": "code",
   "execution_count": 53,
   "id": "b2f82021",
   "metadata": {},
   "outputs": [
    {
     "name": "stdout",
     "output_type": "stream",
     "text": [
      "Index(['EG', 'SD'], dtype='object')\n"
     ]
    },
    {
     "name": "stderr",
     "output_type": "stream",
     "text": [
      "D:\\anaconda1\\lib\\site-packages\\seaborn\\_decorators.py:36: FutureWarning: Pass the following variables as keyword args: x, y. From version 0.12, the only valid positional argument will be `data`, and passing other arguments without an explicit keyword will result in an error or misinterpretation.\n",
      "  warnings.warn(\n"
     ]
    },
    {
     "data": {
      "text/plain": [
       "<AxesSubplot:ylabel='dialect'>"
      ]
     },
     "execution_count": 53,
     "metadata": {},
     "output_type": "execute_result"
    },
    {
     "data": {
      "image/png": "[encoded data removed]",
      "text/plain": [
       "<Figure size 432x288 with 1 Axes>"
      ]
     },
     "metadata": {
      "needs_background": "light"
     },
     "output_type": "display_data"
    }
   ],
   "source": [
    "x=df_nile_basin['dialect'].value_counts()\n",
    "print(x.index)\n",
    "sns.barplot(x.index,x)"
   ]
  },
  {
   "cell_type": "code",
   "execution_count": 54,
   "id": "9504a781",
   "metadata": {},
   "outputs": [],
   "source": [
    "df_nile_basin.to_excel(\"data_nile_basin.xlsx\")"
   ]
  },
  {
   "cell_type": "markdown",
   "id": "f53f972b",
   "metadata": {},
   "source": [
    "## Levant"
   ]
  },
  {
   "cell_type": "code",
   "execution_count": 55,
   "id": "35ff4680",
   "metadata": {},
   "outputs": [],
   "source": [
    "df_levant=df2.loc[(df2['dialect']=='LB') | (df2['dialect']=='JO') | (df2['dialect']=='PL') | (df2['dialect']=='SY')]"
   ]
  },
  {
   "cell_type": "code",
   "execution_count": 56,
   "id": "ca39986c",
   "metadata": {},
   "outputs": [
    {
     "data": {
      "text/html": [
       "<div>\n",
       "<style scoped>\n",
       "    .dataframe tbody tr th:only-of-type {\n",
       "        vertical-align: middle;\n",
       "    }\n",
       "\n",
       "    .dataframe tbody tr th {\n",
       "        vertical-align: top;\n",
       "    }\n",
       "\n",
       "    .dataframe thead th {\n",
       "        text-align: right;\n",
       "    }\n",
       "</style>\n",
       "<table border=\"1\" class=\"dataframe\">\n",
       "  <thead>\n",
       "    <tr style=\"text-align: right;\">\n",
       "      <th></th>\n",
       "      <th>tokens</th>\n",
       "      <th>dialect</th>\n",
       "    </tr>\n",
       "  </thead>\n",
       "  <tbody>\n",
       "    <tr>\n",
       "      <th>83065</th>\n",
       "      <td>جمعتهم بالصرمايه عصبن شارب عادل الجبير</td>\n",
       "      <td>PL</td>\n",
       "    </tr>\n",
       "    <tr>\n",
       "      <th>83066</th>\n",
       "      <td>سود الله وجه ال سعود زراق وحوههم</td>\n",
       "      <td>PL</td>\n",
       "    </tr>\n",
       "    <tr>\n",
       "      <th>83067</th>\n",
       "      <td>كلام الليل مدهون بزبده وان طلع النهار بسسيح</td>\n",
       "      <td>PL</td>\n",
       "    </tr>\n",
       "    <tr>\n",
       "      <th>83068</th>\n",
       "      <td>مين الي شاغل بالك سميرا يا صغيره عبر</td>\n",
       "      <td>PL</td>\n",
       "    </tr>\n",
       "    <tr>\n",
       "      <th>83069</th>\n",
       "      <td>منصوره</td>\n",
       "      <td>PL</td>\n",
       "    </tr>\n",
       "    <tr>\n",
       "      <th>...</th>\n",
       "      <td>...</td>\n",
       "      <td>...</td>\n",
       "    </tr>\n",
       "    <tr>\n",
       "      <th>329945</th>\n",
       "      <td>خائن حبيب صار الوقت</td>\n",
       "      <td>LB</td>\n",
       "    </tr>\n",
       "    <tr>\n",
       "      <th>329946</th>\n",
       "      <td>المقاومه باقيه باقيه باقيه صوت المقاومه وصداها</td>\n",
       "      <td>LB</td>\n",
       "    </tr>\n",
       "    <tr>\n",
       "      <th>329947</th>\n",
       "      <td>ليش بتزلو عالضاحيه نمر زرقا عم تشتغل تاكسي</td>\n",
       "      <td>LB</td>\n",
       "    </tr>\n",
       "    <tr>\n",
       "      <th>329948</th>\n",
       "      <td>بحبك بس بعرف مش الي</td>\n",
       "      <td>LB</td>\n",
       "    </tr>\n",
       "    <tr>\n",
       "      <th>329949</th>\n",
       "      <td>الحمدلله وعايشين احلى حياه عايزين سعوديه اهلها</td>\n",
       "      <td>LB</td>\n",
       "    </tr>\n",
       "  </tbody>\n",
       "</table>\n",
       "<p>115486 rows × 2 columns</p>\n",
       "</div>"
      ],
      "text/plain": [
       "                                                tokens dialect\n",
       "83065           جمعتهم بالصرمايه عصبن شارب عادل الجبير      PL\n",
       "83066                 سود الله وجه ال سعود زراق وحوههم      PL\n",
       "83067      كلام الليل مدهون بزبده وان طلع النهار بسسيح      PL\n",
       "83068             مين الي شاغل بالك سميرا يا صغيره عبر      PL\n",
       "83069                                          منصوره       PL\n",
       "...                                                ...     ...\n",
       "329945                             خائن حبيب صار الوقت      LB\n",
       "329946  المقاومه باقيه باقيه باقيه صوت المقاومه وصداها      LB\n",
       "329947      ليش بتزلو عالضاحيه نمر زرقا عم تشتغل تاكسي      LB\n",
       "329948                             بحبك بس بعرف مش الي      LB\n",
       "329949  الحمدلله وعايشين احلى حياه عايزين سعوديه اهلها      LB\n",
       "\n",
       "[115486 rows x 2 columns]"
      ]
     },
     "execution_count": 56,
     "metadata": {},
     "output_type": "execute_result"
    }
   ],
   "source": [
    "df_levant"
   ]
  },
  {
   "cell_type": "code",
   "execution_count": 57,
   "id": "d1705e86",
   "metadata": {},
   "outputs": [
    {
     "name": "stdout",
     "output_type": "stream",
     "text": [
      "Index(['PL', 'JO', 'LB', 'SY'], dtype='object')\n"
     ]
    },
    {
     "name": "stderr",
     "output_type": "stream",
     "text": [
      "D:\\anaconda1\\lib\\site-packages\\seaborn\\_decorators.py:36: FutureWarning: Pass the following variables as keyword args: x, y. From version 0.12, the only valid positional argument will be `data`, and passing other arguments without an explicit keyword will result in an error or misinterpretation.\n",
      "  warnings.warn(\n"
     ]
    },
    {
     "data": {
      "text/plain": [
       "<AxesSubplot:ylabel='dialect'>"
      ]
     },
     "execution_count": 57,
     "metadata": {},
     "output_type": "execute_result"
    },
    {
     "data": {
      "image/png": "[encoded data removed]",
      "text/plain": [
       "<Figure size 432x288 with 1 Axes>"
      ]
     },
     "metadata": {
      "needs_background": "light"
     },
     "output_type": "display_data"
    }
   ],
   "source": [
    "x=df_levant['dialect'].value_counts()\n",
    "print(x.index)\n",
    "sns.barplot(x.index,x)"
   ]
  },
  {
   "cell_type": "code",
   "execution_count": 58,
   "id": "6649f93f",
   "metadata": {},
   "outputs": [],
   "source": [
    "df_levant.to_excel(\"data_levant.xlsx\")"
   ]
  },
  {
   "cell_type": "markdown",
   "id": "9ab84b52",
   "metadata": {},
   "source": [
    "## Gulf"
   ]
  },
  {
   "cell_type": "code",
   "execution_count": 59,
   "id": "05ffd77c",
   "metadata": {},
   "outputs": [],
   "source": [
    "df_gulf=df2.loc[(df2['dialect']=='SA') | (df2['dialect']=='BH') | (df2['dialect']=='AE') | (df2['dialect']=='QA') | (df2['dialect']=='KW') | (df2['dialect']=='OM')]"
   ]
  },
  {
   "cell_type": "code",
   "execution_count": 60,
   "id": "a84353b6",
   "metadata": {},
   "outputs": [
    {
     "data": {
      "text/html": [
       "<div>\n",
       "<style scoped>\n",
       "    .dataframe tbody tr th:only-of-type {\n",
       "        vertical-align: middle;\n",
       "    }\n",
       "\n",
       "    .dataframe tbody tr th {\n",
       "        vertical-align: top;\n",
       "    }\n",
       "\n",
       "    .dataframe thead th {\n",
       "        text-align: right;\n",
       "    }\n",
       "</style>\n",
       "<table border=\"1\" class=\"dataframe\">\n",
       "  <thead>\n",
       "    <tr style=\"text-align: right;\">\n",
       "      <th></th>\n",
       "      <th>tokens</th>\n",
       "      <th>dialect</th>\n",
       "    </tr>\n",
       "  </thead>\n",
       "  <tbody>\n",
       "    <tr>\n",
       "      <th>51996</th>\n",
       "      <td>شفتك حاط صوره ولد النعاشه النجس وانا غاسل يدي ...</td>\n",
       "      <td>QA</td>\n",
       "    </tr>\n",
       "    <tr>\n",
       "      <th>51997</th>\n",
       "      <td>محد داس طرف يالذنب وش جابك تغريده لتاج راسك تم...</td>\n",
       "      <td>QA</td>\n",
       "    </tr>\n",
       "    <tr>\n",
       "      <th>51998</th>\n",
       "      <td>وين انت رايح يابن حجيلان التزم الصمت لان ملك ا...</td>\n",
       "      <td>QA</td>\n",
       "    </tr>\n",
       "    <tr>\n",
       "      <th>51999</th>\n",
       "      <td>ياخي انت ماتتوب انا قايلك اشوفك بتغريده تخص شي...</td>\n",
       "      <td>QA</td>\n",
       "    </tr>\n",
       "    <tr>\n",
       "      <th>52000</th>\n",
       "      <td>قلتها يالسلوقي الف مره لاكن الانجاس ماتتوب عدت...</td>\n",
       "      <td>QA</td>\n",
       "    </tr>\n",
       "    <tr>\n",
       "      <th>...</th>\n",
       "      <td>...</td>\n",
       "      <td>...</td>\n",
       "    </tr>\n",
       "    <tr>\n",
       "      <th>458192</th>\n",
       "      <td>مبسوطين اللي باسطانا</td>\n",
       "      <td>BH</td>\n",
       "    </tr>\n",
       "    <tr>\n",
       "      <th>458193</th>\n",
       "      <td>ماينده ابش يختي</td>\n",
       "      <td>BH</td>\n",
       "    </tr>\n",
       "    <tr>\n",
       "      <th>458194</th>\n",
       "      <td>شو عملنا حنا تهربي احنا مساكين ليش بتعملي هيك</td>\n",
       "      <td>BH</td>\n",
       "    </tr>\n",
       "    <tr>\n",
       "      <th>458195</th>\n",
       "      <td>الله يبارك وبالعافيه</td>\n",
       "      <td>BH</td>\n",
       "    </tr>\n",
       "    <tr>\n",
       "      <th>458196</th>\n",
       "      <td>السحله ضيفي بتطلع سحليه</td>\n",
       "      <td>BH</td>\n",
       "    </tr>\n",
       "  </tbody>\n",
       "</table>\n",
       "<p>171684 rows × 2 columns</p>\n",
       "</div>"
      ],
      "text/plain": [
       "                                                   tokens dialect\n",
       "51996   شفتك حاط صوره ولد النعاشه النجس وانا غاسل يدي ...      QA\n",
       "51997   محد داس طرف يالذنب وش جابك تغريده لتاج راسك تم...      QA\n",
       "51998   وين انت رايح يابن حجيلان التزم الصمت لان ملك ا...      QA\n",
       "51999   ياخي انت ماتتوب انا قايلك اشوفك بتغريده تخص شي...      QA\n",
       "52000   قلتها يالسلوقي الف مره لاكن الانجاس ماتتوب عدت...      QA\n",
       "...                                                   ...     ...\n",
       "458192                               مبسوطين اللي باسطانا      BH\n",
       "458193                                    ماينده ابش يختي      BH\n",
       "458194      شو عملنا حنا تهربي احنا مساكين ليش بتعملي هيك      BH\n",
       "458195                               الله يبارك وبالعافيه      BH\n",
       "458196                            السحله ضيفي بتطلع سحليه      BH\n",
       "\n",
       "[171684 rows x 2 columns]"
      ]
     },
     "execution_count": 60,
     "metadata": {},
     "output_type": "execute_result"
    }
   ],
   "source": [
    "df_gulf"
   ]
  },
  {
   "cell_type": "code",
   "execution_count": 61,
   "id": "ded6ae70",
   "metadata": {},
   "outputs": [
    {
     "data": {
      "text/plain": [
       "tokens     0\n",
       "dialect    0\n",
       "dtype: int64"
      ]
     },
     "execution_count": 61,
     "metadata": {},
     "output_type": "execute_result"
    }
   ],
   "source": [
    "df_gulf.isnull().sum()"
   ]
  },
  {
   "cell_type": "code",
   "execution_count": 62,
   "id": "df51eeed",
   "metadata": {},
   "outputs": [
    {
     "name": "stdout",
     "output_type": "stream",
     "text": [
      "Index(['KW', 'QA', 'SA', 'AE', 'BH', 'OM'], dtype='object')\n"
     ]
    },
    {
     "name": "stderr",
     "output_type": "stream",
     "text": [
      "D:\\anaconda1\\lib\\site-packages\\seaborn\\_decorators.py:36: FutureWarning: Pass the following variables as keyword args: x, y. From version 0.12, the only valid positional argument will be `data`, and passing other arguments without an explicit keyword will result in an error or misinterpretation.\n",
      "  warnings.warn(\n"
     ]
    },
    {
     "data": {
      "text/plain": [
       "<AxesSubplot:ylabel='dialect'>"
      ]
     },
     "execution_count": 62,
     "metadata": {},
     "output_type": "execute_result"
    },
    {
     "data": {
      "image/png": "[encoded data removed]",
      "text/plain": [
       "<Figure size 432x288 with 1 Axes>"
      ]
     },
     "metadata": {
      "needs_background": "light"
     },
     "output_type": "display_data"
    }
   ],
   "source": [
    "x=df_gulf['dialect'].value_counts()\n",
    "print(x.index)\n",
    "sns.barplot(x.index,x)"
   ]
  },
  {
   "cell_type": "code",
   "execution_count": 63,
   "id": "4196543b",
   "metadata": {},
   "outputs": [],
   "source": [
    "df_gulf.to_excel('data_gulf.xlsx')"
   ]
  },
  {
   "cell_type": "markdown",
   "id": "d26b5ef2",
   "metadata": {},
   "source": [
    "## Main "
   ]
  },
  {
   "cell_type": "code",
   "execution_count": 64,
   "id": "d0844123",
   "metadata": {},
   "outputs": [
    {
     "name": "stderr",
     "output_type": "stream",
     "text": [
      "D:\\anaconda1\\lib\\site-packages\\pandas\\core\\indexing.py:1732: SettingWithCopyWarning: \n",
      "A value is trying to be set on a copy of a slice from a DataFrame\n",
      "\n",
      "See the caveats in the documentation: https://pandas.pydata.org/pandas-docs/stable/user_guide/indexing.html#returning-a-view-versus-a-copy\n",
      "  self._setitem_single_block(indexer, value, name)\n",
      "D:\\anaconda1\\lib\\site-packages\\pandas\\core\\indexing.py:723: SettingWithCopyWarning: \n",
      "A value is trying to be set on a copy of a slice from a DataFrame\n",
      "\n",
      "See the caveats in the documentation: https://pandas.pydata.org/pandas-docs/stable/user_guide/indexing.html#returning-a-view-versus-a-copy\n",
      "  iloc._setitem_with_indexer(indexer, value, self.name)\n"
     ]
    }
   ],
   "source": [
    "df2.loc[(df2['dialect']=='DZ') | (df2['dialect']=='TN') | (df2['dialect']=='MA') | (df2['dialect']=='LY'),[\"dialect\"]]='MAGHERB'\n",
    "df2.loc[(df2['dialect']=='SD') | (df2['dialect']=='EG'),\"dialect\"]='NILE BASIN'\n",
    "df2.loc[(df2['dialect']=='LB') | (df2['dialect']=='JO') | (df2['dialect']=='PL') | (df2['dialect']=='SY'),[\"dialect\"]]='LEVANT'\n",
    "df2.loc[(df2['dialect']=='SA') | (df2['dialect']=='BH') | (df2['dialect']=='AE') | (df2['dialect']=='QA') | (df2['dialect']=='KW') | (df2['dialect']=='OM'),[\"dialect\"]]='GULF'"
   ]
  },
  {
   "cell_type": "code",
   "execution_count": 65,
   "id": "519601d7",
   "metadata": {},
   "outputs": [
    {
     "data": {
      "text/html": [
       "<div>\n",
       "<style scoped>\n",
       "    .dataframe tbody tr th:only-of-type {\n",
       "        vertical-align: middle;\n",
       "    }\n",
       "\n",
       "    .dataframe tbody tr th {\n",
       "        vertical-align: top;\n",
       "    }\n",
       "\n",
       "    .dataframe thead th {\n",
       "        text-align: right;\n",
       "    }\n",
       "</style>\n",
       "<table border=\"1\" class=\"dataframe\">\n",
       "  <thead>\n",
       "    <tr style=\"text-align: right;\">\n",
       "      <th></th>\n",
       "      <th>tokens</th>\n",
       "      <th>dialect</th>\n",
       "    </tr>\n",
       "  </thead>\n",
       "  <tbody>\n",
       "    <tr>\n",
       "      <th>0</th>\n",
       "      <td>بالنهايه ينتفض يغير</td>\n",
       "      <td>IQ</td>\n",
       "    </tr>\n",
       "    <tr>\n",
       "      <th>1</th>\n",
       "      <td>يعني محسوب البشر حيونه ووحشيه وتطلبون الغرب يح...</td>\n",
       "      <td>IQ</td>\n",
       "    </tr>\n",
       "    <tr>\n",
       "      <th>2</th>\n",
       "      <td>مبين كلامه خليجي</td>\n",
       "      <td>IQ</td>\n",
       "    </tr>\n",
       "    <tr>\n",
       "      <th>3</th>\n",
       "      <td>يسلملي مرورك وروحك الحلوه</td>\n",
       "      <td>IQ</td>\n",
       "    </tr>\n",
       "    <tr>\n",
       "      <th>4</th>\n",
       "      <td>وين الغيبه اخ محمد</td>\n",
       "      <td>IQ</td>\n",
       "    </tr>\n",
       "    <tr>\n",
       "      <th>...</th>\n",
       "      <td>...</td>\n",
       "      <td>...</td>\n",
       "    </tr>\n",
       "    <tr>\n",
       "      <th>458192</th>\n",
       "      <td>مبسوطين اللي باسطانا</td>\n",
       "      <td>GULF</td>\n",
       "    </tr>\n",
       "    <tr>\n",
       "      <th>458193</th>\n",
       "      <td>ماينده ابش يختي</td>\n",
       "      <td>GULF</td>\n",
       "    </tr>\n",
       "    <tr>\n",
       "      <th>458194</th>\n",
       "      <td>شو عملنا حنا تهربي احنا مساكين ليش بتعملي هيك</td>\n",
       "      <td>GULF</td>\n",
       "    </tr>\n",
       "    <tr>\n",
       "      <th>458195</th>\n",
       "      <td>الله يبارك وبالعافيه</td>\n",
       "      <td>GULF</td>\n",
       "    </tr>\n",
       "    <tr>\n",
       "      <th>458196</th>\n",
       "      <td>السحله ضيفي بتطلع سحليه</td>\n",
       "      <td>GULF</td>\n",
       "    </tr>\n",
       "  </tbody>\n",
       "</table>\n",
       "<p>458040 rows × 2 columns</p>\n",
       "</div>"
      ],
      "text/plain": [
       "                                                   tokens dialect\n",
       "0                                     بالنهايه ينتفض يغير      IQ\n",
       "1       يعني محسوب البشر حيونه ووحشيه وتطلبون الغرب يح...      IQ\n",
       "2                                        مبين كلامه خليجي      IQ\n",
       "3                               يسلملي مرورك وروحك الحلوه      IQ\n",
       "4                                      وين الغيبه اخ محمد      IQ\n",
       "...                                                   ...     ...\n",
       "458192                               مبسوطين اللي باسطانا    GULF\n",
       "458193                                    ماينده ابش يختي    GULF\n",
       "458194      شو عملنا حنا تهربي احنا مساكين ليش بتعملي هيك    GULF\n",
       "458195                               الله يبارك وبالعافيه    GULF\n",
       "458196                            السحله ضيفي بتطلع سحليه    GULF\n",
       "\n",
       "[458040 rows x 2 columns]"
      ]
     },
     "execution_count": 65,
     "metadata": {},
     "output_type": "execute_result"
    }
   ],
   "source": [
    "df2"
   ]
  },
  {
   "cell_type": "code",
   "execution_count": 66,
   "id": "56395bc2",
   "metadata": {},
   "outputs": [],
   "source": [
    "df2.to_excel(\"data_main.xlsx\")"
   ]
  },
  {
   "cell_type": "code",
   "execution_count": 67,
   "id": "97bb3d3e",
   "metadata": {},
   "outputs": [
    {
     "data": {
      "text/plain": [
       "GULF          171684\n",
       "LEVANT        115486\n",
       "MAGHERB        73442\n",
       "NILE BASIN     72018\n",
       "IQ             15490\n",
       "YE              9920\n",
       "Name: dialect, dtype: int64"
      ]
     },
     "execution_count": 67,
     "metadata": {},
     "output_type": "execute_result"
    }
   ],
   "source": [
    "df2['dialect'].value_counts()"
   ]
  },
  {
   "cell_type": "code",
   "execution_count": 68,
   "id": "9977f344",
   "metadata": {},
   "outputs": [
    {
     "data": {
      "text/html": [
       "<div>\n",
       "<style scoped>\n",
       "    .dataframe tbody tr th:only-of-type {\n",
       "        vertical-align: middle;\n",
       "    }\n",
       "\n",
       "    .dataframe tbody tr th {\n",
       "        vertical-align: top;\n",
       "    }\n",
       "\n",
       "    .dataframe thead th {\n",
       "        text-align: right;\n",
       "    }\n",
       "</style>\n",
       "<table border=\"1\" class=\"dataframe\">\n",
       "  <thead>\n",
       "    <tr style=\"text-align: right;\">\n",
       "      <th></th>\n",
       "      <th>tokens</th>\n",
       "      <th>dialect</th>\n",
       "    </tr>\n",
       "  </thead>\n",
       "  <tbody>\n",
       "  </tbody>\n",
       "</table>\n",
       "</div>"
      ],
      "text/plain": [
       "Empty DataFrame\n",
       "Columns: [tokens, dialect]\n",
       "Index: []"
      ]
     },
     "execution_count": 68,
     "metadata": {},
     "output_type": "execute_result"
    }
   ],
   "source": [
    "df2.loc[df2['tokens']==\" \"]"
   ]
  },
  {
   "cell_type": "code",
   "execution_count": 69,
   "id": "9fec63d5",
   "metadata": {},
   "outputs": [
    {
     "name": "stdout",
     "output_type": "stream",
     "text": [
      "Index(['GULF', 'LEVANT', 'MAGHERB', 'NILE BASIN', 'IQ', 'YE'], dtype='object')\n"
     ]
    },
    {
     "name": "stderr",
     "output_type": "stream",
     "text": [
      "D:\\anaconda1\\lib\\site-packages\\seaborn\\_decorators.py:36: FutureWarning: Pass the following variables as keyword args: x, y. From version 0.12, the only valid positional argument will be `data`, and passing other arguments without an explicit keyword will result in an error or misinterpretation.\n",
      "  warnings.warn(\n"
     ]
    },
    {
     "data": {
      "text/plain": [
       "<AxesSubplot:ylabel='dialect'>"
      ]
     },
     "execution_count": 69,
     "metadata": {},
     "output_type": "execute_result"
    },
    {
     "data": {
      "image/png": "[encoded data removed]",
      "text/plain": [
       "<Figure size 432x288 with 1 Axes>"
      ]
     },
     "metadata": {
      "needs_background": "light"
     },
     "output_type": "display_data"
    }
   ],
   "source": [
    "x=df2['dialect'].value_counts()\n",
    "print(x.index)\n",
    "sns.barplot(x.index,x)"
   ]
  },
  {
   "cell_type": "markdown",
   "id": "11396006",
   "metadata": {},
   "source": [
    "## WordCloud for main dataframe"
   ]
  },
  {
   "cell_type": "code",
   "execution_count": 70,
   "id": "435d58dc",
   "metadata": {},
   "outputs": [],
   "source": [
    "comment_words = ''\n",
    "for tweet in df2['tokens']:\n",
    "        \n",
    "        tokens = tweet.split()\n",
    "        comment_words += \" \".join(tokens)+\" \"\n",
    "\n",
    "# text = arabic_reshaper.reshape(comment_words)"
   ]
  },
  {
   "cell_type": "code",
   "execution_count": 71,
   "id": "f6cb582f",
   "metadata": {},
   "outputs": [],
   "source": [
    "with open('text.txt', 'w', encoding='utf-8') as f:\n",
    "    f.write(comment_words)"
   ]
  },
  {
   "cell_type": "code",
   "execution_count": 72,
   "id": "8b9b1fb7",
   "metadata": {},
   "outputs": [],
   "source": [
    "from bidi.algorithm import get_display\n",
    "import os\n",
    "import matplotlib.pyplot as plt\n",
    "from wordcloud import WordCloud\n",
    "import arabic_reshaper \n",
    "import numpy as np\n",
    "import os\n",
    "import codecs\n",
    "from wordcloud import WordCloud\n",
    "import arabic_reshaper\n",
    "from bidi.algorithm import get_display\n",
    "\n",
    "f = codecs.open( 'text.txt', 'r', 'utf-8')\n",
    "\n",
    "# Make text readable for a non-Arabic library like wordcloud\n",
    "text = arabic_reshaper.reshape(f.read())\n",
    "\n",
    "text = get_display(text)\n",
    "\n",
    "# Generate a word cloud image\n"
   ]
  },
  {
   "cell_type": "code",
   "execution_count": 73,
   "id": "97098527",
   "metadata": {},
   "outputs": [
    {
     "data": {
      "text/plain": [
       "<wordcloud.wordcloud.WordCloud at 0x22d3811fd90>"
      ]
     },
     "execution_count": 73,
     "metadata": {},
     "output_type": "execute_result"
    }
   ],
   "source": [
    "# Generate a word cloud image\n",
    "wordcloud = WordCloud(font_path='arial', background_color='white',\n",
    "                        mode='RGB', width=2000, height=1000).generate(text)\n",
    "# Export to an image\n",
    "wordcloud.to_file(\"arabic_example.png\")"
   ]
  },
  {
   "cell_type": "code",
   "execution_count": 74,
   "id": "43f4256e",
   "metadata": {},
   "outputs": [],
   "source": [
    "#pip install wordcloud"
   ]
  },
  {
   "cell_type": "code",
   "execution_count": 75,
   "id": "abd523ac",
   "metadata": {},
   "outputs": [
    {
     "data": {
      "image/png": "[encoded data removed]",
      "text/plain": [
       "<Figure size 720x720 with 1 Axes>"
      ]
     },
     "metadata": {
      "needs_background": "light"
     },
     "output_type": "display_data"
    }
   ],
   "source": [
    "plt.figure(figsize = (10,10))\n",
    "plt.imshow(wordcloud, interpolation='bilinear')\n",
    "plt.axis(\"off\")\n",
    "plt.show()\n"
   ]
  }
 ],
 "metadata": {
  "kernelspec": {
   "display_name": "Python 3 (ipykernel)",
   "language": "python",
   "name": "python3"
  },
  "language_info": {
   "codemirror_mode": {
    "name": "ipython",
    "version": 3
   },
   "file_extension": ".py",
   "mimetype": "text/x-python",
   "name": "python",
   "nbconvert_exporter": "python",
   "pygments_lexer": "ipython3",
   "version": "3.9.7"
  }
 },
 "nbformat": 4,
 "nbformat_minor": 5
}
