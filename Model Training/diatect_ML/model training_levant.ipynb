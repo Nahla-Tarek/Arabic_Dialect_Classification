{
 "cells": [
  {
   "cell_type": "code",
   "execution_count": 1,
   "id": "8f7da558",
   "metadata": {},
   "outputs": [],
   "source": [
    "import pandas as pd\n",
    "import re\n",
    "import string\n",
    "import pickle\n",
    "from sklearn.pipeline import Pipeline,FeatureUnion\n",
    "from sklearn.linear_model import SGDClassifier, RidgeClassifier\n",
    "from sklearn.feature_extraction.text import TfidfVectorizer\n",
    "from sklearn.svm import LinearSVC\n",
    "from sklearn import metrics\n",
    "from sklearn import svm\n",
    "from sklearn.naive_bayes import BernoulliNB, ComplementNB, MultinomialNB\n",
    "from sklearn.model_selection import train_test_split\n",
    "from sklearn.ensemble import VotingClassifier\n",
    "from sklearn import model_selection\n",
    "import numpy as np\n",
    "from imblearn.over_sampling import SMOTE\n",
    "from sklearn.model_selection import cross_val_score,StratifiedKFold\n",
    "from imblearn.pipeline import Pipeline as imbpipeline\n",
    "from sklearn.metrics import fbeta_score, make_scorer\n",
    "import seaborn as sns"
   ]
  },
  {
   "cell_type": "markdown",
   "id": "7abc676e",
   "metadata": {},
   "source": [
    "### Import excel file for levant countries"
   ]
  },
  {
   "cell_type": "code",
   "execution_count": 2,
   "id": "7f6cec32",
   "metadata": {},
   "outputs": [],
   "source": [
    "df=pd.read_excel(\"data_levant.xlsx\",index_col=0,\n",
    "              dtype={'tokens': str, 'dialect': str})"
   ]
  },
  {
   "cell_type": "code",
   "execution_count": 3,
   "id": "b526855a",
   "metadata": {},
   "outputs": [
    {
     "data": {
      "text/html": [
       "<div>\n",
       "<style scoped>\n",
       "    .dataframe tbody tr th:only-of-type {\n",
       "        vertical-align: middle;\n",
       "    }\n",
       "\n",
       "    .dataframe tbody tr th {\n",
       "        vertical-align: top;\n",
       "    }\n",
       "\n",
       "    .dataframe thead th {\n",
       "        text-align: right;\n",
       "    }\n",
       "</style>\n",
       "<table border=\"1\" class=\"dataframe\">\n",
       "  <thead>\n",
       "    <tr style=\"text-align: right;\">\n",
       "      <th></th>\n",
       "      <th>tokens</th>\n",
       "      <th>dialect</th>\n",
       "    </tr>\n",
       "  </thead>\n",
       "  <tbody>\n",
       "    <tr>\n",
       "      <th>83065</th>\n",
       "      <td>جمعتهم بالصرمايه عصبن شارب عادل الجبير</td>\n",
       "      <td>PL</td>\n",
       "    </tr>\n",
       "    <tr>\n",
       "      <th>83066</th>\n",
       "      <td>سود الله وجه ال سعود زراق وحوههم</td>\n",
       "      <td>PL</td>\n",
       "    </tr>\n",
       "    <tr>\n",
       "      <th>83067</th>\n",
       "      <td>كلام الليل مدهون بزبده وان طلع النهار بسسيح</td>\n",
       "      <td>PL</td>\n",
       "    </tr>\n",
       "    <tr>\n",
       "      <th>83068</th>\n",
       "      <td>مين الي شاغل بالك سميرا يا صغيره عبر</td>\n",
       "      <td>PL</td>\n",
       "    </tr>\n",
       "    <tr>\n",
       "      <th>83069</th>\n",
       "      <td>منصوره</td>\n",
       "      <td>PL</td>\n",
       "    </tr>\n",
       "    <tr>\n",
       "      <th>...</th>\n",
       "      <td>...</td>\n",
       "      <td>...</td>\n",
       "    </tr>\n",
       "    <tr>\n",
       "      <th>329945</th>\n",
       "      <td>خائن حبيب صار الوقت</td>\n",
       "      <td>LB</td>\n",
       "    </tr>\n",
       "    <tr>\n",
       "      <th>329946</th>\n",
       "      <td>المقاومه باقيه باقيه باقيه صوت المقاومه وصداها</td>\n",
       "      <td>LB</td>\n",
       "    </tr>\n",
       "    <tr>\n",
       "      <th>329947</th>\n",
       "      <td>ليش بتزلو عالضاحيه نمر زرقا عم تشتغل تاكسي</td>\n",
       "      <td>LB</td>\n",
       "    </tr>\n",
       "    <tr>\n",
       "      <th>329948</th>\n",
       "      <td>بحبك بس بعرف مش الي</td>\n",
       "      <td>LB</td>\n",
       "    </tr>\n",
       "    <tr>\n",
       "      <th>329949</th>\n",
       "      <td>الحمدلله وعايشين احلى حياه عايزين سعوديه اهلها</td>\n",
       "      <td>LB</td>\n",
       "    </tr>\n",
       "  </tbody>\n",
       "</table>\n",
       "<p>115486 rows × 2 columns</p>\n",
       "</div>"
      ],
      "text/plain": [
       "                                                tokens dialect\n",
       "83065           جمعتهم بالصرمايه عصبن شارب عادل الجبير      PL\n",
       "83066                 سود الله وجه ال سعود زراق وحوههم      PL\n",
       "83067      كلام الليل مدهون بزبده وان طلع النهار بسسيح      PL\n",
       "83068             مين الي شاغل بالك سميرا يا صغيره عبر      PL\n",
       "83069                                          منصوره       PL\n",
       "...                                                ...     ...\n",
       "329945                             خائن حبيب صار الوقت      LB\n",
       "329946  المقاومه باقيه باقيه باقيه صوت المقاومه وصداها      LB\n",
       "329947      ليش بتزلو عالضاحيه نمر زرقا عم تشتغل تاكسي      LB\n",
       "329948                             بحبك بس بعرف مش الي      LB\n",
       "329949  الحمدلله وعايشين احلى حياه عايزين سعوديه اهلها      LB\n",
       "\n",
       "[115486 rows x 2 columns]"
      ]
     },
     "execution_count": 3,
     "metadata": {},
     "output_type": "execute_result"
    }
   ],
   "source": [
    "df"
   ]
  },
  {
   "cell_type": "markdown",
   "id": "ed8b57f1",
   "metadata": {},
   "source": [
    "### Checking null values"
   ]
  },
  {
   "cell_type": "code",
   "execution_count": 4,
   "id": "94039e68",
   "metadata": {},
   "outputs": [
    {
     "data": {
      "text/plain": [
       "tokens     0\n",
       "dialect    0\n",
       "dtype: int64"
      ]
     },
     "execution_count": 4,
     "metadata": {},
     "output_type": "execute_result"
    }
   ],
   "source": [
    "df.isnull().sum()"
   ]
  },
  {
   "cell_type": "code",
   "execution_count": 5,
   "id": "db1be0de",
   "metadata": {},
   "outputs": [
    {
     "name": "stdout",
     "output_type": "stream",
     "text": [
      "Index(['PL', 'JO', 'LB', 'SY'], dtype='object')\n"
     ]
    },
    {
     "name": "stderr",
     "output_type": "stream",
     "text": [
      "D:\\anaconda1\\lib\\site-packages\\seaborn\\_decorators.py:36: FutureWarning: Pass the following variables as keyword args: x, y. From version 0.12, the only valid positional argument will be `data`, and passing other arguments without an explicit keyword will result in an error or misinterpretation.\n",
      "  warnings.warn(\n"
     ]
    },
    {
     "data": {
      "text/plain": [
       "<AxesSubplot:ylabel='dialect'>"
      ]
     },
     "execution_count": 5,
     "metadata": {},
     "output_type": "execute_result"
    },
    {
     "data": {
      "image/png": "[encoded data removed]",
      "text/plain": [
       "<Figure size 432x288 with 1 Axes>"
      ]
     },
     "metadata": {
      "needs_background": "light"
     },
     "output_type": "display_data"
    }
   ],
   "source": [
    "x=df['dialect'].value_counts()\n",
    "print(x.index)\n",
    "sns.barplot(x.index,x)"
   ]
  },
  {
   "cell_type": "markdown",
   "id": "ed0f9bd1",
   "metadata": {},
   "source": [
    "### Building voting classifier (linearsvc, multinomialNB, BernoulliNB)"
   ]
  },
  {
   "cell_type": "code",
   "execution_count": 6,
   "id": "c7803767",
   "metadata": {},
   "outputs": [],
   "source": [
    "def build_estimators():\n",
    "    estimators = []\n",
    "    svc = LinearSVC(penalty='l1', dual=False,tol=1e-3)\n",
    "    estimators.append(('svc',svc))\n",
    "    mnb= MultinomialNB(alpha=.01)\n",
    "    estimators.append(('mnb',mnb))\n",
    "    bnb= BernoulliNB(alpha=.01)\n",
    "    estimators.append(('bnb',bnb))\n",
    "    ensemble = VotingClassifier(estimators)\n",
    "    return ensemble"
   ]
  },
  {
   "cell_type": "markdown",
   "id": "0fecfe2c",
   "metadata": {},
   "source": [
    "### train, validation,test split"
   ]
  },
  {
   "cell_type": "code",
   "execution_count": 7,
   "id": "8189d2bd",
   "metadata": {},
   "outputs": [],
   "source": [
    "x=df['tokens']\n",
    "y=df['dialect']\n",
    "X_train, X_test, y_train, y_test=train_test_split(x,y,test_size=0.1,stratify=y,random_state=42)\n",
    "X_train1, X_valid, y_train1, y_valid=train_test_split(X_train, y_train,test_size=0.1,stratify=y_train,random_state=42)"
   ]
  },
  {
   "cell_type": "code",
   "execution_count": 8,
   "id": "afbd28cf",
   "metadata": {},
   "outputs": [],
   "source": [
    "target_names=list(y_train1.unique())"
   ]
  },
  {
   "cell_type": "code",
   "execution_count": 9,
   "id": "cb71fd48",
   "metadata": {},
   "outputs": [],
   "source": [
    "# featureunion -> combines several transformer objects into a new transformer that combines their output. \n",
    "# A FeatureUnion takes a list of transformer objects. During fitting, each of these is fit to the data independently.\n",
    "# For transforming data, the transformers are applied in parallel, and \n",
    "# the sample vectors they output are concatenated end-to-end into larger vectors."
   ]
  },
  {
   "cell_type": "markdown",
   "id": "dc577107",
   "metadata": {},
   "source": [
    "### Extracting features from the training data using a Tfidf-vectorizer"
   ]
  },
  {
   "cell_type": "code",
   "execution_count": 10,
   "id": "deadf8e8",
   "metadata": {},
   "outputs": [
    {
     "name": "stdout",
     "output_type": "stream",
     "text": [
      "Combined space has 2009588 features\n"
     ]
    }
   ],
   "source": [
    "\n",
    "# featureunion -> concatenate the results of multiple transformer objects,combine several feature extraction mechanisms\n",
    "#into a single transformer.\n",
    "max_df = 0.5\n",
    "union = FeatureUnion([(\"w_v\", TfidfVectorizer(sublinear_tf=True, max_df=max_df,analyzer = 'word', ngram_range=(1,3)\n",
    "                                 )),\n",
    "\n",
    "                       (\"c_wb\", TfidfVectorizer(sublinear_tf=True,max_df=max_df,analyzer = 'char_wb', ngram_range=(2,5)\n",
    "                                 )),\n",
    "\n",
    "                      (\"c_wb5\", TfidfVectorizer(sublinear_tf=True, max_df=max_df,analyzer = 'char', ngram_range=(2,4)\n",
    "                                 )),\n",
    "\n",
    "                       ],\n",
    "transformer_weights={\n",
    "            'w_v': 0.9,\n",
    "           \n",
    "            'c_wb': 0.9,\n",
    "         \n",
    "           \"c_wb5\":0.9,\n",
    "          \n",
    "        }\n",
    ",\n",
    ")\n",
    "\n",
    "\n",
    "\n",
    "X_train_feat = union.fit_transform(X_train1)\n",
    "X_valid_feat = union.transform(X_valid)\n",
    "print(\"Combined space has\", X_train_feat.shape[1], \"features\")\n",
    "sm = SMOTE(random_state=42)\n",
    "X_res, y_res = sm.fit_resample(X_train_feat, y_train1)\n"
   ]
  },
  {
   "cell_type": "markdown",
   "id": "d0580344",
   "metadata": {},
   "source": [
    "### Training the classifier"
   ]
  },
  {
   "cell_type": "code",
   "execution_count": 11,
   "id": "f795b569",
   "metadata": {},
   "outputs": [
    {
     "data": {
      "text/plain": [
       "VotingClassifier(estimators=[('svc',\n",
       "                              LinearSVC(dual=False, penalty='l1', tol=0.001)),\n",
       "                             ('mnb', MultinomialNB(alpha=0.01)),\n",
       "                             ('bnb', BernoulliNB(alpha=0.01))])"
      ]
     },
     "execution_count": 11,
     "metadata": {},
     "output_type": "execute_result"
    }
   ],
   "source": [
    "ensemble = build_estimators()\n",
    "ensemble.fit(X_res, y_res)\n",
    "\n"
   ]
  },
  {
   "cell_type": "markdown",
   "id": "b865459d",
   "metadata": {},
   "source": [
    "### Testing the classifier on validation data"
   ]
  },
  {
   "cell_type": "code",
   "execution_count": 12,
   "id": "478c5104",
   "metadata": {},
   "outputs": [
    {
     "name": "stdout",
     "output_type": "stream",
     "text": [
      "accuracy:   0.648\n",
      "classification report:\n",
      "              precision    recall  f1-score   support\n",
      "\n",
      "          PL       0.57      0.52      0.54      2512\n",
      "          JO       0.73      0.73      0.73      2485\n",
      "          LB       0.65      0.76      0.70      3936\n",
      "          SY       0.62      0.41      0.49      1461\n",
      "\n",
      "    accuracy                           0.65     10394\n",
      "   macro avg       0.64      0.61      0.62     10394\n",
      "weighted avg       0.64      0.65      0.64     10394\n",
      "\n",
      "confusion matrix:\n",
      "[[1310  141  956  105]\n",
      " [ 186 1824  335  140]\n",
      " [ 584  223 2997  132]\n",
      " [ 217  311  329  604]]\n"
     ]
    }
   ],
   "source": [
    "pred = ensemble.predict(X_valid_feat)\n",
    " \n",
    "# print(\"Combined space has\", X_train.shape[1], \"features\")\n",
    "\n",
    "\n",
    "\n",
    "score = metrics.accuracy_score(y_valid, pred)\n",
    "print(\"accuracy:   %0.3f\" % score)\n",
    "\n",
    "print(\"classification report:\")\n",
    "print(metrics.classification_report(y_valid, pred,target_names=target_names))\n",
    "\n",
    "print(\"confusion matrix:\")\n",
    "print(metrics.confusion_matrix(y_valid, pred))"
   ]
  },
  {
   "cell_type": "markdown",
   "id": "03b58522",
   "metadata": {},
   "source": [
    "### Testing the classifier on testing data"
   ]
  },
  {
   "cell_type": "code",
   "execution_count": 13,
   "id": "886f24e9",
   "metadata": {},
   "outputs": [
    {
     "name": "stdout",
     "output_type": "stream",
     "text": [
      "accuracy:   0.642\n",
      "classification report:\n",
      "              precision    recall  f1-score   support\n",
      "\n",
      "          PL       0.56      0.54      0.55      2791\n",
      "          JO       0.73      0.72      0.72      2762\n",
      "          LB       0.65      0.75      0.69      4373\n",
      "          SY       0.60      0.40      0.48      1623\n",
      "\n",
      "    accuracy                           0.64     11549\n",
      "   macro avg       0.64      0.60      0.61     11549\n",
      "weighted avg       0.64      0.64      0.64     11549\n",
      "\n",
      "confusion matrix:\n",
      "[[1503  164 1012  112]\n",
      " [ 218 1988  401  155]\n",
      " [ 688  257 3265  163]\n",
      " [ 273  316  377  657]]\n"
     ]
    }
   ],
   "source": [
    "X_test_feat = union.transform(X_test)\n",
    "pred_test=ensemble.predict(X_test_feat)\n",
    "score = metrics.accuracy_score(y_test, pred_test)\n",
    "print(\"accuracy:   %0.3f\" % score)\n",
    "print(\"classification report:\")\n",
    "print(metrics.classification_report(y_test, pred_test,target_names=target_names))\n",
    "\n",
    "print(\"confusion matrix:\")\n",
    "print(metrics.confusion_matrix(y_test, pred_test))"
   ]
  },
  {
   "cell_type": "markdown",
   "id": "d662b541",
   "metadata": {},
   "source": [
    "### Testing the model on some sentences"
   ]
  },
  {
   "cell_type": "code",
   "execution_count": 14,
   "id": "13b13c2c",
   "metadata": {},
   "outputs": [
    {
     "data": {
      "text/plain": [
       "array(['PL'], dtype=object)"
      ]
     },
     "execution_count": 14,
     "metadata": {},
     "output_type": "execute_result"
    }
   ],
   "source": [
    "\n",
    "ensemble.predict(union.transform([\"معنعن\"]))"
   ]
  },
  {
   "cell_type": "code",
   "execution_count": 16,
   "id": "97d77570",
   "metadata": {},
   "outputs": [],
   "source": [
    "pickle.dump(ensemble,open('model_levant.pkl','wb'))"
   ]
  },
  {
   "cell_type": "code",
   "execution_count": 17,
   "id": "ea7486ca",
   "metadata": {},
   "outputs": [],
   "source": [
    "pickle.dump(union,open('union_levant.pkl','wb'))"
   ]
  },
  {
   "cell_type": "code",
   "execution_count": null,
   "id": "1fa3936c",
   "metadata": {},
   "outputs": [],
   "source": []
  }
 ],
 "metadata": {
  "kernelspec": {
   "display_name": "Python 3 (ipykernel)",
   "language": "python",
   "name": "python3"
  },
  "language_info": {
   "codemirror_mode": {
    "name": "ipython",
    "version": 3
   },
   "file_extension": ".py",
   "mimetype": "text/x-python",
   "name": "python",
   "nbconvert_exporter": "python",
   "pygments_lexer": "ipython3",
   "version": "3.9.7"
  }
 },
 "nbformat": 4,
 "nbformat_minor": 5
}
