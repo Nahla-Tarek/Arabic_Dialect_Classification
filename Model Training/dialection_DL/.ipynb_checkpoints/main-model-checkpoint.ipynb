{
 "cells": [
  {
   "cell_type": "code",
   "execution_count": 1,
   "metadata": {
    "execution": {
     "iopub.execute_input": "2022-03-13T20:18:19.609194Z",
     "iopub.status.busy": "2022-03-13T20:18:19.608877Z",
     "iopub.status.idle": "2022-03-13T20:18:29.512538Z",
     "shell.execute_reply": "2022-03-13T20:18:29.511556Z",
     "shell.execute_reply.started": "2022-03-13T20:18:19.609101Z"
    }
   },
   "outputs": [
    {
     "name": "stdout",
     "output_type": "stream",
     "text": [
      "Collecting openpyxl\n",
      "  Downloading openpyxl-3.0.9-py2.py3-none-any.whl (242 kB)\n",
      "     |████████████████████████████████| 242 kB 887 kB/s            \n",
      "\u001b[?25hCollecting et-xmlfile\n",
      "  Downloading et_xmlfile-1.1.0-py3-none-any.whl (4.7 kB)\n",
      "Installing collected packages: et-xmlfile, openpyxl\n",
      "Successfully installed et-xmlfile-1.1.0 openpyxl-3.0.9\n",
      "\u001b[33mWARNING: Running pip as the 'root' user can result in broken permissions and conflicting behaviour with the system package manager. It is recommended to use a virtual environment instead: https://pip.pypa.io/warnings/venv\u001b[0m\n",
      "Note: you may need to restart the kernel to use updated packages.\n"
     ]
    }
   ],
   "source": [
    "pip install openpyxl"
   ]
  },
  {
   "cell_type": "code",
   "execution_count": 2,
   "metadata": {
    "execution": {
     "iopub.execute_input": "2022-03-13T20:18:29.515151Z",
     "iopub.status.busy": "2022-03-13T20:18:29.514887Z",
     "iopub.status.idle": "2022-03-13T20:18:35.876857Z",
     "shell.execute_reply": "2022-03-13T20:18:35.876158Z",
     "shell.execute_reply.started": "2022-03-13T20:18:29.515117Z"
    }
   },
   "outputs": [],
   "source": [
    "import pandas as pd\n",
    "import seaborn as sns\n",
    "import fasttext\n",
    "from nltk.util import ngrams\n",
    "from tensorflow.keras.preprocessing.text import Tokenizer\n",
    "from sklearn.model_selection import train_test_split\n",
    "from keras.preprocessing.sequence import pad_sequences\n",
    "from keras.preprocessing import text, sequence\n",
    "import numpy as np\n",
    "from tensorflow.keras.optimizers import Adam\n",
    "from keras.models import Sequential\n",
    "from keras.layers import Dense, Embedding,GRU,LSTM,Bidirectional,Dropout,Conv1D,MaxPooling1D,GlobalAveragePooling1D,Flatten,Input\n",
    "import matplotlib.pyplot as plt\n",
    "import tensorflow as tf\n",
    "from sklearn.metrics import accuracy_score,classification_report\n",
    "from keras.callbacks import EarlyStopping,ModelCheckpoint, ReduceLROnPlateau\n",
    "from sklearn.model_selection import StratifiedKFold\n",
    "import gensim\n",
    "from tqdm import tqdm\n",
    "from gensim.models import word2vec\n",
    "from sklearn import metrics\n"
   ]
  },
  {
   "cell_type": "markdown",
   "metadata": {},
   "source": [
    "### Import excel file for MAIN DATA"
   ]
  },
  {
   "cell_type": "code",
   "execution_count": 3,
   "metadata": {
    "execution": {
     "iopub.execute_input": "2022-03-13T20:18:35.878475Z",
     "iopub.status.busy": "2022-03-13T20:18:35.878219Z",
     "iopub.status.idle": "2022-03-13T20:19:15.623270Z",
     "shell.execute_reply": "2022-03-13T20:19:15.622600Z",
     "shell.execute_reply.started": "2022-03-13T20:18:35.878441Z"
    }
   },
   "outputs": [
    {
     "data": {
      "text/plain": [
       "tokens     0\n",
       "dialect    0\n",
       "dtype: int64"
      ]
     },
     "execution_count": 3,
     "metadata": {},
     "output_type": "execute_result"
    }
   ],
   "source": [
    "df=pd.read_excel(\"../input/data-arabic-dialect/data_main.xlsx\",index_col=0,\n",
    "              dtype={'tokens': str, 'dialect': str})\n",
    "## check the presence of null values\n",
    "df.isna().sum()"
   ]
  },
  {
   "cell_type": "code",
   "execution_count": 4,
   "metadata": {
    "execution": {
     "iopub.execute_input": "2022-03-13T20:19:15.625566Z",
     "iopub.status.busy": "2022-03-13T20:19:15.625223Z",
     "iopub.status.idle": "2022-03-13T20:19:15.718117Z",
     "shell.execute_reply": "2022-03-13T20:19:15.717394Z",
     "shell.execute_reply.started": "2022-03-13T20:19:15.625526Z"
    }
   },
   "outputs": [],
   "source": [
    "## reset index\n",
    "df=df.reset_index()\n",
    "df.drop('index',axis=1,inplace=True)"
   ]
  },
  {
   "cell_type": "markdown",
   "metadata": {},
   "source": [
    "### count numbers of sentences that belong to each country"
   ]
  },
  {
   "cell_type": "code",
   "execution_count": 5,
   "metadata": {
    "execution": {
     "iopub.execute_input": "2022-03-13T20:19:15.719989Z",
     "iopub.status.busy": "2022-03-13T20:19:15.719271Z",
     "iopub.status.idle": "2022-03-13T20:19:16.073830Z",
     "shell.execute_reply": "2022-03-13T20:19:16.072984Z",
     "shell.execute_reply.started": "2022-03-13T20:19:15.719950Z"
    }
   },
   "outputs": [
    {
     "name": "stdout",
     "output_type": "stream",
     "text": [
      "Index(['GULF', 'LEVANT', 'MAGHERB', 'NILE BASIN', 'IQ', 'YE'], dtype='object')\n"
     ]
    },
    {
     "name": "stderr",
     "output_type": "stream",
     "text": [
      "/opt/conda/lib/python3.7/site-packages/seaborn/_decorators.py:43: FutureWarning: Pass the following variables as keyword args: x, y. From version 0.12, the only valid positional argument will be `data`, and passing other arguments without an explicit keyword will result in an error or misinterpretation.\n",
      "  FutureWarning\n"
     ]
    },
    {
     "data": {
      "text/plain": [
       "<AxesSubplot:ylabel='dialect'>"
      ]
     },
     "execution_count": 5,
     "metadata": {},
     "output_type": "execute_result"
    },
    {
     "data": {
      "image/png": "[encoded data removed]",
      "text/plain": [
       "<Figure size 432x288 with 1 Axes>"
      ]
     },
     "metadata": {
      "needs_background": "light"
     },
     "output_type": "display_data"
    }
   ],
   "source": [
    "x=df['dialect'].value_counts()\n",
    "print(x.index)\n",
    "sns.barplot(x.index,x)"
   ]
  },
  {
   "cell_type": "markdown",
   "metadata": {},
   "source": [
    "### compute the max number of words ( max_length of the sentence)"
   ]
  },
  {
   "cell_type": "code",
   "execution_count": 6,
   "metadata": {
    "execution": {
     "iopub.execute_input": "2022-03-13T20:19:16.075606Z",
     "iopub.status.busy": "2022-03-13T20:19:16.075315Z",
     "iopub.status.idle": "2022-03-13T20:19:16.081416Z",
     "shell.execute_reply": "2022-03-13T20:19:16.080262Z",
     "shell.execute_reply.started": "2022-03-13T20:19:16.075566Z"
    }
   },
   "outputs": [],
   "source": [
    "def splitolist(data):\n",
    "    l=data.split(\" \")\n",
    "    return l"
   ]
  },
  {
   "cell_type": "code",
   "execution_count": 7,
   "metadata": {
    "execution": {
     "iopub.execute_input": "2022-03-13T20:19:16.082895Z",
     "iopub.status.busy": "2022-03-13T20:19:16.082540Z",
     "iopub.status.idle": "2022-03-13T20:19:17.892623Z",
     "shell.execute_reply": "2022-03-13T20:19:17.891754Z",
     "shell.execute_reply.started": "2022-03-13T20:19:16.082858Z"
    }
   },
   "outputs": [],
   "source": [
    "df['tokens1']=df['tokens'].apply(splitolist)"
   ]
  },
  {
   "cell_type": "code",
   "execution_count": 8,
   "metadata": {
    "execution": {
     "iopub.execute_input": "2022-03-13T20:19:17.894417Z",
     "iopub.status.busy": "2022-03-13T20:19:17.893955Z",
     "iopub.status.idle": "2022-03-13T20:19:18.239318Z",
     "shell.execute_reply": "2022-03-13T20:19:18.238428Z",
     "shell.execute_reply.started": "2022-03-13T20:19:17.894355Z"
    }
   },
   "outputs": [
    {
     "name": "stdout",
     "output_type": "stream",
     "text": [
      "max length is 86\n"
     ]
    }
   ],
   "source": [
    "max_length=df.tokens1.str.len().max()\n",
    "print(\"max length is\"+\" \"+str(max_length))\n"
   ]
  },
  {
   "cell_type": "code",
   "execution_count": 9,
   "metadata": {
    "execution": {
     "iopub.execute_input": "2022-03-13T20:19:18.241064Z",
     "iopub.status.busy": "2022-03-13T20:19:18.240727Z",
     "iopub.status.idle": "2022-03-13T20:19:18.310380Z",
     "shell.execute_reply": "2022-03-13T20:19:18.309509Z",
     "shell.execute_reply.started": "2022-03-13T20:19:18.241023Z"
    }
   },
   "outputs": [
    {
     "data": {
      "text/plain": [
       "'بالنهايه ينتفض يغير'"
      ]
     },
     "execution_count": 9,
     "metadata": {},
     "output_type": "execute_result"
    }
   ],
   "source": [
    "df.loc[0,['tokens','dialect']][0]"
   ]
  },
  {
   "cell_type": "markdown",
   "metadata": {},
   "source": [
    "### create a corpus of the entire dataset in a txt file"
   ]
  },
  {
   "cell_type": "code",
   "execution_count": 10,
   "metadata": {
    "execution": {
     "iopub.execute_input": "2022-03-13T20:19:18.314025Z",
     "iopub.status.busy": "2022-03-13T20:19:18.313824Z",
     "iopub.status.idle": "2022-03-13T20:19:23.805670Z",
     "shell.execute_reply": "2022-03-13T20:19:23.804946Z",
     "shell.execute_reply.started": "2022-03-13T20:19:18.314001Z"
    }
   },
   "outputs": [],
   "source": [
    "with open(r'./corpus.txt', 'w', encoding='utf-8') as txtfile:\n",
    "    for i in range(len(df)):\n",
    "        line = df.loc[i,'tokens']\n",
    "        txtfile.write(line)\n",
    "        txtfile.write('\\n')"
   ]
  },
  {
   "cell_type": "markdown",
   "metadata": {},
   "source": [
    "### train skipgram model on the corpus to get word embeddings"
   ]
  },
  {
   "cell_type": "code",
   "execution_count": 11,
   "metadata": {
    "execution": {
     "iopub.execute_input": "2022-03-13T20:19:23.807279Z",
     "iopub.status.busy": "2022-03-13T20:19:23.806994Z",
     "iopub.status.idle": "2022-03-13T20:30:45.905830Z",
     "shell.execute_reply": "2022-03-13T20:30:45.904704Z",
     "shell.execute_reply.started": "2022-03-13T20:19:23.807242Z"
    }
   },
   "outputs": [
    {
     "name": "stderr",
     "output_type": "stream",
     "text": [
      "Read 5M words\n",
      "Number of words:  85015\n",
      "Number of labels: 0\n",
      "Progress: 100.0% words/sec/thread:   79496 lr:  0.000000 avg.loss:  0.644193 ETA:   0h 0m 0s\n"
     ]
    }
   ],
   "source": [
    "EMBED_SIZE=100\n",
    "model = fasttext.train_unsupervised('./corpus.txt',\n",
    "                                    minCount = 5, \n",
    "                                    model='skipgram',\n",
    "                                    minn = 2,\n",
    "                                    maxn = 5,\n",
    "                                    dim = 100,\n",
    "                                    lr = 0.1,\n",
    "                                    epoch = 10)"
   ]
  },
  {
   "cell_type": "code",
   "execution_count": 12,
   "metadata": {
    "execution": {
     "iopub.execute_input": "2022-03-13T20:30:45.907466Z",
     "iopub.status.busy": "2022-03-13T20:30:45.906944Z",
     "iopub.status.idle": "2022-03-13T20:30:48.012165Z",
     "shell.execute_reply": "2022-03-13T20:30:48.011417Z",
     "shell.execute_reply.started": "2022-03-13T20:30:45.907428Z"
    }
   },
   "outputs": [],
   "source": [
    "#create a list of all unique words in the dataset\n",
    "with open(r'./corpus.txt', 'r', encoding=\"utf-8\") as txtfile:\n",
    "    corpus_sentences = txtfile.readlines()\n",
    "    corpus_words = []\n",
    "    for sent in corpus_sentences:\n",
    "        tokenized_sent = sent.split()\n",
    "        for word_ in tokenized_sent:\n",
    "            corpus_words.append(word_)\n",
    "            \n",
    "    corpus_unique_words = list(set(corpus_words))"
   ]
  },
  {
   "cell_type": "markdown",
   "metadata": {},
   "source": [
    "### convert text to numbers using tokenizer"
   ]
  },
  {
   "cell_type": "code",
   "execution_count": 13,
   "metadata": {
    "execution": {
     "iopub.execute_input": "2022-03-13T20:30:48.013840Z",
     "iopub.status.busy": "2022-03-13T20:30:48.013587Z",
     "iopub.status.idle": "2022-03-13T20:31:09.199012Z",
     "shell.execute_reply": "2022-03-13T20:31:09.198312Z",
     "shell.execute_reply.started": "2022-03-13T20:30:48.013806Z"
    }
   },
   "outputs": [],
   "source": [
    "tokenizer = Tokenizer(num_words=len(corpus_unique_words)+1)\n",
    "tokenizer.fit_on_texts(df['tokens'])\n",
    "sequences = tokenizer.texts_to_sequences(df['tokens'])"
   ]
  },
  {
   "cell_type": "code",
   "execution_count": 14,
   "metadata": {
    "execution": {
     "iopub.execute_input": "2022-03-13T20:31:09.200563Z",
     "iopub.status.busy": "2022-03-13T20:31:09.200264Z",
     "iopub.status.idle": "2022-03-13T20:31:11.728661Z",
     "shell.execute_reply": "2022-03-13T20:31:11.727893Z",
     "shell.execute_reply.started": "2022-03-13T20:31:09.200530Z"
    }
   },
   "outputs": [
    {
     "name": "stdout",
     "output_type": "stream",
     "text": [
      "Found 445328 unique tokens.\n"
     ]
    }
   ],
   "source": [
    "word_index = tokenizer.word_index\n",
    "print('Found %s unique tokens.' % len(word_index))\n",
    "data = pad_sequences(sequences, maxlen=max_length,padding='post')  ## padding all the sentences in the dataset to have the same length"
   ]
  },
  {
   "cell_type": "markdown",
   "metadata": {},
   "source": [
    "### create embedding matrix from the trained fasttext model"
   ]
  },
  {
   "cell_type": "code",
   "execution_count": 15,
   "metadata": {
    "execution": {
     "iopub.execute_input": "2022-03-13T20:31:11.730056Z",
     "iopub.status.busy": "2022-03-13T20:31:11.729793Z",
     "iopub.status.idle": "2022-03-13T20:31:17.161041Z",
     "shell.execute_reply": "2022-03-13T20:31:17.160240Z",
     "shell.execute_reply.started": "2022-03-13T20:31:11.730021Z"
    }
   },
   "outputs": [
    {
     "name": "stderr",
     "output_type": "stream",
     "text": [
      "100%|██████████| 445328/445328 [00:05<00:00, 82179.52it/s]\n"
     ]
    }
   ],
   "source": [
    "vocab_size = len(tokenizer.word_index)+1\n",
    "embeddings_matrix = np.zeros(shape = (vocab_size , EMBED_SIZE))\n",
    "\n",
    "for word, index in tqdm(tokenizer.word_index.items()):\n",
    "    embeddings_matrix[index] = model.get_word_vector(word)"
   ]
  },
  {
   "cell_type": "code",
   "execution_count": 16,
   "metadata": {
    "execution": {
     "iopub.execute_input": "2022-03-13T20:31:17.162795Z",
     "iopub.status.busy": "2022-03-13T20:31:17.162534Z",
     "iopub.status.idle": "2022-03-13T20:31:17.214764Z",
     "shell.execute_reply": "2022-03-13T20:31:17.214031Z",
     "shell.execute_reply.started": "2022-03-13T20:31:17.162758Z"
    }
   },
   "outputs": [],
   "source": [
    "data_y=pd.get_dummies(df['dialect'])"
   ]
  },
  {
   "cell_type": "code",
   "execution_count": 17,
   "metadata": {
    "execution": {
     "iopub.execute_input": "2022-03-13T20:31:17.216489Z",
     "iopub.status.busy": "2022-03-13T20:31:17.215989Z",
     "iopub.status.idle": "2022-03-13T20:31:17.229859Z",
     "shell.execute_reply": "2022-03-13T20:31:17.229134Z",
     "shell.execute_reply.started": "2022-03-13T20:31:17.216452Z"
    }
   },
   "outputs": [
    {
     "data": {
      "text/html": [
       "<div>\n",
       "<style scoped>\n",
       "    .dataframe tbody tr th:only-of-type {\n",
       "        vertical-align: middle;\n",
       "    }\n",
       "\n",
       "    .dataframe tbody tr th {\n",
       "        vertical-align: top;\n",
       "    }\n",
       "\n",
       "    .dataframe thead th {\n",
       "        text-align: right;\n",
       "    }\n",
       "</style>\n",
       "<table border=\"1\" class=\"dataframe\">\n",
       "  <thead>\n",
       "    <tr style=\"text-align: right;\">\n",
       "      <th></th>\n",
       "      <th>GULF</th>\n",
       "      <th>IQ</th>\n",
       "      <th>LEVANT</th>\n",
       "      <th>MAGHERB</th>\n",
       "      <th>NILE BASIN</th>\n",
       "      <th>YE</th>\n",
       "    </tr>\n",
       "  </thead>\n",
       "  <tbody>\n",
       "    <tr>\n",
       "      <th>0</th>\n",
       "      <td>0</td>\n",
       "      <td>1</td>\n",
       "      <td>0</td>\n",
       "      <td>0</td>\n",
       "      <td>0</td>\n",
       "      <td>0</td>\n",
       "    </tr>\n",
       "    <tr>\n",
       "      <th>1</th>\n",
       "      <td>0</td>\n",
       "      <td>1</td>\n",
       "      <td>0</td>\n",
       "      <td>0</td>\n",
       "      <td>0</td>\n",
       "      <td>0</td>\n",
       "    </tr>\n",
       "    <tr>\n",
       "      <th>2</th>\n",
       "      <td>0</td>\n",
       "      <td>1</td>\n",
       "      <td>0</td>\n",
       "      <td>0</td>\n",
       "      <td>0</td>\n",
       "      <td>0</td>\n",
       "    </tr>\n",
       "    <tr>\n",
       "      <th>3</th>\n",
       "      <td>0</td>\n",
       "      <td>1</td>\n",
       "      <td>0</td>\n",
       "      <td>0</td>\n",
       "      <td>0</td>\n",
       "      <td>0</td>\n",
       "    </tr>\n",
       "    <tr>\n",
       "      <th>4</th>\n",
       "      <td>0</td>\n",
       "      <td>1</td>\n",
       "      <td>0</td>\n",
       "      <td>0</td>\n",
       "      <td>0</td>\n",
       "      <td>0</td>\n",
       "    </tr>\n",
       "    <tr>\n",
       "      <th>5</th>\n",
       "      <td>0</td>\n",
       "      <td>1</td>\n",
       "      <td>0</td>\n",
       "      <td>0</td>\n",
       "      <td>0</td>\n",
       "      <td>0</td>\n",
       "    </tr>\n",
       "    <tr>\n",
       "      <th>6</th>\n",
       "      <td>0</td>\n",
       "      <td>1</td>\n",
       "      <td>0</td>\n",
       "      <td>0</td>\n",
       "      <td>0</td>\n",
       "      <td>0</td>\n",
       "    </tr>\n",
       "    <tr>\n",
       "      <th>7</th>\n",
       "      <td>0</td>\n",
       "      <td>1</td>\n",
       "      <td>0</td>\n",
       "      <td>0</td>\n",
       "      <td>0</td>\n",
       "      <td>0</td>\n",
       "    </tr>\n",
       "    <tr>\n",
       "      <th>8</th>\n",
       "      <td>0</td>\n",
       "      <td>1</td>\n",
       "      <td>0</td>\n",
       "      <td>0</td>\n",
       "      <td>0</td>\n",
       "      <td>0</td>\n",
       "    </tr>\n",
       "    <tr>\n",
       "      <th>9</th>\n",
       "      <td>0</td>\n",
       "      <td>1</td>\n",
       "      <td>0</td>\n",
       "      <td>0</td>\n",
       "      <td>0</td>\n",
       "      <td>0</td>\n",
       "    </tr>\n",
       "  </tbody>\n",
       "</table>\n",
       "</div>"
      ],
      "text/plain": [
       "   GULF  IQ  LEVANT  MAGHERB  NILE BASIN  YE\n",
       "0     0   1       0        0           0   0\n",
       "1     0   1       0        0           0   0\n",
       "2     0   1       0        0           0   0\n",
       "3     0   1       0        0           0   0\n",
       "4     0   1       0        0           0   0\n",
       "5     0   1       0        0           0   0\n",
       "6     0   1       0        0           0   0\n",
       "7     0   1       0        0           0   0\n",
       "8     0   1       0        0           0   0\n",
       "9     0   1       0        0           0   0"
      ]
     },
     "execution_count": 17,
     "metadata": {},
     "output_type": "execute_result"
    }
   ],
   "source": [
    "data_y[:10]"
   ]
  },
  {
   "cell_type": "code",
   "execution_count": 18,
   "metadata": {
    "execution": {
     "iopub.execute_input": "2022-03-13T20:31:17.231571Z",
     "iopub.status.busy": "2022-03-13T20:31:17.230893Z",
     "iopub.status.idle": "2022-03-13T20:31:22.405964Z",
     "shell.execute_reply": "2022-03-13T20:31:22.404937Z",
     "shell.execute_reply.started": "2022-03-13T20:31:17.231536Z"
    }
   },
   "outputs": [],
   "source": [
    "#split the data into train and test sets\n",
    "x_train, x_test, y_train, y_test = train_test_split(data,data_y, test_size = 0.1, stratify =data_y,shuffle=True)"
   ]
  },
  {
   "cell_type": "code",
   "execution_count": 19,
   "metadata": {
    "execution": {
     "iopub.execute_input": "2022-03-13T20:31:22.410767Z",
     "iopub.status.busy": "2022-03-13T20:31:22.410508Z",
     "iopub.status.idle": "2022-03-13T20:31:26.109502Z",
     "shell.execute_reply": "2022-03-13T20:31:26.108787Z",
     "shell.execute_reply.started": "2022-03-13T20:31:22.410734Z"
    }
   },
   "outputs": [
    {
     "name": "stderr",
     "output_type": "stream",
     "text": [
      "2022-03-13 20:31:22.505555: I tensorflow/stream_executor/cuda/cuda_gpu_executor.cc:937] successful NUMA node read from SysFS had negative value (-1), but there must be at least one NUMA node, so returning NUMA node zero\n",
      "2022-03-13 20:31:22.607630: I tensorflow/stream_executor/cuda/cuda_gpu_executor.cc:937] successful NUMA node read from SysFS had negative value (-1), but there must be at least one NUMA node, so returning NUMA node zero\n",
      "2022-03-13 20:31:22.608310: I tensorflow/stream_executor/cuda/cuda_gpu_executor.cc:937] successful NUMA node read from SysFS had negative value (-1), but there must be at least one NUMA node, so returning NUMA node zero\n",
      "2022-03-13 20:31:22.609329: I tensorflow/core/platform/cpu_feature_guard.cc:142] This TensorFlow binary is optimized with oneAPI Deep Neural Network Library (oneDNN) to use the following CPU instructions in performance-critical operations:  AVX2 AVX512F FMA\n",
      "To enable them in other operations, rebuild TensorFlow with the appropriate compiler flags.\n",
      "2022-03-13 20:31:22.610275: I tensorflow/stream_executor/cuda/cuda_gpu_executor.cc:937] successful NUMA node read from SysFS had negative value (-1), but there must be at least one NUMA node, so returning NUMA node zero\n",
      "2022-03-13 20:31:22.610953: I tensorflow/stream_executor/cuda/cuda_gpu_executor.cc:937] successful NUMA node read from SysFS had negative value (-1), but there must be at least one NUMA node, so returning NUMA node zero\n",
      "2022-03-13 20:31:22.611648: I tensorflow/stream_executor/cuda/cuda_gpu_executor.cc:937] successful NUMA node read from SysFS had negative value (-1), but there must be at least one NUMA node, so returning NUMA node zero\n",
      "2022-03-13 20:31:24.515916: I tensorflow/stream_executor/cuda/cuda_gpu_executor.cc:937] successful NUMA node read from SysFS had negative value (-1), but there must be at least one NUMA node, so returning NUMA node zero\n",
      "2022-03-13 20:31:24.517068: I tensorflow/stream_executor/cuda/cuda_gpu_executor.cc:937] successful NUMA node read from SysFS had negative value (-1), but there must be at least one NUMA node, so returning NUMA node zero\n",
      "2022-03-13 20:31:24.517995: I tensorflow/stream_executor/cuda/cuda_gpu_executor.cc:937] successful NUMA node read from SysFS had negative value (-1), but there must be at least one NUMA node, so returning NUMA node zero\n",
      "2022-03-13 20:31:24.518888: I tensorflow/core/common_runtime/gpu/gpu_device.cc:1510] Created device /job:localhost/replica:0/task:0/device:GPU:0 with 15403 MB memory:  -> device: 0, name: Tesla P100-PCIE-16GB, pci bus id: 0000:00:04.0, compute capability: 6.0\n"
     ]
    }
   ],
   "source": [
    "#create a bidirectional LSTM model\n",
    "def create_model():\n",
    "    model = Sequential()\n",
    "    embedding_layer = Embedding(vocab_size, EMBED_SIZE, \n",
    "                                weights=[embeddings_matrix], \n",
    "                                input_length=max_length , \n",
    "                                trainable=True)\n",
    "    \n",
    "    model.add(embedding_layer)\n",
    "    model.add(Bidirectional(LSTM(128)))\n",
    "    model.add(Dropout(0.5))\n",
    "    model.add(Dense(5000, activation='relu'))\n",
    "    model.add(Dense(len(np.unique(df['dialect'])), activation='softmax'))\n",
    "    return model\n",
    "\n",
    "model1 = create_model()\n",
    "tf.keras.backend.clear_session()\n",
    "early_stop = tf.keras.callbacks.EarlyStopping(monitor='loss',mode = 'max',patience=3,verbose=1) #,mode = 'min',callbacks=[early_stop]\n",
    "early_stopping = EarlyStopping(monitor='loss', patience=2)\n",
    "tf.keras.backend.clear_session()\n",
    "# early_stopping = EarlyStopping(monitor= 'val_acc', \n",
    "#                                mode = 'max',\n",
    "#                                patience=30, \n",
    "#                                verbose=1)\n",
    "\n",
    "# model_checkpoint = ModelCheckpoint('levant_dialect_CLASSIFIER',\n",
    "#                                    monitor = 'val_acc', \n",
    "#                                    mode = 'max', \n",
    "#                                    save_best_only=True, \n",
    "#                                    verbose=1)\n",
    "\n",
    "\n",
    "opt = Adam(learning_rate = 0.0001)\n",
    "\n",
    "model1.compile(opt, loss = 'categorical_crossentropy', metrics=['accuracy'])"
   ]
  },
  {
   "cell_type": "code",
   "execution_count": 20,
   "metadata": {
    "execution": {
     "iopub.execute_input": "2022-03-13T20:31:26.111144Z",
     "iopub.status.busy": "2022-03-13T20:31:26.110897Z",
     "iopub.status.idle": "2022-03-13T20:31:26.572000Z",
     "shell.execute_reply": "2022-03-13T20:31:26.571232Z",
     "shell.execute_reply.started": "2022-03-13T20:31:26.111111Z"
    }
   },
   "outputs": [
    {
     "data": {
      "text/plain": [
       "['GULF', 'IQ', 'LEVANT', 'MAGHERB', 'NILE BASIN', 'YE']"
      ]
     },
     "execution_count": 20,
     "metadata": {},
     "output_type": "execute_result"
    }
   ],
   "source": [
    "np.unique(df['dialect']).tolist()"
   ]
  },
  {
   "cell_type": "code",
   "execution_count": 21,
   "metadata": {
    "execution": {
     "iopub.execute_input": "2022-03-13T20:31:26.573653Z",
     "iopub.status.busy": "2022-03-13T20:31:26.573385Z",
     "iopub.status.idle": "2022-03-13T20:50:29.947333Z",
     "shell.execute_reply": "2022-03-13T20:50:29.946617Z",
     "shell.execute_reply.started": "2022-03-13T20:31:26.573618Z"
    }
   },
   "outputs": [
    {
     "name": "stderr",
     "output_type": "stream",
     "text": [
      "2022-03-13 20:31:26.734757: I tensorflow/compiler/mlir/mlir_graph_optimization_pass.cc:185] None of the MLIR Optimization Passes are enabled (registered 2)\n"
     ]
    },
    {
     "name": "stdout",
     "output_type": "stream",
     "text": [
      "Epoch 1/50\n"
     ]
    },
    {
     "name": "stderr",
     "output_type": "stream",
     "text": [
      "2022-03-13 20:31:29.822266: I tensorflow/stream_executor/cuda/cuda_dnn.cc:369] Loaded cuDNN version 8005\n"
     ]
    },
    {
     "name": "stdout",
     "output_type": "stream",
     "text": [
      "12883/12883 [==============================] - 289s 22ms/step - loss: 0.9028 - accuracy: 0.6878 - val_loss: 0.7546 - val_accuracy: 0.7468\n",
      "Epoch 2/50\n",
      "12883/12883 [==============================] - 284s 22ms/step - loss: 0.6925 - accuracy: 0.7697 - val_loss: 0.7012 - val_accuracy: 0.7655\n",
      "Epoch 3/50\n",
      "12883/12883 [==============================] - 284s 22ms/step - loss: 0.6050 - accuracy: 0.8001 - val_loss: 0.6872 - val_accuracy: 0.7698\n",
      "Epoch 4/50\n",
      "12883/12883 [==============================] - 285s 22ms/step - loss: 0.5421 - accuracy: 0.8217 - val_loss: 0.6780 - val_accuracy: 0.7733\n",
      "Epoch 00004: early stopping\n"
     ]
    }
   ],
   "source": [
    "#train the model\n",
    "history = model1.fit(x_train, \n",
    "                    y_train, \n",
    "                    validation_data=(x_test, y_test),\n",
    "                    batch_size=32,\n",
    "                    epochs=50,\n",
    "                    callbacks = [early_stop])"
   ]
  },
  {
   "cell_type": "code",
   "execution_count": 32,
   "metadata": {
    "execution": {
     "iopub.execute_input": "2022-03-13T20:56:46.815399Z",
     "iopub.status.busy": "2022-03-13T20:56:46.814710Z",
     "iopub.status.idle": "2022-03-13T20:56:47.871079Z",
     "shell.execute_reply": "2022-03-13T20:56:47.870374Z",
     "shell.execute_reply.started": "2022-03-13T20:56:46.815339Z"
    }
   },
   "outputs": [],
   "source": [
    "model1.save(\"MAIN_MODEL.h5\")"
   ]
  },
  {
   "cell_type": "code",
   "execution_count": 23,
   "metadata": {
    "execution": {
     "iopub.execute_input": "2022-03-13T20:50:31.010388Z",
     "iopub.status.busy": "2022-03-13T20:50:31.010119Z",
     "iopub.status.idle": "2022-03-13T20:50:31.467951Z",
     "shell.execute_reply": "2022-03-13T20:50:31.467208Z",
     "shell.execute_reply.started": "2022-03-13T20:50:31.010336Z"
    }
   },
   "outputs": [
    {
     "data": {
      "text/plain": [
       "['GULF', 'IQ', 'LEVANT', 'MAGHERB', 'NILE BASIN', 'YE']"
      ]
     },
     "execution_count": 23,
     "metadata": {},
     "output_type": "execute_result"
    }
   ],
   "source": [
    "target_names=np.unique(df['dialect']).tolist()\n",
    "target_names"
   ]
  },
  {
   "cell_type": "code",
   "execution_count": 24,
   "metadata": {
    "execution": {
     "iopub.execute_input": "2022-03-13T20:50:31.469306Z",
     "iopub.status.busy": "2022-03-13T20:50:31.469061Z",
     "iopub.status.idle": "2022-03-13T20:50:31.483475Z",
     "shell.execute_reply": "2022-03-13T20:50:31.482631Z",
     "shell.execute_reply.started": "2022-03-13T20:50:31.469273Z"
    }
   },
   "outputs": [
    {
     "data": {
      "text/html": [
       "<div>\n",
       "<style scoped>\n",
       "    .dataframe tbody tr th:only-of-type {\n",
       "        vertical-align: middle;\n",
       "    }\n",
       "\n",
       "    .dataframe tbody tr th {\n",
       "        vertical-align: top;\n",
       "    }\n",
       "\n",
       "    .dataframe thead th {\n",
       "        text-align: right;\n",
       "    }\n",
       "</style>\n",
       "<table border=\"1\" class=\"dataframe\">\n",
       "  <thead>\n",
       "    <tr style=\"text-align: right;\">\n",
       "      <th></th>\n",
       "      <th>GULF</th>\n",
       "      <th>IQ</th>\n",
       "      <th>LEVANT</th>\n",
       "      <th>MAGHERB</th>\n",
       "      <th>NILE BASIN</th>\n",
       "      <th>YE</th>\n",
       "    </tr>\n",
       "  </thead>\n",
       "  <tbody>\n",
       "    <tr>\n",
       "      <th>378228</th>\n",
       "      <td>1</td>\n",
       "      <td>0</td>\n",
       "      <td>0</td>\n",
       "      <td>0</td>\n",
       "      <td>0</td>\n",
       "      <td>0</td>\n",
       "    </tr>\n",
       "    <tr>\n",
       "      <th>413734</th>\n",
       "      <td>1</td>\n",
       "      <td>0</td>\n",
       "      <td>0</td>\n",
       "      <td>0</td>\n",
       "      <td>0</td>\n",
       "      <td>0</td>\n",
       "    </tr>\n",
       "    <tr>\n",
       "      <th>300371</th>\n",
       "      <td>0</td>\n",
       "      <td>0</td>\n",
       "      <td>0</td>\n",
       "      <td>0</td>\n",
       "      <td>1</td>\n",
       "      <td>0</td>\n",
       "    </tr>\n",
       "    <tr>\n",
       "      <th>404355</th>\n",
       "      <td>0</td>\n",
       "      <td>0</td>\n",
       "      <td>0</td>\n",
       "      <td>0</td>\n",
       "      <td>1</td>\n",
       "      <td>0</td>\n",
       "    </tr>\n",
       "    <tr>\n",
       "      <th>55847</th>\n",
       "      <td>1</td>\n",
       "      <td>0</td>\n",
       "      <td>0</td>\n",
       "      <td>0</td>\n",
       "      <td>0</td>\n",
       "      <td>0</td>\n",
       "    </tr>\n",
       "    <tr>\n",
       "      <th>...</th>\n",
       "      <td>...</td>\n",
       "      <td>...</td>\n",
       "      <td>...</td>\n",
       "      <td>...</td>\n",
       "      <td>...</td>\n",
       "      <td>...</td>\n",
       "    </tr>\n",
       "    <tr>\n",
       "      <th>139690</th>\n",
       "      <td>0</td>\n",
       "      <td>0</td>\n",
       "      <td>1</td>\n",
       "      <td>0</td>\n",
       "      <td>0</td>\n",
       "      <td>0</td>\n",
       "    </tr>\n",
       "    <tr>\n",
       "      <th>28344</th>\n",
       "      <td>0</td>\n",
       "      <td>0</td>\n",
       "      <td>0</td>\n",
       "      <td>1</td>\n",
       "      <td>0</td>\n",
       "      <td>0</td>\n",
       "    </tr>\n",
       "    <tr>\n",
       "      <th>258471</th>\n",
       "      <td>0</td>\n",
       "      <td>0</td>\n",
       "      <td>0</td>\n",
       "      <td>0</td>\n",
       "      <td>1</td>\n",
       "      <td>0</td>\n",
       "    </tr>\n",
       "    <tr>\n",
       "      <th>94459</th>\n",
       "      <td>0</td>\n",
       "      <td>0</td>\n",
       "      <td>1</td>\n",
       "      <td>0</td>\n",
       "      <td>0</td>\n",
       "      <td>0</td>\n",
       "    </tr>\n",
       "    <tr>\n",
       "      <th>341367</th>\n",
       "      <td>1</td>\n",
       "      <td>0</td>\n",
       "      <td>0</td>\n",
       "      <td>0</td>\n",
       "      <td>0</td>\n",
       "      <td>0</td>\n",
       "    </tr>\n",
       "  </tbody>\n",
       "</table>\n",
       "<p>45804 rows × 6 columns</p>\n",
       "</div>"
      ],
      "text/plain": [
       "        GULF  IQ  LEVANT  MAGHERB  NILE BASIN  YE\n",
       "378228     1   0       0        0           0   0\n",
       "413734     1   0       0        0           0   0\n",
       "300371     0   0       0        0           1   0\n",
       "404355     0   0       0        0           1   0\n",
       "55847      1   0       0        0           0   0\n",
       "...      ...  ..     ...      ...         ...  ..\n",
       "139690     0   0       1        0           0   0\n",
       "28344      0   0       0        1           0   0\n",
       "258471     0   0       0        0           1   0\n",
       "94459      0   0       1        0           0   0\n",
       "341367     1   0       0        0           0   0\n",
       "\n",
       "[45804 rows x 6 columns]"
      ]
     },
     "execution_count": 24,
     "metadata": {},
     "output_type": "execute_result"
    }
   ],
   "source": [
    "y_test"
   ]
  },
  {
   "cell_type": "code",
   "execution_count": 25,
   "metadata": {
    "execution": {
     "iopub.execute_input": "2022-03-13T20:50:31.485380Z",
     "iopub.status.busy": "2022-03-13T20:50:31.485035Z",
     "iopub.status.idle": "2022-03-13T20:50:31.495455Z",
     "shell.execute_reply": "2022-03-13T20:50:31.493984Z",
     "shell.execute_reply.started": "2022-03-13T20:50:31.485331Z"
    }
   },
   "outputs": [
    {
     "data": {
      "text/plain": [
       "array([0, 0, 4, ..., 4, 2, 0])"
      ]
     },
     "execution_count": 25,
     "metadata": {},
     "output_type": "execute_result"
    }
   ],
   "source": [
    "np.argmax(np.array(y_test),axis=1)"
   ]
  },
  {
   "cell_type": "markdown",
   "metadata": {},
   "source": [
    "### classification report for test data"
   ]
  },
  {
   "cell_type": "code",
   "execution_count": 26,
   "metadata": {
    "execution": {
     "iopub.execute_input": "2022-03-13T20:50:31.499583Z",
     "iopub.status.busy": "2022-03-13T20:50:31.496636Z",
     "iopub.status.idle": "2022-03-13T20:50:42.339867Z",
     "shell.execute_reply": "2022-03-13T20:50:42.339046Z",
     "shell.execute_reply.started": "2022-03-13T20:50:31.499557Z"
    }
   },
   "outputs": [
    {
     "name": "stdout",
     "output_type": "stream",
     "text": [
      "              precision    recall  f1-score   support\n",
      "\n",
      "        GULF       0.77      0.88      0.82     17168\n",
      "          IQ       0.66      0.50      0.57      1549\n",
      "      LEVANT       0.79      0.74      0.76     11549\n",
      "     MAGHERB       0.78      0.68      0.73      7344\n",
      "  NILE BASIN       0.78      0.80      0.79      7202\n",
      "          YE       0.44      0.13      0.20       992\n",
      "\n",
      "    accuracy                           0.77     45804\n",
      "   macro avg       0.70      0.62      0.65     45804\n",
      "weighted avg       0.77      0.77      0.77     45804\n",
      "\n"
     ]
    }
   ],
   "source": [
    "pred=model1.predict(x_test)\n",
    "print(classification_report(np.argmax(np.array(y_test),axis=1),np.argmax(pred,axis=1), target_names=target_names))"
   ]
  },
  {
   "cell_type": "markdown",
   "metadata": {},
   "source": [
    "### classification report for train data"
   ]
  },
  {
   "cell_type": "code",
   "execution_count": 27,
   "metadata": {
    "execution": {
     "iopub.execute_input": "2022-03-13T20:50:42.341466Z",
     "iopub.status.busy": "2022-03-13T20:50:42.341215Z",
     "iopub.status.idle": "2022-03-13T20:51:33.746476Z",
     "shell.execute_reply": "2022-03-13T20:51:33.744848Z",
     "shell.execute_reply.started": "2022-03-13T20:50:42.341434Z"
    }
   },
   "outputs": [
    {
     "name": "stdout",
     "output_type": "stream",
     "text": [
      "              precision    recall  f1-score   support\n",
      "\n",
      "        GULF       0.83      0.94      0.88    154516\n",
      "          IQ       0.82      0.62      0.71     13941\n",
      "      LEVANT       0.86      0.82      0.84    103937\n",
      "     MAGHERB       0.88      0.78      0.83     66098\n",
      "  NILE BASIN       0.85      0.88      0.87     64816\n",
      "          YE       0.68      0.22      0.33      8928\n",
      "\n",
      "    accuracy                           0.85    412236\n",
      "   macro avg       0.82      0.71      0.74    412236\n",
      "weighted avg       0.85      0.85      0.84    412236\n",
      "\n"
     ]
    }
   ],
   "source": [
    "pred_train=model1.predict(x_train)\n",
    "print(classification_report(np.argmax(np.array(y_train),axis=1),np.argmax(pred_train,axis=1), target_names=target_names))"
   ]
  },
  {
   "cell_type": "code",
   "execution_count": 28,
   "metadata": {
    "execution": {
     "iopub.execute_input": "2022-03-13T20:51:33.750314Z",
     "iopub.status.busy": "2022-03-13T20:51:33.750116Z",
     "iopub.status.idle": "2022-03-13T20:51:33.756121Z",
     "shell.execute_reply": "2022-03-13T20:51:33.755423Z",
     "shell.execute_reply.started": "2022-03-13T20:51:33.750289Z"
    }
   },
   "outputs": [
    {
     "name": "stdout",
     "output_type": "stream",
     "text": [
      "[5590]\n"
     ]
    }
   ],
   "source": [
    "a=\"توحشتك\"\n",
    "l=splitolist(a)\n",
    "seq=tokenizer.texts_to_sequences(l)\n",
    "b=[item for sublist in seq for item in sublist]\n",
    "print(b)\n",
    "pad_seq=pad_sequences([b], maxlen=max_length,padding='post')"
   ]
  },
  {
   "cell_type": "code",
   "execution_count": 29,
   "metadata": {
    "execution": {
     "iopub.execute_input": "2022-03-13T20:51:33.757945Z",
     "iopub.status.busy": "2022-03-13T20:51:33.757230Z",
     "iopub.status.idle": "2022-03-13T20:51:33.767787Z",
     "shell.execute_reply": "2022-03-13T20:51:33.766690Z",
     "shell.execute_reply.started": "2022-03-13T20:51:33.757908Z"
    }
   },
   "outputs": [
    {
     "name": "stdout",
     "output_type": "stream",
     "text": [
      "['توحشتك'] [[5590]] [[5590    0    0    0    0    0    0    0    0    0    0    0    0    0\n",
      "     0    0    0    0    0    0    0    0    0    0    0    0    0    0\n",
      "     0    0    0    0    0    0    0    0    0    0    0    0    0    0\n",
      "     0    0    0    0    0    0    0    0    0    0    0    0    0    0\n",
      "     0    0    0    0    0    0    0    0    0    0    0    0    0    0\n",
      "     0    0    0    0    0    0    0    0    0    0    0    0    0    0\n",
      "     0    0]]\n"
     ]
    }
   ],
   "source": [
    "print(l,seq,pad_seq)"
   ]
  },
  {
   "cell_type": "code",
   "execution_count": 30,
   "metadata": {
    "execution": {
     "iopub.execute_input": "2022-03-13T20:51:33.769240Z",
     "iopub.status.busy": "2022-03-13T20:51:33.768981Z",
     "iopub.status.idle": "2022-03-13T20:51:33.831886Z",
     "shell.execute_reply": "2022-03-13T20:51:33.831196Z",
     "shell.execute_reply.started": "2022-03-13T20:51:33.769206Z"
    }
   },
   "outputs": [
    {
     "data": {
      "text/plain": [
       "3"
      ]
     },
     "execution_count": 30,
     "metadata": {},
     "output_type": "execute_result"
    }
   ],
   "source": [
    "out=model1.predict(pad_seq).argmax(axis=1)\n",
    "out[0]"
   ]
  },
  {
   "cell_type": "code",
   "execution_count": 31,
   "metadata": {
    "execution": {
     "iopub.execute_input": "2022-03-13T20:51:33.833154Z",
     "iopub.status.busy": "2022-03-13T20:51:33.832935Z",
     "iopub.status.idle": "2022-03-13T20:51:33.841110Z",
     "shell.execute_reply": "2022-03-13T20:51:33.840263Z",
     "shell.execute_reply.started": "2022-03-13T20:51:33.833125Z"
    }
   },
   "outputs": [
    {
     "data": {
      "text/plain": [
       "'MAGHERB'"
      ]
     },
     "execution_count": 31,
     "metadata": {},
     "output_type": "execute_result"
    }
   ],
   "source": [
    "country_pred=target_names[out[0]]\n",
    "country_pred"
   ]
  }
 ],
 "metadata": {
  "kernelspec": {
   "display_name": "Python 3 (ipykernel)",
   "language": "python",
   "name": "python3"
  },
  "language_info": {
   "codemirror_mode": {
    "name": "ipython",
    "version": 3
   },
   "file_extension": ".py",
   "mimetype": "text/x-python",
   "name": "python",
   "nbconvert_exporter": "python",
   "pygments_lexer": "ipython3",
   "version": "3.9.7"
  }
 },
 "nbformat": 4,
 "nbformat_minor": 4
}
