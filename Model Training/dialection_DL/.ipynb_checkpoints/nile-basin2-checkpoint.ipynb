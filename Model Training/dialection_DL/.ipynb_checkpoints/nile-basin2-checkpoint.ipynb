{
 "cells": [
  {
   "cell_type": "code",
   "execution_count": 1,
   "metadata": {
    "execution": {
     "iopub.execute_input": "2022-03-13T21:01:09.126850Z",
     "iopub.status.busy": "2022-03-13T21:01:09.126520Z",
     "iopub.status.idle": "2022-03-13T21:01:19.046884Z",
     "shell.execute_reply": "2022-03-13T21:01:19.045976Z",
     "shell.execute_reply.started": "2022-03-13T21:01:09.126746Z"
    }
   },
   "outputs": [
    {
     "name": "stdout",
     "output_type": "stream",
     "text": [
      "Collecting openpyxl\n",
      "  Downloading openpyxl-3.0.9-py2.py3-none-any.whl (242 kB)\n",
      "     |████████████████████████████████| 242 kB 893 kB/s            \n",
      "\u001b[?25hCollecting et-xmlfile\n",
      "  Downloading et_xmlfile-1.1.0-py3-none-any.whl (4.7 kB)\n",
      "Installing collected packages: et-xmlfile, openpyxl\n",
      "Successfully installed et-xmlfile-1.1.0 openpyxl-3.0.9\n",
      "\u001b[33mWARNING: Running pip as the 'root' user can result in broken permissions and conflicting behaviour with the system package manager. It is recommended to use a virtual environment instead: https://pip.pypa.io/warnings/venv\u001b[0m\n",
      "Note: you may need to restart the kernel to use updated packages.\n"
     ]
    }
   ],
   "source": [
    "pip install openpyxl"
   ]
  },
  {
   "cell_type": "code",
   "execution_count": 2,
   "metadata": {
    "execution": {
     "iopub.execute_input": "2022-03-13T21:01:19.049583Z",
     "iopub.status.busy": "2022-03-13T21:01:19.049123Z",
     "iopub.status.idle": "2022-03-13T21:01:25.308502Z",
     "shell.execute_reply": "2022-03-13T21:01:25.307760Z",
     "shell.execute_reply.started": "2022-03-13T21:01:19.049543Z"
    }
   },
   "outputs": [],
   "source": [
    "import pandas as pd\n",
    "import seaborn as sns\n",
    "import fasttext\n",
    "from nltk.util import ngrams\n",
    "from tensorflow.keras.preprocessing.text import Tokenizer\n",
    "from sklearn.model_selection import train_test_split\n",
    "from keras.preprocessing.sequence import pad_sequences\n",
    "from keras.preprocessing import text, sequence\n",
    "import numpy as np\n",
    "from tensorflow.keras.optimizers import Adam\n",
    "from keras.models import Sequential\n",
    "from keras.layers import Dense, Embedding,GRU,LSTM,Bidirectional,Dropout,Conv1D,MaxPooling1D,GlobalAveragePooling1D,Flatten,Input\n",
    "import matplotlib.pyplot as plt\n",
    "import tensorflow as tf\n",
    "from sklearn.metrics import accuracy_score,classification_report\n",
    "from keras.callbacks import EarlyStopping,ModelCheckpoint, ReduceLROnPlateau\n",
    "from sklearn.model_selection import StratifiedKFold\n",
    "import gensim\n",
    "from tqdm import tqdm\n",
    "from gensim.models import word2vec\n",
    "from sklearn import metrics\n"
   ]
  },
  {
   "cell_type": "markdown",
   "metadata": {},
   "source": [
    "### Import excel file for Nile_Basin countries"
   ]
  },
  {
   "cell_type": "code",
   "execution_count": 3,
   "metadata": {
    "execution": {
     "iopub.execute_input": "2022-03-13T21:01:25.311179Z",
     "iopub.status.busy": "2022-03-13T21:01:25.309638Z",
     "iopub.status.idle": "2022-03-13T21:01:31.822293Z",
     "shell.execute_reply": "2022-03-13T21:01:31.821610Z",
     "shell.execute_reply.started": "2022-03-13T21:01:25.311139Z"
    }
   },
   "outputs": [
    {
     "data": {
      "text/plain": [
       "tokens     0\n",
       "dialect    0\n",
       "dtype: int64"
      ]
     },
     "execution_count": 3,
     "metadata": {},
     "output_type": "execute_result"
    }
   ],
   "source": [
    "df=pd.read_excel(\"../input/data-arabic-dialect/data_nile_basin.xlsx\",index_col=0,\n",
    "              dtype={'tokens': str, 'dialect': str})\n",
    "## check the presence of null values\n",
    "df.isna().sum()"
   ]
  },
  {
   "cell_type": "code",
   "execution_count": 4,
   "metadata": {
    "execution": {
     "iopub.execute_input": "2022-03-13T21:01:31.824979Z",
     "iopub.status.busy": "2022-03-13T21:01:31.824490Z",
     "iopub.status.idle": "2022-03-13T21:01:31.838823Z",
     "shell.execute_reply": "2022-03-13T21:01:31.838134Z",
     "shell.execute_reply.started": "2022-03-13T21:01:31.824940Z"
    }
   },
   "outputs": [],
   "source": [
    "## reset index\n",
    "df=df.reset_index()\n",
    "df.drop('index',axis=1,inplace=True)"
   ]
  },
  {
   "cell_type": "markdown",
   "metadata": {},
   "source": [
    "### count numbers of sentences that belong to each country"
   ]
  },
  {
   "cell_type": "code",
   "execution_count": 5,
   "metadata": {
    "execution": {
     "iopub.execute_input": "2022-03-13T21:01:31.842214Z",
     "iopub.status.busy": "2022-03-13T21:01:31.841993Z",
     "iopub.status.idle": "2022-03-13T21:01:32.039743Z",
     "shell.execute_reply": "2022-03-13T21:01:32.038767Z",
     "shell.execute_reply.started": "2022-03-13T21:01:31.842189Z"
    }
   },
   "outputs": [
    {
     "name": "stdout",
     "output_type": "stream",
     "text": [
      "Index(['EG', 'SD'], dtype='object')\n"
     ]
    },
    {
     "name": "stderr",
     "output_type": "stream",
     "text": [
      "/opt/conda/lib/python3.7/site-packages/seaborn/_decorators.py:43: FutureWarning: Pass the following variables as keyword args: x, y. From version 0.12, the only valid positional argument will be `data`, and passing other arguments without an explicit keyword will result in an error or misinterpretation.\n",
      "  FutureWarning\n"
     ]
    },
    {
     "data": {
      "text/plain": [
       "<AxesSubplot:ylabel='dialect'>"
      ]
     },
     "execution_count": 5,
     "metadata": {},
     "output_type": "execute_result"
    },
    {
     "data": {
      "image/png": "[encoded data removed]",
      "text/plain": [
       "<Figure size 432x288 with 1 Axes>"
      ]
     },
     "metadata": {
      "needs_background": "light"
     },
     "output_type": "display_data"
    }
   ],
   "source": [
    "x=df['dialect'].value_counts()\n",
    "print(x.index)\n",
    "sns.barplot(x.index,x)"
   ]
  },
  {
   "cell_type": "markdown",
   "metadata": {},
   "source": [
    "### compute the max number of words ( max_length of the sentence)"
   ]
  },
  {
   "cell_type": "code",
   "execution_count": 6,
   "metadata": {
    "execution": {
     "iopub.execute_input": "2022-03-13T21:01:32.041599Z",
     "iopub.status.busy": "2022-03-13T21:01:32.041304Z",
     "iopub.status.idle": "2022-03-13T21:01:32.046909Z",
     "shell.execute_reply": "2022-03-13T21:01:32.045946Z",
     "shell.execute_reply.started": "2022-03-13T21:01:32.041563Z"
    }
   },
   "outputs": [],
   "source": [
    "def splitolist(data):\n",
    "    l=data.split(\" \")\n",
    "    return l"
   ]
  },
  {
   "cell_type": "code",
   "execution_count": 7,
   "metadata": {
    "execution": {
     "iopub.execute_input": "2022-03-13T21:01:32.049554Z",
     "iopub.status.busy": "2022-03-13T21:01:32.048997Z",
     "iopub.status.idle": "2022-03-13T21:01:32.215521Z",
     "shell.execute_reply": "2022-03-13T21:01:32.214660Z",
     "shell.execute_reply.started": "2022-03-13T21:01:32.049511Z"
    }
   },
   "outputs": [],
   "source": [
    "df['tokens1']=df['tokens'].apply(splitolist)"
   ]
  },
  {
   "cell_type": "code",
   "execution_count": 8,
   "metadata": {
    "execution": {
     "iopub.execute_input": "2022-03-13T21:01:32.217216Z",
     "iopub.status.busy": "2022-03-13T21:01:32.216948Z",
     "iopub.status.idle": "2022-03-13T21:01:32.276329Z",
     "shell.execute_reply": "2022-03-13T21:01:32.275414Z",
     "shell.execute_reply.started": "2022-03-13T21:01:32.217177Z"
    }
   },
   "outputs": [
    {
     "name": "stdout",
     "output_type": "stream",
     "text": [
      "max length is 54\n"
     ]
    }
   ],
   "source": [
    "max_length=df.tokens1.str.len().max()\n",
    "print(\"max length is\"+\" \"+str(max_length))\n"
   ]
  },
  {
   "cell_type": "code",
   "execution_count": 9,
   "metadata": {
    "execution": {
     "iopub.execute_input": "2022-03-13T21:01:32.278254Z",
     "iopub.status.busy": "2022-03-13T21:01:32.277966Z",
     "iopub.status.idle": "2022-03-13T21:01:32.291449Z",
     "shell.execute_reply": "2022-03-13T21:01:32.290296Z",
     "shell.execute_reply.started": "2022-03-13T21:01:32.278215Z"
    }
   },
   "outputs": [
    {
     "data": {
      "text/plain": [
       "'الاقيش معاك الف يا عم نجيب قرض حسن ابدا بيهم حلمي وهسدهم عاوز تشاركني هسدهم بارضو وتبقى شريك بالربع'"
      ]
     },
     "execution_count": 9,
     "metadata": {},
     "output_type": "execute_result"
    }
   ],
   "source": [
    "df.loc[0,['tokens','dialect']][0]"
   ]
  },
  {
   "cell_type": "markdown",
   "metadata": {},
   "source": [
    "### create a corpus of the entire dataset in a txt file"
   ]
  },
  {
   "cell_type": "code",
   "execution_count": 10,
   "metadata": {
    "execution": {
     "iopub.execute_input": "2022-03-13T21:01:32.295435Z",
     "iopub.status.busy": "2022-03-13T21:01:32.295061Z",
     "iopub.status.idle": "2022-03-13T21:01:33.145287Z",
     "shell.execute_reply": "2022-03-13T21:01:33.144545Z",
     "shell.execute_reply.started": "2022-03-13T21:01:32.295403Z"
    }
   },
   "outputs": [],
   "source": [
    "with open(r'./corpus.txt', 'w', encoding='utf-8') as txtfile:\n",
    "    for i in range(len(df)):\n",
    "        line = df.loc[i,'tokens']\n",
    "        txtfile.write(line)\n",
    "        txtfile.write('\\n')"
   ]
  },
  {
   "cell_type": "markdown",
   "metadata": {},
   "source": [
    "### train skipgram model on the corpus to get word embeddings"
   ]
  },
  {
   "cell_type": "code",
   "execution_count": 11,
   "metadata": {
    "execution": {
     "iopub.execute_input": "2022-03-13T21:01:33.146939Z",
     "iopub.status.busy": "2022-03-13T21:01:33.146660Z",
     "iopub.status.idle": "2022-03-13T21:03:09.666129Z",
     "shell.execute_reply": "2022-03-13T21:03:09.665374Z",
     "shell.execute_reply.started": "2022-03-13T21:01:33.146901Z"
    }
   },
   "outputs": [
    {
     "name": "stderr",
     "output_type": "stream",
     "text": [
      "Read 0M words\n",
      "Number of words:  21252\n",
      "Number of labels: 0\n",
      "Progress: 100.0% words/sec/thread:   99501 lr:  0.000000 avg.loss:  1.659903 ETA:   0h 0m 0s\n"
     ]
    }
   ],
   "source": [
    "EMBED_SIZE=100\n",
    "model = fasttext.train_unsupervised('./corpus.txt',\n",
    "                                    minCount = 5, \n",
    "                                    model='skipgram',\n",
    "                                    minn = 2,\n",
    "                                    maxn = 5,\n",
    "                                    dim = 100,\n",
    "                                    lr = 0.1,\n",
    "                                    epoch = 10)"
   ]
  },
  {
   "cell_type": "code",
   "execution_count": 12,
   "metadata": {
    "execution": {
     "iopub.execute_input": "2022-03-13T21:03:09.667924Z",
     "iopub.status.busy": "2022-03-13T21:03:09.667223Z",
     "iopub.status.idle": "2022-03-13T21:03:10.023222Z",
     "shell.execute_reply": "2022-03-13T21:03:10.022116Z",
     "shell.execute_reply.started": "2022-03-13T21:03:09.667885Z"
    }
   },
   "outputs": [],
   "source": [
    "#create a list of all unique words in the dataset\n",
    "with open(r'./corpus.txt', 'r', encoding=\"utf-8\") as txtfile:\n",
    "    corpus_sentences = txtfile.readlines()\n",
    "    corpus_words = []\n",
    "    for sent in corpus_sentences:\n",
    "        tokenized_sent = sent.split()\n",
    "        for word_ in tokenized_sent:\n",
    "            corpus_words.append(word_)\n",
    "            \n",
    "    corpus_unique_words = list(set(corpus_words))"
   ]
  },
  {
   "cell_type": "markdown",
   "metadata": {},
   "source": [
    "### convert text to numbers using tokenizer"
   ]
  },
  {
   "cell_type": "code",
   "execution_count": 13,
   "metadata": {
    "execution": {
     "iopub.execute_input": "2022-03-13T21:03:10.025422Z",
     "iopub.status.busy": "2022-03-13T21:03:10.024562Z",
     "iopub.status.idle": "2022-03-13T21:03:13.523247Z",
     "shell.execute_reply": "2022-03-13T21:03:13.522492Z",
     "shell.execute_reply.started": "2022-03-13T21:03:10.025378Z"
    }
   },
   "outputs": [],
   "source": [
    "tokenizer = Tokenizer(num_words=len(corpus_unique_words)+1)\n",
    "tokenizer.fit_on_texts(df['tokens'])\n",
    "sequences = tokenizer.texts_to_sequences(df['tokens'])"
   ]
  },
  {
   "cell_type": "code",
   "execution_count": 14,
   "metadata": {
    "execution": {
     "iopub.execute_input": "2022-03-13T21:03:13.524922Z",
     "iopub.status.busy": "2022-03-13T21:03:13.524677Z",
     "iopub.status.idle": "2022-03-13T21:03:13.902319Z",
     "shell.execute_reply": "2022-03-13T21:03:13.901395Z",
     "shell.execute_reply.started": "2022-03-13T21:03:13.524889Z"
    }
   },
   "outputs": [
    {
     "name": "stdout",
     "output_type": "stream",
     "text": [
      "Found 130101 unique tokens.\n"
     ]
    }
   ],
   "source": [
    "word_index = tokenizer.word_index\n",
    "print('Found %s unique tokens.' % len(word_index))\n",
    "data = pad_sequences(sequences, maxlen=max_length,padding='post')  ## padding all the sentences in the dataset to have the same length"
   ]
  },
  {
   "cell_type": "markdown",
   "metadata": {},
   "source": [
    "### create embedding matrix from the trained fasttext model"
   ]
  },
  {
   "cell_type": "code",
   "execution_count": 15,
   "metadata": {
    "execution": {
     "iopub.execute_input": "2022-03-13T21:03:13.903889Z",
     "iopub.status.busy": "2022-03-13T21:03:13.903627Z",
     "iopub.status.idle": "2022-03-13T21:03:15.521553Z",
     "shell.execute_reply": "2022-03-13T21:03:15.520840Z",
     "shell.execute_reply.started": "2022-03-13T21:03:13.903852Z"
    }
   },
   "outputs": [
    {
     "name": "stderr",
     "output_type": "stream",
     "text": [
      "100%|██████████| 130101/130101 [00:01<00:00, 81004.87it/s]\n"
     ]
    }
   ],
   "source": [
    "vocab_size = len(tokenizer.word_index)+1\n",
    "embeddings_matrix = np.zeros(shape = (vocab_size , EMBED_SIZE))\n",
    "\n",
    "for word, index in tqdm(tokenizer.word_index.items()):\n",
    "    embeddings_matrix[index] = model.get_word_vector(word)"
   ]
  },
  {
   "cell_type": "code",
   "execution_count": 16,
   "metadata": {
    "execution": {
     "iopub.execute_input": "2022-03-13T21:03:15.523298Z",
     "iopub.status.busy": "2022-03-13T21:03:15.522886Z",
     "iopub.status.idle": "2022-03-13T21:03:15.536032Z",
     "shell.execute_reply": "2022-03-13T21:03:15.535329Z",
     "shell.execute_reply.started": "2022-03-13T21:03:15.523259Z"
    }
   },
   "outputs": [],
   "source": [
    "data_y=pd.get_dummies(df['dialect'])"
   ]
  },
  {
   "cell_type": "code",
   "execution_count": 17,
   "metadata": {
    "execution": {
     "iopub.execute_input": "2022-03-13T21:03:15.538701Z",
     "iopub.status.busy": "2022-03-13T21:03:15.538516Z",
     "iopub.status.idle": "2022-03-13T21:03:15.550223Z",
     "shell.execute_reply": "2022-03-13T21:03:15.549473Z",
     "shell.execute_reply.started": "2022-03-13T21:03:15.538678Z"
    }
   },
   "outputs": [
    {
     "data": {
      "text/html": [
       "<div>\n",
       "<style scoped>\n",
       "    .dataframe tbody tr th:only-of-type {\n",
       "        vertical-align: middle;\n",
       "    }\n",
       "\n",
       "    .dataframe tbody tr th {\n",
       "        vertical-align: top;\n",
       "    }\n",
       "\n",
       "    .dataframe thead th {\n",
       "        text-align: right;\n",
       "    }\n",
       "</style>\n",
       "<table border=\"1\" class=\"dataframe\">\n",
       "  <thead>\n",
       "    <tr style=\"text-align: right;\">\n",
       "      <th></th>\n",
       "      <th>EG</th>\n",
       "      <th>SD</th>\n",
       "    </tr>\n",
       "  </thead>\n",
       "  <tbody>\n",
       "    <tr>\n",
       "      <th>0</th>\n",
       "      <td>1</td>\n",
       "      <td>0</td>\n",
       "    </tr>\n",
       "    <tr>\n",
       "      <th>1</th>\n",
       "      <td>1</td>\n",
       "      <td>0</td>\n",
       "    </tr>\n",
       "    <tr>\n",
       "      <th>2</th>\n",
       "      <td>1</td>\n",
       "      <td>0</td>\n",
       "    </tr>\n",
       "    <tr>\n",
       "      <th>3</th>\n",
       "      <td>1</td>\n",
       "      <td>0</td>\n",
       "    </tr>\n",
       "    <tr>\n",
       "      <th>4</th>\n",
       "      <td>1</td>\n",
       "      <td>0</td>\n",
       "    </tr>\n",
       "    <tr>\n",
       "      <th>5</th>\n",
       "      <td>1</td>\n",
       "      <td>0</td>\n",
       "    </tr>\n",
       "    <tr>\n",
       "      <th>6</th>\n",
       "      <td>1</td>\n",
       "      <td>0</td>\n",
       "    </tr>\n",
       "    <tr>\n",
       "      <th>7</th>\n",
       "      <td>1</td>\n",
       "      <td>0</td>\n",
       "    </tr>\n",
       "    <tr>\n",
       "      <th>8</th>\n",
       "      <td>1</td>\n",
       "      <td>0</td>\n",
       "    </tr>\n",
       "    <tr>\n",
       "      <th>9</th>\n",
       "      <td>1</td>\n",
       "      <td>0</td>\n",
       "    </tr>\n",
       "  </tbody>\n",
       "</table>\n",
       "</div>"
      ],
      "text/plain": [
       "   EG  SD\n",
       "0   1   0\n",
       "1   1   0\n",
       "2   1   0\n",
       "3   1   0\n",
       "4   1   0\n",
       "5   1   0\n",
       "6   1   0\n",
       "7   1   0\n",
       "8   1   0\n",
       "9   1   0"
      ]
     },
     "execution_count": 17,
     "metadata": {},
     "output_type": "execute_result"
    }
   ],
   "source": [
    "data_y[:10]"
   ]
  },
  {
   "cell_type": "code",
   "execution_count": 18,
   "metadata": {
    "execution": {
     "iopub.execute_input": "2022-03-13T21:03:15.551527Z",
     "iopub.status.busy": "2022-03-13T21:03:15.551218Z",
     "iopub.status.idle": "2022-03-13T21:03:15.993021Z",
     "shell.execute_reply": "2022-03-13T21:03:15.992199Z",
     "shell.execute_reply.started": "2022-03-13T21:03:15.551492Z"
    }
   },
   "outputs": [],
   "source": [
    "#split the data into train and test sets\n",
    "x_train, x_test, y_train, y_test = train_test_split(data,data_y, test_size = 0.1, stratify =data_y,shuffle=True)"
   ]
  },
  {
   "cell_type": "code",
   "execution_count": 19,
   "metadata": {
    "execution": {
     "iopub.execute_input": "2022-03-13T21:03:15.994865Z",
     "iopub.status.busy": "2022-03-13T21:03:15.994565Z",
     "iopub.status.idle": "2022-03-13T21:03:19.082278Z",
     "shell.execute_reply": "2022-03-13T21:03:19.081520Z",
     "shell.execute_reply.started": "2022-03-13T21:03:15.994815Z"
    }
   },
   "outputs": [
    {
     "name": "stderr",
     "output_type": "stream",
     "text": [
      "2022-03-13 21:03:16.071422: I tensorflow/stream_executor/cuda/cuda_gpu_executor.cc:937] successful NUMA node read from SysFS had negative value (-1), but there must be at least one NUMA node, so returning NUMA node zero\n",
      "2022-03-13 21:03:16.174609: I tensorflow/stream_executor/cuda/cuda_gpu_executor.cc:937] successful NUMA node read from SysFS had negative value (-1), but there must be at least one NUMA node, so returning NUMA node zero\n",
      "2022-03-13 21:03:16.175434: I tensorflow/stream_executor/cuda/cuda_gpu_executor.cc:937] successful NUMA node read from SysFS had negative value (-1), but there must be at least one NUMA node, so returning NUMA node zero\n",
      "2022-03-13 21:03:16.176550: I tensorflow/core/platform/cpu_feature_guard.cc:142] This TensorFlow binary is optimized with oneAPI Deep Neural Network Library (oneDNN) to use the following CPU instructions in performance-critical operations:  AVX2 AVX512F FMA\n",
      "To enable them in other operations, rebuild TensorFlow with the appropriate compiler flags.\n",
      "2022-03-13 21:03:16.177476: I tensorflow/stream_executor/cuda/cuda_gpu_executor.cc:937] successful NUMA node read from SysFS had negative value (-1), but there must be at least one NUMA node, so returning NUMA node zero\n",
      "2022-03-13 21:03:16.178265: I tensorflow/stream_executor/cuda/cuda_gpu_executor.cc:937] successful NUMA node read from SysFS had negative value (-1), but there must be at least one NUMA node, so returning NUMA node zero\n",
      "2022-03-13 21:03:16.178989: I tensorflow/stream_executor/cuda/cuda_gpu_executor.cc:937] successful NUMA node read from SysFS had negative value (-1), but there must be at least one NUMA node, so returning NUMA node zero\n",
      "2022-03-13 21:03:17.953644: I tensorflow/stream_executor/cuda/cuda_gpu_executor.cc:937] successful NUMA node read from SysFS had negative value (-1), but there must be at least one NUMA node, so returning NUMA node zero\n",
      "2022-03-13 21:03:17.954520: I tensorflow/stream_executor/cuda/cuda_gpu_executor.cc:937] successful NUMA node read from SysFS had negative value (-1), but there must be at least one NUMA node, so returning NUMA node zero\n",
      "2022-03-13 21:03:17.955168: I tensorflow/stream_executor/cuda/cuda_gpu_executor.cc:937] successful NUMA node read from SysFS had negative value (-1), but there must be at least one NUMA node, so returning NUMA node zero\n",
      "2022-03-13 21:03:17.955750: I tensorflow/core/common_runtime/gpu/gpu_device.cc:1510] Created device /job:localhost/replica:0/task:0/device:GPU:0 with 15403 MB memory:  -> device: 0, name: Tesla P100-PCIE-16GB, pci bus id: 0000:00:04.0, compute capability: 6.0\n"
     ]
    }
   ],
   "source": [
    "#create a bidirectional LSTM model\n",
    "def create_model():\n",
    "    model = Sequential()\n",
    "    embedding_layer = Embedding(vocab_size, EMBED_SIZE, \n",
    "                                weights=[embeddings_matrix], \n",
    "                                input_length=max_length , \n",
    "                                trainable=True)\n",
    "    \n",
    "    model.add(embedding_layer)\n",
    "    model.add(Bidirectional(LSTM(128)))\n",
    "    model.add(Dropout(0.5))\n",
    "    model.add(Dense(5000, activation='relu'))\n",
    "    model.add(Dense(len(np.unique(df['dialect'])), activation='softmax'))\n",
    "    return model\n",
    "\n",
    "model1 = create_model()\n",
    "tf.keras.backend.clear_session()\n",
    "early_stop = tf.keras.callbacks.EarlyStopping(monitor='loss',mode = 'max',patience=3,verbose=1) #,mode = 'min',callbacks=[early_stop]\n",
    "early_stopping = EarlyStopping(monitor='loss', patience=2)\n",
    "tf.keras.backend.clear_session()\n",
    "# early_stopping = EarlyStopping(monitor= 'val_acc', \n",
    "#                                mode = 'max',\n",
    "#                                patience=30, \n",
    "#                                verbose=1)\n",
    "\n",
    "# model_checkpoint = ModelCheckpoint('levant_dialect_CLASSIFIER',\n",
    "#                                    monitor = 'val_acc', \n",
    "#                                    mode = 'max', \n",
    "#                                    save_best_only=True, \n",
    "#                                    verbose=1)\n",
    "\n",
    "\n",
    "opt = Adam(learning_rate = 0.0001)\n",
    "\n",
    "model1.compile(opt, loss = 'categorical_crossentropy', metrics=['accuracy'])"
   ]
  },
  {
   "cell_type": "code",
   "execution_count": 20,
   "metadata": {
    "execution": {
     "iopub.execute_input": "2022-03-13T21:03:19.083775Z",
     "iopub.status.busy": "2022-03-13T21:03:19.083541Z",
     "iopub.status.idle": "2022-03-13T21:03:19.151899Z",
     "shell.execute_reply": "2022-03-13T21:03:19.151094Z",
     "shell.execute_reply.started": "2022-03-13T21:03:19.083743Z"
    }
   },
   "outputs": [
    {
     "data": {
      "text/plain": [
       "['EG', 'SD']"
      ]
     },
     "execution_count": 20,
     "metadata": {},
     "output_type": "execute_result"
    }
   ],
   "source": [
    "np.unique(df['dialect']).tolist()"
   ]
  },
  {
   "cell_type": "code",
   "execution_count": 21,
   "metadata": {
    "execution": {
     "iopub.execute_input": "2022-03-13T21:03:19.153558Z",
     "iopub.status.busy": "2022-03-13T21:03:19.153065Z",
     "iopub.status.idle": "2022-03-13T21:05:01.208216Z",
     "shell.execute_reply": "2022-03-13T21:05:01.207464Z",
     "shell.execute_reply.started": "2022-03-13T21:03:19.153517Z"
    }
   },
   "outputs": [
    {
     "name": "stderr",
     "output_type": "stream",
     "text": [
      "2022-03-13 21:03:19.216217: I tensorflow/compiler/mlir/mlir_graph_optimization_pass.cc:185] None of the MLIR Optimization Passes are enabled (registered 2)\n"
     ]
    },
    {
     "name": "stdout",
     "output_type": "stream",
     "text": [
      "Epoch 1/50\n"
     ]
    },
    {
     "name": "stderr",
     "output_type": "stream",
     "text": [
      "2022-03-13 21:03:22.337616: I tensorflow/stream_executor/cuda/cuda_dnn.cc:369] Loaded cuDNN version 8005\n"
     ]
    },
    {
     "name": "stdout",
     "output_type": "stream",
     "text": [
      "2026/2026 [==============================] - 29s 12ms/step - loss: 0.3251 - accuracy: 0.8648 - val_loss: 0.2476 - val_accuracy: 0.9013\n",
      "Epoch 2/50\n",
      "2026/2026 [==============================] - 24s 12ms/step - loss: 0.2215 - accuracy: 0.9109 - val_loss: 0.2235 - val_accuracy: 0.9102\n",
      "Epoch 3/50\n",
      "2026/2026 [==============================] - 24s 12ms/step - loss: 0.1781 - accuracy: 0.9295 - val_loss: 0.2161 - val_accuracy: 0.9154\n",
      "Epoch 4/50\n",
      "2026/2026 [==============================] - 24s 12ms/step - loss: 0.1434 - accuracy: 0.9450 - val_loss: 0.2242 - val_accuracy: 0.9131\n",
      "Epoch 00004: early stopping\n"
     ]
    }
   ],
   "source": [
    "#train the model\n",
    "history = model1.fit(x_train, \n",
    "                    y_train, \n",
    "                    validation_data=(x_test, y_test),\n",
    "                    batch_size=32,\n",
    "                    epochs=50,\n",
    "                    callbacks = [early_stop])"
   ]
  },
  {
   "cell_type": "code",
   "execution_count": 22,
   "metadata": {
    "execution": {
     "iopub.execute_input": "2022-03-13T21:05:01.210053Z",
     "iopub.status.busy": "2022-03-13T21:05:01.209796Z",
     "iopub.status.idle": "2022-03-13T21:05:01.572133Z",
     "shell.execute_reply": "2022-03-13T21:05:01.571313Z",
     "shell.execute_reply.started": "2022-03-13T21:05:01.210016Z"
    }
   },
   "outputs": [],
   "source": [
    "model1.save(\"Nile_Basin.h5\")"
   ]
  },
  {
   "cell_type": "code",
   "execution_count": 23,
   "metadata": {
    "execution": {
     "iopub.execute_input": "2022-03-13T21:05:01.573743Z",
     "iopub.status.busy": "2022-03-13T21:05:01.573477Z",
     "iopub.status.idle": "2022-03-13T21:05:01.641520Z",
     "shell.execute_reply": "2022-03-13T21:05:01.640718Z",
     "shell.execute_reply.started": "2022-03-13T21:05:01.573707Z"
    }
   },
   "outputs": [
    {
     "data": {
      "text/plain": [
       "['EG', 'SD']"
      ]
     },
     "execution_count": 23,
     "metadata": {},
     "output_type": "execute_result"
    }
   ],
   "source": [
    "target_names=np.unique(df['dialect']).tolist()\n",
    "target_names"
   ]
  },
  {
   "cell_type": "code",
   "execution_count": 24,
   "metadata": {
    "execution": {
     "iopub.execute_input": "2022-03-13T21:05:01.643363Z",
     "iopub.status.busy": "2022-03-13T21:05:01.643089Z",
     "iopub.status.idle": "2022-03-13T21:05:01.653747Z",
     "shell.execute_reply": "2022-03-13T21:05:01.652749Z",
     "shell.execute_reply.started": "2022-03-13T21:05:01.643318Z"
    }
   },
   "outputs": [
    {
     "data": {
      "text/html": [
       "<div>\n",
       "<style scoped>\n",
       "    .dataframe tbody tr th:only-of-type {\n",
       "        vertical-align: middle;\n",
       "    }\n",
       "\n",
       "    .dataframe tbody tr th {\n",
       "        vertical-align: top;\n",
       "    }\n",
       "\n",
       "    .dataframe thead th {\n",
       "        text-align: right;\n",
       "    }\n",
       "</style>\n",
       "<table border=\"1\" class=\"dataframe\">\n",
       "  <thead>\n",
       "    <tr style=\"text-align: right;\">\n",
       "      <th></th>\n",
       "      <th>EG</th>\n",
       "      <th>SD</th>\n",
       "    </tr>\n",
       "  </thead>\n",
       "  <tbody>\n",
       "    <tr>\n",
       "      <th>33518</th>\n",
       "      <td>1</td>\n",
       "      <td>0</td>\n",
       "    </tr>\n",
       "    <tr>\n",
       "      <th>3035</th>\n",
       "      <td>1</td>\n",
       "      <td>0</td>\n",
       "    </tr>\n",
       "    <tr>\n",
       "      <th>10938</th>\n",
       "      <td>1</td>\n",
       "      <td>0</td>\n",
       "    </tr>\n",
       "    <tr>\n",
       "      <th>67648</th>\n",
       "      <td>0</td>\n",
       "      <td>1</td>\n",
       "    </tr>\n",
       "    <tr>\n",
       "      <th>28353</th>\n",
       "      <td>1</td>\n",
       "      <td>0</td>\n",
       "    </tr>\n",
       "    <tr>\n",
       "      <th>...</th>\n",
       "      <td>...</td>\n",
       "      <td>...</td>\n",
       "    </tr>\n",
       "    <tr>\n",
       "      <th>50794</th>\n",
       "      <td>1</td>\n",
       "      <td>0</td>\n",
       "    </tr>\n",
       "    <tr>\n",
       "      <th>19009</th>\n",
       "      <td>1</td>\n",
       "      <td>0</td>\n",
       "    </tr>\n",
       "    <tr>\n",
       "      <th>25192</th>\n",
       "      <td>1</td>\n",
       "      <td>0</td>\n",
       "    </tr>\n",
       "    <tr>\n",
       "      <th>20014</th>\n",
       "      <td>1</td>\n",
       "      <td>0</td>\n",
       "    </tr>\n",
       "    <tr>\n",
       "      <th>3741</th>\n",
       "      <td>1</td>\n",
       "      <td>0</td>\n",
       "    </tr>\n",
       "  </tbody>\n",
       "</table>\n",
       "<p>7202 rows × 2 columns</p>\n",
       "</div>"
      ],
      "text/plain": [
       "       EG  SD\n",
       "33518   1   0\n",
       "3035    1   0\n",
       "10938   1   0\n",
       "67648   0   1\n",
       "28353   1   0\n",
       "...    ..  ..\n",
       "50794   1   0\n",
       "19009   1   0\n",
       "25192   1   0\n",
       "20014   1   0\n",
       "3741    1   0\n",
       "\n",
       "[7202 rows x 2 columns]"
      ]
     },
     "execution_count": 24,
     "metadata": {},
     "output_type": "execute_result"
    }
   ],
   "source": [
    "y_test"
   ]
  },
  {
   "cell_type": "code",
   "execution_count": 25,
   "metadata": {
    "execution": {
     "iopub.execute_input": "2022-03-13T21:05:01.655801Z",
     "iopub.status.busy": "2022-03-13T21:05:01.655398Z",
     "iopub.status.idle": "2022-03-13T21:05:01.662408Z",
     "shell.execute_reply": "2022-03-13T21:05:01.661667Z",
     "shell.execute_reply.started": "2022-03-13T21:05:01.655752Z"
    }
   },
   "outputs": [
    {
     "data": {
      "text/plain": [
       "array([0, 0, 0, ..., 0, 0, 0])"
      ]
     },
     "execution_count": 25,
     "metadata": {},
     "output_type": "execute_result"
    }
   ],
   "source": [
    "np.argmax(np.array(y_test),axis=1)"
   ]
  },
  {
   "cell_type": "markdown",
   "metadata": {},
   "source": [
    "### classification report for test data"
   ]
  },
  {
   "cell_type": "code",
   "execution_count": 26,
   "metadata": {
    "execution": {
     "iopub.execute_input": "2022-03-13T21:05:01.664981Z",
     "iopub.status.busy": "2022-03-13T21:05:01.663522Z",
     "iopub.status.idle": "2022-03-13T21:05:44.581762Z",
     "shell.execute_reply": "2022-03-13T21:05:44.581027Z",
     "shell.execute_reply.started": "2022-03-13T21:05:01.664926Z"
    }
   },
   "outputs": [
    {
     "name": "stdout",
     "output_type": "stream",
     "text": [
      "              precision    recall  f1-score   support\n",
      "\n",
      "          EG       0.95      0.95      0.95      5762\n",
      "          SD       0.78      0.78      0.78      1440\n",
      "\n",
      "    accuracy                           0.91      7202\n",
      "   macro avg       0.86      0.86      0.86      7202\n",
      "weighted avg       0.91      0.91      0.91      7202\n",
      "\n"
     ]
    }
   ],
   "source": [
    "pred=model1.predict(x_test)\n",
    "print(classification_report(np.argmax(np.array(y_test),axis=1),np.argmax(pred,axis=1), target_names=target_names))"
   ]
  },
  {
   "cell_type": "markdown",
   "metadata": {},
   "source": [
    "### classification report for train data"
   ]
  },
  {
   "cell_type": "code",
   "execution_count": 27,
   "metadata": {
    "execution": {
     "iopub.execute_input": "2022-03-13T21:05:44.583484Z",
     "iopub.status.busy": "2022-03-13T21:05:44.582926Z",
     "iopub.status.idle": "2022-03-13T21:05:54.929871Z",
     "shell.execute_reply": "2022-03-13T21:05:54.929103Z",
     "shell.execute_reply.started": "2022-03-13T21:05:44.583446Z"
    }
   },
   "outputs": [
    {
     "name": "stdout",
     "output_type": "stream",
     "text": [
      "              precision    recall  f1-score   support\n",
      "\n",
      "          EG       0.98      0.97      0.97     51859\n",
      "          SD       0.89      0.90      0.90     12957\n",
      "\n",
      "    accuracy                           0.96     64816\n",
      "   macro avg       0.93      0.94      0.93     64816\n",
      "weighted avg       0.96      0.96      0.96     64816\n",
      "\n"
     ]
    }
   ],
   "source": [
    "pred_train=model1.predict(x_train)\n",
    "print(classification_report(np.argmax(np.array(y_train),axis=1),np.argmax(pred_train,axis=1), target_names=target_names))"
   ]
  },
  {
   "cell_type": "code",
   "execution_count": null,
   "metadata": {},
   "outputs": [],
   "source": [
    "print(pred_train)"
   ]
  },
  {
   "cell_type": "code",
   "execution_count": 32,
   "metadata": {
    "execution": {
     "iopub.execute_input": "2022-03-13T21:09:35.743866Z",
     "iopub.status.busy": "2022-03-13T21:09:35.743374Z",
     "iopub.status.idle": "2022-03-13T21:09:35.749272Z",
     "shell.execute_reply": "2022-03-13T21:09:35.748603Z",
     "shell.execute_reply.started": "2022-03-13T21:09:35.743827Z"
    }
   },
   "outputs": [
    {
     "name": "stdout",
     "output_type": "stream",
     "text": [
      "[274, 8]\n"
     ]
    }
   ],
   "source": [
    "a=\"عامل ايه\"\n",
    "l=splitolist(a)\n",
    "seq=tokenizer.texts_to_sequences(l)\n",
    "b=[item for sublist in seq for item in sublist]\n",
    "print(b)\n",
    "pad_seq=pad_sequences([b], maxlen=max_length,padding='post')"
   ]
  },
  {
   "cell_type": "code",
   "execution_count": 33,
   "metadata": {
    "execution": {
     "iopub.execute_input": "2022-03-13T21:09:37.967145Z",
     "iopub.status.busy": "2022-03-13T21:09:37.966735Z",
     "iopub.status.idle": "2022-03-13T21:09:37.972983Z",
     "shell.execute_reply": "2022-03-13T21:09:37.972246Z",
     "shell.execute_reply.started": "2022-03-13T21:09:37.967108Z"
    }
   },
   "outputs": [
    {
     "name": "stdout",
     "output_type": "stream",
     "text": [
      "['عامل', 'ايه'] [[274], [8]] [[274   8   0   0   0   0   0   0   0   0   0   0   0   0   0   0   0   0\n",
      "    0   0   0   0   0   0   0   0   0   0   0   0   0   0   0   0   0   0\n",
      "    0   0   0   0   0   0   0   0   0   0   0   0   0   0   0   0   0   0]]\n"
     ]
    }
   ],
   "source": [
    "print(l,seq,pad_seq)"
   ]
  },
  {
   "cell_type": "code",
   "execution_count": 34,
   "metadata": {
    "execution": {
     "iopub.execute_input": "2022-03-13T21:09:40.240893Z",
     "iopub.status.busy": "2022-03-13T21:09:40.240357Z",
     "iopub.status.idle": "2022-03-13T21:09:40.289300Z",
     "shell.execute_reply": "2022-03-13T21:09:40.288592Z",
     "shell.execute_reply.started": "2022-03-13T21:09:40.240854Z"
    }
   },
   "outputs": [
    {
     "data": {
      "text/plain": [
       "0"
      ]
     },
     "execution_count": 34,
     "metadata": {},
     "output_type": "execute_result"
    }
   ],
   "source": [
    "out=model1.predict(pad_seq).argmax(axis=1)\n",
    "out[0]"
   ]
  },
  {
   "cell_type": "code",
   "execution_count": 35,
   "metadata": {
    "execution": {
     "iopub.execute_input": "2022-03-13T21:09:45.915014Z",
     "iopub.status.busy": "2022-03-13T21:09:45.914584Z",
     "iopub.status.idle": "2022-03-13T21:09:45.923804Z",
     "shell.execute_reply": "2022-03-13T21:09:45.922826Z",
     "shell.execute_reply.started": "2022-03-13T21:09:45.914963Z"
    }
   },
   "outputs": [
    {
     "data": {
      "text/plain": [
       "'EG'"
      ]
     },
     "execution_count": 35,
     "metadata": {},
     "output_type": "execute_result"
    }
   ],
   "source": [
    "country_pred=target_names[out[0]]\n",
    "country_pred"
   ]
  }
 ],
 "metadata": {
  "kernelspec": {
   "display_name": "Python 3 (ipykernel)",
   "language": "python",
   "name": "python3"
  },
  "language_info": {
   "codemirror_mode": {
    "name": "ipython",
    "version": 3
   },
   "file_extension": ".py",
   "mimetype": "text/x-python",
   "name": "python",
   "nbconvert_exporter": "python",
   "pygments_lexer": "ipython3",
   "version": "3.9.7"
  }
 },
 "nbformat": 4,
 "nbformat_minor": 4
}
