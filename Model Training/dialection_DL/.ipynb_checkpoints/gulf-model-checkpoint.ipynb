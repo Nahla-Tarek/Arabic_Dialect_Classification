{
 "cells": [
  {
   "cell_type": "code",
   "execution_count": 1,
   "metadata": {
    "execution": {
     "iopub.execute_input": "2022-03-13T21:14:30.114518Z",
     "iopub.status.busy": "2022-03-13T21:14:30.113905Z",
     "iopub.status.idle": "2022-03-13T21:14:39.677330Z",
     "shell.execute_reply": "2022-03-13T21:14:39.676428Z",
     "shell.execute_reply.started": "2022-03-13T21:14:30.114420Z"
    }
   },
   "outputs": [
    {
     "name": "stdout",
     "output_type": "stream",
     "text": [
      "Collecting openpyxl\n",
      "  Downloading openpyxl-3.0.9-py2.py3-none-any.whl (242 kB)\n",
      "     |████████████████████████████████| 242 kB 4.4 MB/s            \n",
      "\u001b[?25hCollecting et-xmlfile\n",
      "  Downloading et_xmlfile-1.1.0-py3-none-any.whl (4.7 kB)\n",
      "Installing collected packages: et-xmlfile, openpyxl\n",
      "Successfully installed et-xmlfile-1.1.0 openpyxl-3.0.9\n",
      "\u001b[33mWARNING: Running pip as the 'root' user can result in broken permissions and conflicting behaviour with the system package manager. It is recommended to use a virtual environment instead: https://pip.pypa.io/warnings/venv\u001b[0m\n",
      "Note: you may need to restart the kernel to use updated packages.\n"
     ]
    }
   ],
   "source": [
    "pip install openpyxl"
   ]
  },
  {
   "cell_type": "code",
   "execution_count": 2,
   "metadata": {
    "execution": {
     "iopub.execute_input": "2022-03-13T21:14:39.680445Z",
     "iopub.status.busy": "2022-03-13T21:14:39.680179Z",
     "iopub.status.idle": "2022-03-13T21:14:46.358407Z",
     "shell.execute_reply": "2022-03-13T21:14:46.357685Z",
     "shell.execute_reply.started": "2022-03-13T21:14:39.680417Z"
    }
   },
   "outputs": [],
   "source": [
    "import pandas as pd\n",
    "import seaborn as sns\n",
    "import fasttext\n",
    "from nltk.util import ngrams\n",
    "from tensorflow.keras.preprocessing.text import Tokenizer\n",
    "from sklearn.model_selection import train_test_split\n",
    "from keras.preprocessing.sequence import pad_sequences\n",
    "from keras.preprocessing import text, sequence\n",
    "import numpy as np\n",
    "from tensorflow.keras.optimizers import Adam\n",
    "from keras.models import Sequential\n",
    "from keras.layers import Dense, Embedding,GRU,LSTM,Bidirectional,Dropout,Conv1D,MaxPooling1D,GlobalAveragePooling1D,Flatten,Input\n",
    "import matplotlib.pyplot as plt\n",
    "import tensorflow as tf\n",
    "from sklearn.metrics import accuracy_score,classification_report\n",
    "from keras.callbacks import EarlyStopping,ModelCheckpoint, ReduceLROnPlateau\n",
    "from sklearn.model_selection import StratifiedKFold\n",
    "import gensim\n",
    "from tqdm import tqdm\n",
    "from gensim.models import word2vec\n",
    "from sklearn import metrics\n"
   ]
  },
  {
   "cell_type": "markdown",
   "metadata": {},
   "source": [
    "### Import excel file for gulf countries"
   ]
  },
  {
   "cell_type": "code",
   "execution_count": 3,
   "metadata": {
    "execution": {
     "iopub.execute_input": "2022-03-13T21:14:46.360088Z",
     "iopub.status.busy": "2022-03-13T21:14:46.359627Z",
     "iopub.status.idle": "2022-03-13T21:15:01.337358Z",
     "shell.execute_reply": "2022-03-13T21:15:01.336684Z",
     "shell.execute_reply.started": "2022-03-13T21:14:46.360048Z"
    }
   },
   "outputs": [
    {
     "data": {
      "text/plain": [
       "tokens     0\n",
       "dialect    0\n",
       "dtype: int64"
      ]
     },
     "execution_count": 3,
     "metadata": {},
     "output_type": "execute_result"
    }
   ],
   "source": [
    "df=pd.read_excel(\"../input/data-arabic-dialect/data_gulf.xlsx\",index_col=0,\n",
    "              dtype={'tokens': str, 'dialect': str})\n",
    "## check the presence of null values\n",
    "df.isna().sum()"
   ]
  },
  {
   "cell_type": "code",
   "execution_count": 4,
   "metadata": {
    "execution": {
     "iopub.execute_input": "2022-03-13T21:15:01.339716Z",
     "iopub.status.busy": "2022-03-13T21:15:01.339451Z",
     "iopub.status.idle": "2022-03-13T21:15:01.372827Z",
     "shell.execute_reply": "2022-03-13T21:15:01.371878Z",
     "shell.execute_reply.started": "2022-03-13T21:15:01.339681Z"
    }
   },
   "outputs": [],
   "source": [
    "## reset index\n",
    "df=df.reset_index()\n",
    "df.drop('index',axis=1,inplace=True)"
   ]
  },
  {
   "cell_type": "markdown",
   "metadata": {},
   "source": [
    "### count numbers of sentences that belong to each country"
   ]
  },
  {
   "cell_type": "code",
   "execution_count": 5,
   "metadata": {
    "execution": {
     "iopub.execute_input": "2022-03-13T21:15:01.376016Z",
     "iopub.status.busy": "2022-03-13T21:15:01.373965Z",
     "iopub.status.idle": "2022-03-13T21:15:01.648340Z",
     "shell.execute_reply": "2022-03-13T21:15:01.647554Z",
     "shell.execute_reply.started": "2022-03-13T21:15:01.375972Z"
    }
   },
   "outputs": [
    {
     "name": "stdout",
     "output_type": "stream",
     "text": [
      "Index(['KW', 'QA', 'SA', 'AE', 'BH', 'OM'], dtype='object')\n"
     ]
    },
    {
     "name": "stderr",
     "output_type": "stream",
     "text": [
      "/opt/conda/lib/python3.7/site-packages/seaborn/_decorators.py:43: FutureWarning: Pass the following variables as keyword args: x, y. From version 0.12, the only valid positional argument will be `data`, and passing other arguments without an explicit keyword will result in an error or misinterpretation.\n",
      "  FutureWarning\n"
     ]
    },
    {
     "data": {
      "text/plain": [
       "<AxesSubplot:ylabel='dialect'>"
      ]
     },
     "execution_count": 5,
     "metadata": {},
     "output_type": "execute_result"
    },
    {
     "data": {
      "image/png": "[encoded data removed]",
      "text/plain": [
       "<Figure size 432x288 with 1 Axes>"
      ]
     },
     "metadata": {
      "needs_background": "light"
     },
     "output_type": "display_data"
    }
   ],
   "source": [
    "x=df['dialect'].value_counts()\n",
    "print(x.index)\n",
    "sns.barplot(x.index,x)"
   ]
  },
  {
   "cell_type": "markdown",
   "metadata": {},
   "source": [
    "### compute the max number of words ( max_length of the sentence)"
   ]
  },
  {
   "cell_type": "code",
   "execution_count": 6,
   "metadata": {
    "execution": {
     "iopub.execute_input": "2022-03-13T21:15:01.649849Z",
     "iopub.status.busy": "2022-03-13T21:15:01.649580Z",
     "iopub.status.idle": "2022-03-13T21:15:01.655120Z",
     "shell.execute_reply": "2022-03-13T21:15:01.653382Z",
     "shell.execute_reply.started": "2022-03-13T21:15:01.649808Z"
    }
   },
   "outputs": [],
   "source": [
    "def splitolist(data):\n",
    "    l=data.split(\" \")\n",
    "    return l"
   ]
  },
  {
   "cell_type": "code",
   "execution_count": 7,
   "metadata": {
    "execution": {
     "iopub.execute_input": "2022-03-13T21:15:01.657647Z",
     "iopub.status.busy": "2022-03-13T21:15:01.656742Z",
     "iopub.status.idle": "2022-03-13T21:15:02.202939Z",
     "shell.execute_reply": "2022-03-13T21:15:02.202161Z",
     "shell.execute_reply.started": "2022-03-13T21:15:01.657604Z"
    }
   },
   "outputs": [],
   "source": [
    "df['tokens1']=df['tokens'].apply(splitolist)"
   ]
  },
  {
   "cell_type": "code",
   "execution_count": 8,
   "metadata": {
    "execution": {
     "iopub.execute_input": "2022-03-13T21:15:02.204575Z",
     "iopub.status.busy": "2022-03-13T21:15:02.204224Z",
     "iopub.status.idle": "2022-03-13T21:15:02.325565Z",
     "shell.execute_reply": "2022-03-13T21:15:02.324646Z",
     "shell.execute_reply.started": "2022-03-13T21:15:02.204536Z"
    }
   },
   "outputs": [
    {
     "name": "stdout",
     "output_type": "stream",
     "text": [
      "max length is 86\n"
     ]
    }
   ],
   "source": [
    "max_length=df.tokens1.str.len().max()\n",
    "print(\"max length is\"+\" \"+str(max_length))\n"
   ]
  },
  {
   "cell_type": "code",
   "execution_count": 9,
   "metadata": {
    "execution": {
     "iopub.execute_input": "2022-03-13T21:15:02.327526Z",
     "iopub.status.busy": "2022-03-13T21:15:02.327245Z",
     "iopub.status.idle": "2022-03-13T21:15:02.351715Z",
     "shell.execute_reply": "2022-03-13T21:15:02.350898Z",
     "shell.execute_reply.started": "2022-03-13T21:15:02.327488Z"
    }
   },
   "outputs": [
    {
     "data": {
      "text/plain": [
       "'شفتك حاط صوره ولد النعاشه النجس وانا غاسل يدي يالكوور قطر عزها الله دونكم يالسلق'"
      ]
     },
     "execution_count": 9,
     "metadata": {},
     "output_type": "execute_result"
    }
   ],
   "source": [
    "df.loc[0,['tokens','dialect']][0]"
   ]
  },
  {
   "cell_type": "markdown",
   "metadata": {},
   "source": [
    "### create a corpus of the entire dataset in a txt file"
   ]
  },
  {
   "cell_type": "code",
   "execution_count": 10,
   "metadata": {
    "execution": {
     "iopub.execute_input": "2022-03-13T21:15:02.355176Z",
     "iopub.status.busy": "2022-03-13T21:15:02.354950Z",
     "iopub.status.idle": "2022-03-13T21:15:04.398116Z",
     "shell.execute_reply": "2022-03-13T21:15:04.397385Z",
     "shell.execute_reply.started": "2022-03-13T21:15:02.355143Z"
    }
   },
   "outputs": [],
   "source": [
    "with open(r'./corpus.txt', 'w', encoding='utf-8') as txtfile:\n",
    "    for i in range(len(df)):\n",
    "        line = df.loc[i,'tokens']\n",
    "        txtfile.write(line)\n",
    "        txtfile.write('\\n')"
   ]
  },
  {
   "cell_type": "markdown",
   "metadata": {},
   "source": [
    "### train skipgram model on the corpus to get word embeddings"
   ]
  },
  {
   "cell_type": "code",
   "execution_count": 11,
   "metadata": {
    "execution": {
     "iopub.execute_input": "2022-03-13T21:15:04.399717Z",
     "iopub.status.busy": "2022-03-13T21:15:04.399474Z",
     "iopub.status.idle": "2022-03-13T21:19:10.115828Z",
     "shell.execute_reply": "2022-03-13T21:19:10.114466Z",
     "shell.execute_reply.started": "2022-03-13T21:15:04.399683Z"
    }
   },
   "outputs": [
    {
     "name": "stderr",
     "output_type": "stream",
     "text": [
      "Read 2M words\n",
      "Number of words:  42795\n",
      "Number of labels: 0\n",
      "Progress: 100.0% words/sec/thread:   84666 lr:  0.000000 avg.loss:  1.070113 ETA:   0h 0m 0s\n"
     ]
    }
   ],
   "source": [
    "EMBED_SIZE=100\n",
    "model = fasttext.train_unsupervised('./corpus.txt',\n",
    "                                    minCount = 5, \n",
    "                                    model='skipgram',\n",
    "                                    minn = 2,\n",
    "                                    maxn = 5,\n",
    "                                    dim = 100,\n",
    "                                    lr = 0.1,\n",
    "                                    epoch = 10)"
   ]
  },
  {
   "cell_type": "code",
   "execution_count": 12,
   "metadata": {
    "execution": {
     "iopub.execute_input": "2022-03-13T21:19:10.117894Z",
     "iopub.status.busy": "2022-03-13T21:19:10.117367Z",
     "iopub.status.idle": "2022-03-13T21:19:10.877725Z",
     "shell.execute_reply": "2022-03-13T21:19:10.876906Z",
     "shell.execute_reply.started": "2022-03-13T21:19:10.117837Z"
    }
   },
   "outputs": [],
   "source": [
    "#create a list of all unique words in the dataset\n",
    "with open(r'./corpus.txt', 'r', encoding=\"utf-8\") as txtfile:\n",
    "    corpus_sentences = txtfile.readlines()\n",
    "    corpus_words = []\n",
    "    for sent in corpus_sentences:\n",
    "        tokenized_sent = sent.split()\n",
    "        for word_ in tokenized_sent:\n",
    "            corpus_words.append(word_)\n",
    "            \n",
    "    corpus_unique_words = list(set(corpus_words))"
   ]
  },
  {
   "cell_type": "markdown",
   "metadata": {},
   "source": [
    "### convert text to numbers using tokenizer"
   ]
  },
  {
   "cell_type": "code",
   "execution_count": 13,
   "metadata": {
    "execution": {
     "iopub.execute_input": "2022-03-13T21:19:10.879497Z",
     "iopub.status.busy": "2022-03-13T21:19:10.879231Z",
     "iopub.status.idle": "2022-03-13T21:19:18.607000Z",
     "shell.execute_reply": "2022-03-13T21:19:18.606226Z",
     "shell.execute_reply.started": "2022-03-13T21:19:10.879461Z"
    }
   },
   "outputs": [],
   "source": [
    "tokenizer = Tokenizer(num_words=len(corpus_unique_words)+1)\n",
    "tokenizer.fit_on_texts(df['tokens'])\n",
    "sequences = tokenizer.texts_to_sequences(df['tokens'])"
   ]
  },
  {
   "cell_type": "code",
   "execution_count": 14,
   "metadata": {
    "execution": {
     "iopub.execute_input": "2022-03-13T21:19:18.608742Z",
     "iopub.status.busy": "2022-03-13T21:19:18.608438Z",
     "iopub.status.idle": "2022-03-13T21:19:19.478061Z",
     "shell.execute_reply": "2022-03-13T21:19:19.477299Z",
     "shell.execute_reply.started": "2022-03-13T21:19:18.608707Z"
    }
   },
   "outputs": [
    {
     "name": "stdout",
     "output_type": "stream",
     "text": [
      "Found 224739 unique tokens.\n"
     ]
    }
   ],
   "source": [
    "word_index = tokenizer.word_index\n",
    "print('Found %s unique tokens.' % len(word_index))\n",
    "data = pad_sequences(sequences, maxlen=max_length,padding='post')  ## padding all the sentences in the dataset to have the same length"
   ]
  },
  {
   "cell_type": "markdown",
   "metadata": {},
   "source": [
    "### create embedding matrix from the trained fasttext model"
   ]
  },
  {
   "cell_type": "code",
   "execution_count": 15,
   "metadata": {
    "execution": {
     "iopub.execute_input": "2022-03-13T21:19:19.481073Z",
     "iopub.status.busy": "2022-03-13T21:19:19.479213Z",
     "iopub.status.idle": "2022-03-13T21:19:22.226056Z",
     "shell.execute_reply": "2022-03-13T21:19:22.225095Z",
     "shell.execute_reply.started": "2022-03-13T21:19:19.481039Z"
    }
   },
   "outputs": [
    {
     "name": "stderr",
     "output_type": "stream",
     "text": [
      "100%|██████████| 224739/224739 [00:02<00:00, 82313.24it/s]\n"
     ]
    }
   ],
   "source": [
    "vocab_size = len(tokenizer.word_index)+1\n",
    "embeddings_matrix = np.zeros(shape = (vocab_size , EMBED_SIZE))\n",
    "\n",
    "for word, index in tqdm(tokenizer.word_index.items()):\n",
    "    embeddings_matrix[index] = model.get_word_vector(word)"
   ]
  },
  {
   "cell_type": "code",
   "execution_count": 16,
   "metadata": {
    "execution": {
     "iopub.execute_input": "2022-03-13T21:19:22.233092Z",
     "iopub.status.busy": "2022-03-13T21:19:22.230774Z",
     "iopub.status.idle": "2022-03-13T21:19:22.272440Z",
     "shell.execute_reply": "2022-03-13T21:19:22.271705Z",
     "shell.execute_reply.started": "2022-03-13T21:19:22.233050Z"
    }
   },
   "outputs": [],
   "source": [
    "data_y=pd.get_dummies(df['dialect'])"
   ]
  },
  {
   "cell_type": "code",
   "execution_count": 17,
   "metadata": {
    "execution": {
     "iopub.execute_input": "2022-03-13T21:19:22.278344Z",
     "iopub.status.busy": "2022-03-13T21:19:22.276366Z",
     "iopub.status.idle": "2022-03-13T21:19:22.299215Z",
     "shell.execute_reply": "2022-03-13T21:19:22.298580Z",
     "shell.execute_reply.started": "2022-03-13T21:19:22.278274Z"
    }
   },
   "outputs": [
    {
     "data": {
      "text/html": [
       "<div>\n",
       "<style scoped>\n",
       "    .dataframe tbody tr th:only-of-type {\n",
       "        vertical-align: middle;\n",
       "    }\n",
       "\n",
       "    .dataframe tbody tr th {\n",
       "        vertical-align: top;\n",
       "    }\n",
       "\n",
       "    .dataframe thead th {\n",
       "        text-align: right;\n",
       "    }\n",
       "</style>\n",
       "<table border=\"1\" class=\"dataframe\">\n",
       "  <thead>\n",
       "    <tr style=\"text-align: right;\">\n",
       "      <th></th>\n",
       "      <th>AE</th>\n",
       "      <th>BH</th>\n",
       "      <th>KW</th>\n",
       "      <th>OM</th>\n",
       "      <th>QA</th>\n",
       "      <th>SA</th>\n",
       "    </tr>\n",
       "  </thead>\n",
       "  <tbody>\n",
       "    <tr>\n",
       "      <th>0</th>\n",
       "      <td>0</td>\n",
       "      <td>0</td>\n",
       "      <td>0</td>\n",
       "      <td>0</td>\n",
       "      <td>1</td>\n",
       "      <td>0</td>\n",
       "    </tr>\n",
       "    <tr>\n",
       "      <th>1</th>\n",
       "      <td>0</td>\n",
       "      <td>0</td>\n",
       "      <td>0</td>\n",
       "      <td>0</td>\n",
       "      <td>1</td>\n",
       "      <td>0</td>\n",
       "    </tr>\n",
       "    <tr>\n",
       "      <th>2</th>\n",
       "      <td>0</td>\n",
       "      <td>0</td>\n",
       "      <td>0</td>\n",
       "      <td>0</td>\n",
       "      <td>1</td>\n",
       "      <td>0</td>\n",
       "    </tr>\n",
       "    <tr>\n",
       "      <th>3</th>\n",
       "      <td>0</td>\n",
       "      <td>0</td>\n",
       "      <td>0</td>\n",
       "      <td>0</td>\n",
       "      <td>1</td>\n",
       "      <td>0</td>\n",
       "    </tr>\n",
       "    <tr>\n",
       "      <th>4</th>\n",
       "      <td>0</td>\n",
       "      <td>0</td>\n",
       "      <td>0</td>\n",
       "      <td>0</td>\n",
       "      <td>1</td>\n",
       "      <td>0</td>\n",
       "    </tr>\n",
       "    <tr>\n",
       "      <th>5</th>\n",
       "      <td>0</td>\n",
       "      <td>0</td>\n",
       "      <td>0</td>\n",
       "      <td>0</td>\n",
       "      <td>1</td>\n",
       "      <td>0</td>\n",
       "    </tr>\n",
       "    <tr>\n",
       "      <th>6</th>\n",
       "      <td>0</td>\n",
       "      <td>0</td>\n",
       "      <td>0</td>\n",
       "      <td>0</td>\n",
       "      <td>1</td>\n",
       "      <td>0</td>\n",
       "    </tr>\n",
       "    <tr>\n",
       "      <th>7</th>\n",
       "      <td>0</td>\n",
       "      <td>0</td>\n",
       "      <td>0</td>\n",
       "      <td>0</td>\n",
       "      <td>1</td>\n",
       "      <td>0</td>\n",
       "    </tr>\n",
       "    <tr>\n",
       "      <th>8</th>\n",
       "      <td>0</td>\n",
       "      <td>0</td>\n",
       "      <td>0</td>\n",
       "      <td>0</td>\n",
       "      <td>1</td>\n",
       "      <td>0</td>\n",
       "    </tr>\n",
       "    <tr>\n",
       "      <th>9</th>\n",
       "      <td>0</td>\n",
       "      <td>0</td>\n",
       "      <td>0</td>\n",
       "      <td>0</td>\n",
       "      <td>1</td>\n",
       "      <td>0</td>\n",
       "    </tr>\n",
       "  </tbody>\n",
       "</table>\n",
       "</div>"
      ],
      "text/plain": [
       "   AE  BH  KW  OM  QA  SA\n",
       "0   0   0   0   0   1   0\n",
       "1   0   0   0   0   1   0\n",
       "2   0   0   0   0   1   0\n",
       "3   0   0   0   0   1   0\n",
       "4   0   0   0   0   1   0\n",
       "5   0   0   0   0   1   0\n",
       "6   0   0   0   0   1   0\n",
       "7   0   0   0   0   1   0\n",
       "8   0   0   0   0   1   0\n",
       "9   0   0   0   0   1   0"
      ]
     },
     "execution_count": 17,
     "metadata": {},
     "output_type": "execute_result"
    }
   ],
   "source": [
    "data_y[:10]"
   ]
  },
  {
   "cell_type": "code",
   "execution_count": 18,
   "metadata": {
    "execution": {
     "iopub.execute_input": "2022-03-13T21:19:22.305212Z",
     "iopub.status.busy": "2022-03-13T21:19:22.303033Z",
     "iopub.status.idle": "2022-03-13T21:19:24.237371Z",
     "shell.execute_reply": "2022-03-13T21:19:24.236636Z",
     "shell.execute_reply.started": "2022-03-13T21:19:22.305172Z"
    }
   },
   "outputs": [],
   "source": [
    "#split the data into train and test sets\n",
    "x_train, x_test, y_train, y_test = train_test_split(data,data_y, test_size = 0.1, stratify =data_y,shuffle=True)"
   ]
  },
  {
   "cell_type": "code",
   "execution_count": 19,
   "metadata": {
    "execution": {
     "iopub.execute_input": "2022-03-13T21:19:24.239042Z",
     "iopub.status.busy": "2022-03-13T21:19:24.238779Z",
     "iopub.status.idle": "2022-03-13T21:19:27.264907Z",
     "shell.execute_reply": "2022-03-13T21:19:27.264165Z",
     "shell.execute_reply.started": "2022-03-13T21:19:24.239007Z"
    }
   },
   "outputs": [
    {
     "name": "stderr",
     "output_type": "stream",
     "text": [
      "2022-03-13 21:19:24.311450: I tensorflow/stream_executor/cuda/cuda_gpu_executor.cc:937] successful NUMA node read from SysFS had negative value (-1), but there must be at least one NUMA node, so returning NUMA node zero\n",
      "2022-03-13 21:19:24.397713: I tensorflow/stream_executor/cuda/cuda_gpu_executor.cc:937] successful NUMA node read from SysFS had negative value (-1), but there must be at least one NUMA node, so returning NUMA node zero\n",
      "2022-03-13 21:19:24.398497: I tensorflow/stream_executor/cuda/cuda_gpu_executor.cc:937] successful NUMA node read from SysFS had negative value (-1), but there must be at least one NUMA node, so returning NUMA node zero\n",
      "2022-03-13 21:19:24.399518: I tensorflow/core/platform/cpu_feature_guard.cc:142] This TensorFlow binary is optimized with oneAPI Deep Neural Network Library (oneDNN) to use the following CPU instructions in performance-critical operations:  AVX2 AVX512F FMA\n",
      "To enable them in other operations, rebuild TensorFlow with the appropriate compiler flags.\n",
      "2022-03-13 21:19:24.400809: I tensorflow/stream_executor/cuda/cuda_gpu_executor.cc:937] successful NUMA node read from SysFS had negative value (-1), but there must be at least one NUMA node, so returning NUMA node zero\n",
      "2022-03-13 21:19:24.401506: I tensorflow/stream_executor/cuda/cuda_gpu_executor.cc:937] successful NUMA node read from SysFS had negative value (-1), but there must be at least one NUMA node, so returning NUMA node zero\n",
      "2022-03-13 21:19:24.402142: I tensorflow/stream_executor/cuda/cuda_gpu_executor.cc:937] successful NUMA node read from SysFS had negative value (-1), but there must be at least one NUMA node, so returning NUMA node zero\n",
      "2022-03-13 21:19:26.205597: I tensorflow/stream_executor/cuda/cuda_gpu_executor.cc:937] successful NUMA node read from SysFS had negative value (-1), but there must be at least one NUMA node, so returning NUMA node zero\n",
      "2022-03-13 21:19:26.206437: I tensorflow/stream_executor/cuda/cuda_gpu_executor.cc:937] successful NUMA node read from SysFS had negative value (-1), but there must be at least one NUMA node, so returning NUMA node zero\n",
      "2022-03-13 21:19:26.207126: I tensorflow/stream_executor/cuda/cuda_gpu_executor.cc:937] successful NUMA node read from SysFS had negative value (-1), but there must be at least one NUMA node, so returning NUMA node zero\n",
      "2022-03-13 21:19:26.207729: I tensorflow/core/common_runtime/gpu/gpu_device.cc:1510] Created device /job:localhost/replica:0/task:0/device:GPU:0 with 15403 MB memory:  -> device: 0, name: Tesla P100-PCIE-16GB, pci bus id: 0000:00:04.0, compute capability: 6.0\n"
     ]
    }
   ],
   "source": [
    "#create a bidirectional LSTM model\n",
    "def create_model():\n",
    "    model = Sequential()\n",
    "    embedding_layer = Embedding(vocab_size, EMBED_SIZE, \n",
    "                                weights=[embeddings_matrix], \n",
    "                                input_length=max_length , \n",
    "                                trainable=True)\n",
    "    \n",
    "    model.add(embedding_layer)\n",
    "    model.add(Bidirectional(LSTM(128)))\n",
    "    model.add(Dropout(0.5))\n",
    "    model.add(Dense(5000, activation='relu'))\n",
    "    model.add(Dense(len(np.unique(df['dialect'])), activation='softmax'))\n",
    "    return model\n",
    "\n",
    "model1 = create_model()\n",
    "tf.keras.backend.clear_session()\n",
    "early_stop = tf.keras.callbacks.EarlyStopping(monitor='loss',mode = 'max',patience=3,verbose=1) #,mode = 'min',callbacks=[early_stop]\n",
    "early_stopping = EarlyStopping(monitor='loss', patience=2)\n",
    "tf.keras.backend.clear_session()\n",
    "# early_stopping = EarlyStopping(monitor= 'val_acc', \n",
    "#                                mode = 'max',\n",
    "#                                patience=30, \n",
    "#                                verbose=1)\n",
    "\n",
    "# model_checkpoint = ModelCheckpoint('levant_dialect_CLASSIFIER',\n",
    "#                                    monitor = 'val_acc', \n",
    "#                                    mode = 'max', \n",
    "#                                    save_best_only=True, \n",
    "#                                    verbose=1)\n",
    "\n",
    "\n",
    "opt = Adam(learning_rate = 0.0001)\n",
    "\n",
    "model1.compile(opt, loss = 'categorical_crossentropy', metrics=['accuracy'])"
   ]
  },
  {
   "cell_type": "code",
   "execution_count": 20,
   "metadata": {
    "execution": {
     "iopub.execute_input": "2022-03-13T21:19:27.267258Z",
     "iopub.status.busy": "2022-03-13T21:19:27.266842Z",
     "iopub.status.idle": "2022-03-13T21:19:27.424077Z",
     "shell.execute_reply": "2022-03-13T21:19:27.422916Z",
     "shell.execute_reply.started": "2022-03-13T21:19:27.267223Z"
    }
   },
   "outputs": [
    {
     "data": {
      "text/plain": [
       "['AE', 'BH', 'KW', 'OM', 'QA', 'SA']"
      ]
     },
     "execution_count": 20,
     "metadata": {},
     "output_type": "execute_result"
    }
   ],
   "source": [
    "np.unique(df['dialect']).tolist()"
   ]
  },
  {
   "cell_type": "code",
   "execution_count": 21,
   "metadata": {
    "execution": {
     "iopub.execute_input": "2022-03-13T21:19:27.426081Z",
     "iopub.status.busy": "2022-03-13T21:19:27.425679Z",
     "iopub.status.idle": "2022-03-13T21:24:56.658969Z",
     "shell.execute_reply": "2022-03-13T21:24:56.658280Z",
     "shell.execute_reply.started": "2022-03-13T21:19:27.426044Z"
    }
   },
   "outputs": [
    {
     "name": "stderr",
     "output_type": "stream",
     "text": [
      "2022-03-13 21:19:27.521791: I tensorflow/compiler/mlir/mlir_graph_optimization_pass.cc:185] None of the MLIR Optimization Passes are enabled (registered 2)\n"
     ]
    },
    {
     "name": "stdout",
     "output_type": "stream",
     "text": [
      "Epoch 1/50\n"
     ]
    },
    {
     "name": "stderr",
     "output_type": "stream",
     "text": [
      "2022-03-13 21:19:30.679205: I tensorflow/stream_executor/cuda/cuda_dnn.cc:369] Loaded cuDNN version 8005\n"
     ]
    },
    {
     "name": "stdout",
     "output_type": "stream",
     "text": [
      "4829/4829 [==============================] - 86s 17ms/step - loss: 1.6201 - accuracy: 0.3325 - val_loss: 1.5072 - val_accuracy: 0.3964\n",
      "Epoch 2/50\n",
      "4829/4829 [==============================] - 81s 17ms/step - loss: 1.4288 - accuracy: 0.4345 - val_loss: 1.4192 - val_accuracy: 0.4404\n",
      "Epoch 3/50\n",
      "4829/4829 [==============================] - 81s 17ms/step - loss: 1.2923 - accuracy: 0.5022 - val_loss: 1.3790 - val_accuracy: 0.4600\n",
      "Epoch 4/50\n",
      "4829/4829 [==============================] - 81s 17ms/step - loss: 1.1734 - accuracy: 0.5549 - val_loss: 1.3806 - val_accuracy: 0.4671\n",
      "Epoch 00004: early stopping\n"
     ]
    }
   ],
   "source": [
    "#train the model\n",
    "history = model1.fit(x_train, \n",
    "                    y_train, \n",
    "                    validation_data=(x_test, y_test),\n",
    "                    batch_size=32,\n",
    "                    epochs=50,\n",
    "                    callbacks = [early_stop])"
   ]
  },
  {
   "cell_type": "code",
   "execution_count": 22,
   "metadata": {
    "execution": {
     "iopub.execute_input": "2022-03-13T21:24:56.660840Z",
     "iopub.status.busy": "2022-03-13T21:24:56.660585Z",
     "iopub.status.idle": "2022-03-13T21:24:57.221496Z",
     "shell.execute_reply": "2022-03-13T21:24:57.220763Z",
     "shell.execute_reply.started": "2022-03-13T21:24:56.660804Z"
    }
   },
   "outputs": [],
   "source": [
    "model1.save(\"gulf.h5\")"
   ]
  },
  {
   "cell_type": "code",
   "execution_count": 23,
   "metadata": {
    "execution": {
     "iopub.execute_input": "2022-03-13T21:24:57.223232Z",
     "iopub.status.busy": "2022-03-13T21:24:57.222737Z",
     "iopub.status.idle": "2022-03-13T21:24:57.401970Z",
     "shell.execute_reply": "2022-03-13T21:24:57.401153Z",
     "shell.execute_reply.started": "2022-03-13T21:24:57.223187Z"
    }
   },
   "outputs": [
    {
     "data": {
      "text/plain": [
       "['AE', 'BH', 'KW', 'OM', 'QA', 'SA']"
      ]
     },
     "execution_count": 23,
     "metadata": {},
     "output_type": "execute_result"
    }
   ],
   "source": [
    "target_names=np.unique(df['dialect']).tolist()\n",
    "target_names"
   ]
  },
  {
   "cell_type": "code",
   "execution_count": 24,
   "metadata": {
    "execution": {
     "iopub.execute_input": "2022-03-13T21:24:57.404013Z",
     "iopub.status.busy": "2022-03-13T21:24:57.403509Z",
     "iopub.status.idle": "2022-03-13T21:24:57.415524Z",
     "shell.execute_reply": "2022-03-13T21:24:57.414774Z",
     "shell.execute_reply.started": "2022-03-13T21:24:57.403958Z"
    }
   },
   "outputs": [
    {
     "data": {
      "text/html": [
       "<div>\n",
       "<style scoped>\n",
       "    .dataframe tbody tr th:only-of-type {\n",
       "        vertical-align: middle;\n",
       "    }\n",
       "\n",
       "    .dataframe tbody tr th {\n",
       "        vertical-align: top;\n",
       "    }\n",
       "\n",
       "    .dataframe thead th {\n",
       "        text-align: right;\n",
       "    }\n",
       "</style>\n",
       "<table border=\"1\" class=\"dataframe\">\n",
       "  <thead>\n",
       "    <tr style=\"text-align: right;\">\n",
       "      <th></th>\n",
       "      <th>AE</th>\n",
       "      <th>BH</th>\n",
       "      <th>KW</th>\n",
       "      <th>OM</th>\n",
       "      <th>QA</th>\n",
       "      <th>SA</th>\n",
       "    </tr>\n",
       "  </thead>\n",
       "  <tbody>\n",
       "    <tr>\n",
       "      <th>69842</th>\n",
       "      <td>0</td>\n",
       "      <td>0</td>\n",
       "      <td>1</td>\n",
       "      <td>0</td>\n",
       "      <td>0</td>\n",
       "      <td>0</td>\n",
       "    </tr>\n",
       "    <tr>\n",
       "      <th>42602</th>\n",
       "      <td>0</td>\n",
       "      <td>0</td>\n",
       "      <td>0</td>\n",
       "      <td>0</td>\n",
       "      <td>0</td>\n",
       "      <td>1</td>\n",
       "    </tr>\n",
       "    <tr>\n",
       "      <th>22308</th>\n",
       "      <td>0</td>\n",
       "      <td>0</td>\n",
       "      <td>0</td>\n",
       "      <td>0</td>\n",
       "      <td>1</td>\n",
       "      <td>0</td>\n",
       "    </tr>\n",
       "    <tr>\n",
       "      <th>138280</th>\n",
       "      <td>1</td>\n",
       "      <td>0</td>\n",
       "      <td>0</td>\n",
       "      <td>0</td>\n",
       "      <td>0</td>\n",
       "      <td>0</td>\n",
       "    </tr>\n",
       "    <tr>\n",
       "      <th>65670</th>\n",
       "      <td>0</td>\n",
       "      <td>0</td>\n",
       "      <td>1</td>\n",
       "      <td>0</td>\n",
       "      <td>0</td>\n",
       "      <td>0</td>\n",
       "    </tr>\n",
       "    <tr>\n",
       "      <th>...</th>\n",
       "      <td>...</td>\n",
       "      <td>...</td>\n",
       "      <td>...</td>\n",
       "      <td>...</td>\n",
       "      <td>...</td>\n",
       "      <td>...</td>\n",
       "    </tr>\n",
       "    <tr>\n",
       "      <th>55975</th>\n",
       "      <td>0</td>\n",
       "      <td>0</td>\n",
       "      <td>0</td>\n",
       "      <td>0</td>\n",
       "      <td>0</td>\n",
       "      <td>1</td>\n",
       "    </tr>\n",
       "    <tr>\n",
       "      <th>74239</th>\n",
       "      <td>0</td>\n",
       "      <td>0</td>\n",
       "      <td>1</td>\n",
       "      <td>0</td>\n",
       "      <td>0</td>\n",
       "      <td>0</td>\n",
       "    </tr>\n",
       "    <tr>\n",
       "      <th>17652</th>\n",
       "      <td>0</td>\n",
       "      <td>0</td>\n",
       "      <td>0</td>\n",
       "      <td>0</td>\n",
       "      <td>1</td>\n",
       "      <td>0</td>\n",
       "    </tr>\n",
       "    <tr>\n",
       "      <th>56283</th>\n",
       "      <td>0</td>\n",
       "      <td>0</td>\n",
       "      <td>0</td>\n",
       "      <td>0</td>\n",
       "      <td>0</td>\n",
       "      <td>1</td>\n",
       "    </tr>\n",
       "    <tr>\n",
       "      <th>128333</th>\n",
       "      <td>1</td>\n",
       "      <td>0</td>\n",
       "      <td>0</td>\n",
       "      <td>0</td>\n",
       "      <td>0</td>\n",
       "      <td>0</td>\n",
       "    </tr>\n",
       "  </tbody>\n",
       "</table>\n",
       "<p>17169 rows × 6 columns</p>\n",
       "</div>"
      ],
      "text/plain": [
       "        AE  BH  KW  OM  QA  SA\n",
       "69842    0   0   1   0   0   0\n",
       "42602    0   0   0   0   0   1\n",
       "22308    0   0   0   0   1   0\n",
       "138280   1   0   0   0   0   0\n",
       "65670    0   0   1   0   0   0\n",
       "...     ..  ..  ..  ..  ..  ..\n",
       "55975    0   0   0   0   0   1\n",
       "74239    0   0   1   0   0   0\n",
       "17652    0   0   0   0   1   0\n",
       "56283    0   0   0   0   0   1\n",
       "128333   1   0   0   0   0   0\n",
       "\n",
       "[17169 rows x 6 columns]"
      ]
     },
     "execution_count": 24,
     "metadata": {},
     "output_type": "execute_result"
    }
   ],
   "source": [
    "y_test"
   ]
  },
  {
   "cell_type": "code",
   "execution_count": 25,
   "metadata": {
    "execution": {
     "iopub.execute_input": "2022-03-13T21:24:57.417560Z",
     "iopub.status.busy": "2022-03-13T21:24:57.417030Z",
     "iopub.status.idle": "2022-03-13T21:24:57.428323Z",
     "shell.execute_reply": "2022-03-13T21:24:57.427474Z",
     "shell.execute_reply.started": "2022-03-13T21:24:57.417518Z"
    }
   },
   "outputs": [
    {
     "data": {
      "text/plain": [
       "array([2, 5, 4, ..., 4, 5, 0])"
      ]
     },
     "execution_count": 25,
     "metadata": {},
     "output_type": "execute_result"
    }
   ],
   "source": [
    "np.argmax(np.array(y_test),axis=1)"
   ]
  },
  {
   "cell_type": "markdown",
   "metadata": {},
   "source": [
    "### classification report for test data"
   ]
  },
  {
   "cell_type": "code",
   "execution_count": 26,
   "metadata": {
    "execution": {
     "iopub.execute_input": "2022-03-13T21:24:57.430292Z",
     "iopub.status.busy": "2022-03-13T21:24:57.429820Z",
     "iopub.status.idle": "2022-03-13T21:24:59.924951Z",
     "shell.execute_reply": "2022-03-13T21:24:59.923445Z",
     "shell.execute_reply.started": "2022-03-13T21:24:57.430254Z"
    }
   },
   "outputs": [
    {
     "name": "stdout",
     "output_type": "stream",
     "text": [
      "              precision    recall  f1-score   support\n",
      "\n",
      "          AE       0.42      0.44      0.43      2629\n",
      "          BH       0.37      0.38      0.37      2629\n",
      "          KW       0.58      0.50      0.54      4210\n",
      "          OM       0.38      0.49      0.43      1911\n",
      "          QA       0.55      0.46      0.50      3107\n",
      "          SA       0.47      0.53      0.50      2683\n",
      "\n",
      "    accuracy                           0.47     17169\n",
      "   macro avg       0.46      0.47      0.46     17169\n",
      "weighted avg       0.48      0.47      0.47     17169\n",
      "\n"
     ]
    }
   ],
   "source": [
    "pred=model1.predict(x_test)\n",
    "print(classification_report(np.argmax(np.array(y_test),axis=1),np.argmax(pred,axis=1), target_names=target_names))"
   ]
  },
  {
   "cell_type": "markdown",
   "metadata": {},
   "source": [
    "### classification report for train data"
   ]
  },
  {
   "cell_type": "code",
   "execution_count": 27,
   "metadata": {
    "execution": {
     "iopub.execute_input": "2022-03-13T21:24:59.926712Z",
     "iopub.status.busy": "2022-03-13T21:24:59.926455Z",
     "iopub.status.idle": "2022-03-13T21:25:21.125656Z",
     "shell.execute_reply": "2022-03-13T21:25:21.124112Z",
     "shell.execute_reply.started": "2022-03-13T21:24:59.926676Z"
    }
   },
   "outputs": [
    {
     "name": "stdout",
     "output_type": "stream",
     "text": [
      "              precision    recall  f1-score   support\n",
      "\n",
      "          AE       0.59      0.60      0.59     23664\n",
      "          BH       0.52      0.54      0.53     23657\n",
      "          KW       0.72      0.64      0.68     37893\n",
      "          OM       0.51      0.65      0.57     17198\n",
      "          QA       0.69      0.58      0.63     27958\n",
      "          SA       0.61      0.68      0.65     24145\n",
      "\n",
      "    accuracy                           0.61    154515\n",
      "   macro avg       0.61      0.61      0.61    154515\n",
      "weighted avg       0.62      0.61      0.62    154515\n",
      "\n"
     ]
    }
   ],
   "source": [
    "pred_train=model1.predict(x_train)\n",
    "print(classification_report(np.argmax(np.array(y_train),axis=1),np.argmax(pred_train,axis=1), target_names=target_names))"
   ]
  },
  {
   "cell_type": "code",
   "execution_count": 28,
   "metadata": {
    "execution": {
     "iopub.execute_input": "2022-03-13T21:25:21.129522Z",
     "iopub.status.busy": "2022-03-13T21:25:21.129313Z",
     "iopub.status.idle": "2022-03-13T21:25:21.135191Z",
     "shell.execute_reply": "2022-03-13T21:25:21.134416Z",
     "shell.execute_reply.started": "2022-03-13T21:25:21.129496Z"
    }
   },
   "outputs": [
    {
     "name": "stdout",
     "output_type": "stream",
     "text": [
      "[40150]\n"
     ]
    }
   ],
   "source": [
    "a=\"السواه\"\n",
    "l=splitolist(a)\n",
    "seq=tokenizer.texts_to_sequences(l)\n",
    "b=[item for sublist in seq for item in sublist]\n",
    "print(b)\n",
    "pad_seq=pad_sequences([b], maxlen=max_length,padding='post')"
   ]
  },
  {
   "cell_type": "code",
   "execution_count": 29,
   "metadata": {
    "execution": {
     "iopub.execute_input": "2022-03-13T21:25:21.136989Z",
     "iopub.status.busy": "2022-03-13T21:25:21.136556Z",
     "iopub.status.idle": "2022-03-13T21:25:21.146496Z",
     "shell.execute_reply": "2022-03-13T21:25:21.145790Z",
     "shell.execute_reply.started": "2022-03-13T21:25:21.136947Z"
    }
   },
   "outputs": [
    {
     "name": "stdout",
     "output_type": "stream",
     "text": [
      "['السواه'] [[40150]] [[40150     0     0     0     0     0     0     0     0     0     0     0\n",
      "      0     0     0     0     0     0     0     0     0     0     0     0\n",
      "      0     0     0     0     0     0     0     0     0     0     0     0\n",
      "      0     0     0     0     0     0     0     0     0     0     0     0\n",
      "      0     0     0     0     0     0     0     0     0     0     0     0\n",
      "      0     0     0     0     0     0     0     0     0     0     0     0\n",
      "      0     0     0     0     0     0     0     0     0     0     0     0\n",
      "      0     0]]\n"
     ]
    }
   ],
   "source": [
    "print(l,seq,pad_seq)"
   ]
  },
  {
   "cell_type": "code",
   "execution_count": 30,
   "metadata": {
    "execution": {
     "iopub.execute_input": "2022-03-13T21:25:21.148327Z",
     "iopub.status.busy": "2022-03-13T21:25:21.147820Z",
     "iopub.status.idle": "2022-03-13T21:25:21.201958Z",
     "shell.execute_reply": "2022-03-13T21:25:21.201375Z",
     "shell.execute_reply.started": "2022-03-13T21:25:21.148291Z"
    }
   },
   "outputs": [
    {
     "data": {
      "text/plain": [
       "5"
      ]
     },
     "execution_count": 30,
     "metadata": {},
     "output_type": "execute_result"
    }
   ],
   "source": [
    "out=model1.predict(pad_seq).argmax(axis=1)\n",
    "out[0]"
   ]
  },
  {
   "cell_type": "code",
   "execution_count": 31,
   "metadata": {
    "execution": {
     "iopub.execute_input": "2022-03-13T21:25:21.205295Z",
     "iopub.status.busy": "2022-03-13T21:25:21.204692Z",
     "iopub.status.idle": "2022-03-13T21:25:21.210606Z",
     "shell.execute_reply": "2022-03-13T21:25:21.209799Z",
     "shell.execute_reply.started": "2022-03-13T21:25:21.205257Z"
    }
   },
   "outputs": [
    {
     "data": {
      "text/plain": [
       "'SA'"
      ]
     },
     "execution_count": 31,
     "metadata": {},
     "output_type": "execute_result"
    }
   ],
   "source": [
    "country_pred=target_names[out[0]]\n",
    "country_pred"
   ]
  }
 ],
 "metadata": {
  "kernelspec": {
   "display_name": "Python 3 (ipykernel)",
   "language": "python",
   "name": "python3"
  },
  "language_info": {
   "codemirror_mode": {
    "name": "ipython",
    "version": 3
   },
   "file_extension": ".py",
   "mimetype": "text/x-python",
   "name": "python",
   "nbconvert_exporter": "python",
   "pygments_lexer": "ipython3",
   "version": "3.9.7"
  }
 },
 "nbformat": 4,
 "nbformat_minor": 4
}
