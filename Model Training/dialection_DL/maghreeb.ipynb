{
 "cells": [
  {
   "cell_type": "code",
   "execution_count": 1,
   "metadata": {
    "execution": {
     "iopub.execute_input": "2022-03-13T19:42:24.306906Z",
     "iopub.status.busy": "2022-03-13T19:42:24.306451Z",
     "iopub.status.idle": "2022-03-13T19:42:34.489274Z",
     "shell.execute_reply": "2022-03-13T19:42:34.488241Z",
     "shell.execute_reply.started": "2022-03-13T19:42:24.306771Z"
    }
   },
   "outputs": [
    {
     "name": "stdout",
     "output_type": "stream",
     "text": [
      "Collecting openpyxl\n",
      "  Downloading openpyxl-3.0.9-py2.py3-none-any.whl (242 kB)\n",
      "     |████████████████████████████████| 242 kB 516 kB/s            \n",
      "\u001b[?25hCollecting et-xmlfile\n",
      "  Downloading et_xmlfile-1.1.0-py3-none-any.whl (4.7 kB)\n",
      "Installing collected packages: et-xmlfile, openpyxl\n",
      "Successfully installed et-xmlfile-1.1.0 openpyxl-3.0.9\n",
      "\u001b[33mWARNING: Running pip as the 'root' user can result in broken permissions and conflicting behaviour with the system package manager. It is recommended to use a virtual environment instead: https://pip.pypa.io/warnings/venv\u001b[0m\n",
      "Note: you may need to restart the kernel to use updated packages.\n"
     ]
    }
   ],
   "source": [
    "pip install openpyxl"
   ]
  },
  {
   "cell_type": "code",
   "execution_count": 2,
   "metadata": {
    "execution": {
     "iopub.execute_input": "2022-03-13T19:42:34.491876Z",
     "iopub.status.busy": "2022-03-13T19:42:34.491395Z",
     "iopub.status.idle": "2022-03-13T19:42:40.508262Z",
     "shell.execute_reply": "2022-03-13T19:42:40.507550Z",
     "shell.execute_reply.started": "2022-03-13T19:42:34.491833Z"
    }
   },
   "outputs": [],
   "source": [
    "import pandas as pd\n",
    "import seaborn as sns\n",
    "import fasttext\n",
    "from nltk.util import ngrams\n",
    "from tensorflow.keras.preprocessing.text import Tokenizer\n",
    "from sklearn.model_selection import train_test_split\n",
    "from keras.preprocessing.sequence import pad_sequences\n",
    "from keras.preprocessing import text, sequence\n",
    "import numpy as np\n",
    "from tensorflow.keras.optimizers import Adam\n",
    "from keras.models import Sequential\n",
    "from keras.layers import Dense, Embedding,GRU,LSTM,Bidirectional,Dropout,Conv1D,MaxPooling1D,GlobalAveragePooling1D,Flatten,Input\n",
    "import matplotlib.pyplot as plt\n",
    "import tensorflow as tf\n",
    "from sklearn.metrics import accuracy_score,classification_report\n",
    "from keras.callbacks import EarlyStopping,ModelCheckpoint, ReduceLROnPlateau\n",
    "from sklearn.model_selection import StratifiedKFold\n",
    "import gensim\n",
    "from tqdm import tqdm\n",
    "from gensim.models import word2vec\n",
    "from sklearn import metrics\n"
   ]
  },
  {
   "cell_type": "markdown",
   "metadata": {},
   "source": [
    "### Import excel file for maghreb countries"
   ]
  },
  {
   "cell_type": "code",
   "execution_count": 3,
   "metadata": {
    "execution": {
     "iopub.execute_input": "2022-03-13T19:42:40.509674Z",
     "iopub.status.busy": "2022-03-13T19:42:40.509423Z",
     "iopub.status.idle": "2022-03-13T19:42:47.212393Z",
     "shell.execute_reply": "2022-03-13T19:42:47.211642Z",
     "shell.execute_reply.started": "2022-03-13T19:42:40.509641Z"
    }
   },
   "outputs": [
    {
     "data": {
      "text/plain": [
       "tokens     0\n",
       "dialect    0\n",
       "dtype: int64"
      ]
     },
     "execution_count": 3,
     "metadata": {},
     "output_type": "execute_result"
    }
   ],
   "source": [
    "df=pd.read_excel(\"../input/data-arabic-dialect/data_maghreb.xlsx\",index_col=0,\n",
    "              dtype={'tokens': str, 'dialect': str})\n",
    "## check the presence of null values\n",
    "df.isna().sum()"
   ]
  },
  {
   "cell_type": "code",
   "execution_count": 4,
   "metadata": {
    "execution": {
     "iopub.execute_input": "2022-03-13T19:42:47.214956Z",
     "iopub.status.busy": "2022-03-13T19:42:47.214322Z",
     "iopub.status.idle": "2022-03-13T19:42:47.231935Z",
     "shell.execute_reply": "2022-03-13T19:42:47.231197Z",
     "shell.execute_reply.started": "2022-03-13T19:42:47.214915Z"
    }
   },
   "outputs": [],
   "source": [
    "## reset index\n",
    "df=df.reset_index()\n",
    "df.drop('index',axis=1,inplace=True)"
   ]
  },
  {
   "cell_type": "markdown",
   "metadata": {},
   "source": [
    "### count numbers of sentences that belong to each country"
   ]
  },
  {
   "cell_type": "code",
   "execution_count": 5,
   "metadata": {
    "execution": {
     "iopub.execute_input": "2022-03-13T19:42:47.233647Z",
     "iopub.status.busy": "2022-03-13T19:42:47.233262Z",
     "iopub.status.idle": "2022-03-13T19:42:47.531201Z",
     "shell.execute_reply": "2022-03-13T19:42:47.530526Z",
     "shell.execute_reply.started": "2022-03-13T19:42:47.233605Z"
    }
   },
   "outputs": [
    {
     "name": "stdout",
     "output_type": "stream",
     "text": [
      "Index(['LY', 'DZ', 'MA', 'TN'], dtype='object')\n"
     ]
    },
    {
     "name": "stderr",
     "output_type": "stream",
     "text": [
      "/opt/conda/lib/python3.7/site-packages/seaborn/_decorators.py:43: FutureWarning: Pass the following variables as keyword args: x, y. From version 0.12, the only valid positional argument will be `data`, and passing other arguments without an explicit keyword will result in an error or misinterpretation.\n",
      "  FutureWarning\n"
     ]
    },
    {
     "data": {
      "text/plain": [
       "<AxesSubplot:ylabel='dialect'>"
      ]
     },
     "execution_count": 5,
     "metadata": {},
     "output_type": "execute_result"
    },
    {
     "data": {
      "image/png": "[encoded data removed]",
      "text/plain": [
       "<Figure size 432x288 with 1 Axes>"
      ]
     },
     "metadata": {
      "needs_background": "light"
     },
     "output_type": "display_data"
    }
   ],
   "source": [
    "x=df['dialect'].value_counts()\n",
    "print(x.index)\n",
    "sns.barplot(x.index,x)"
   ]
  },
  {
   "cell_type": "markdown",
   "metadata": {},
   "source": [
    "### compute the max number of words ( max_length of the sentence)"
   ]
  },
  {
   "cell_type": "code",
   "execution_count": 6,
   "metadata": {
    "execution": {
     "iopub.execute_input": "2022-03-13T19:42:47.532602Z",
     "iopub.status.busy": "2022-03-13T19:42:47.532257Z",
     "iopub.status.idle": "2022-03-13T19:42:47.536497Z",
     "shell.execute_reply": "2022-03-13T19:42:47.535741Z",
     "shell.execute_reply.started": "2022-03-13T19:42:47.532568Z"
    }
   },
   "outputs": [],
   "source": [
    "def splitolist(data):\n",
    "    l=data.split(\" \")\n",
    "    return l"
   ]
  },
  {
   "cell_type": "code",
   "execution_count": 7,
   "metadata": {
    "execution": {
     "iopub.execute_input": "2022-03-13T19:42:47.538169Z",
     "iopub.status.busy": "2022-03-13T19:42:47.537729Z",
     "iopub.status.idle": "2022-03-13T19:42:47.734192Z",
     "shell.execute_reply": "2022-03-13T19:42:47.733397Z",
     "shell.execute_reply.started": "2022-03-13T19:42:47.538136Z"
    }
   },
   "outputs": [],
   "source": [
    "df['tokens1']=df['tokens'].apply(splitolist)"
   ]
  },
  {
   "cell_type": "code",
   "execution_count": 8,
   "metadata": {
    "execution": {
     "iopub.execute_input": "2022-03-13T19:42:47.738727Z",
     "iopub.status.busy": "2022-03-13T19:42:47.738345Z",
     "iopub.status.idle": "2022-03-13T19:42:47.820347Z",
     "shell.execute_reply": "2022-03-13T19:42:47.819657Z",
     "shell.execute_reply.started": "2022-03-13T19:42:47.738692Z"
    }
   },
   "outputs": [
    {
     "name": "stdout",
     "output_type": "stream",
     "text": [
      "max length is 61\n"
     ]
    }
   ],
   "source": [
    "max_length=df.tokens1.str.len().max()\n",
    "print(\"max length is\"+\" \"+str(max_length))\n"
   ]
  },
  {
   "cell_type": "code",
   "execution_count": 9,
   "metadata": {
    "execution": {
     "iopub.execute_input": "2022-03-13T19:42:47.824917Z",
     "iopub.status.busy": "2022-03-13T19:42:47.824518Z",
     "iopub.status.idle": "2022-03-13T19:42:47.845064Z",
     "shell.execute_reply": "2022-03-13T19:42:47.844405Z",
     "shell.execute_reply.started": "2022-03-13T19:42:47.824880Z"
    }
   },
   "outputs": [
    {
     "data": {
      "text/plain": [
       "'قليلين ادب ومنافقين اختهم او قريبتهم تتعاكس تقولي نشاط حقوق المراه رده فعلهم'"
      ]
     },
     "execution_count": 9,
     "metadata": {},
     "output_type": "execute_result"
    }
   ],
   "source": [
    "df.loc[0,['tokens','dialect']][0]"
   ]
  },
  {
   "cell_type": "markdown",
   "metadata": {},
   "source": [
    "### create a corpus of the entire dataset in a txt file"
   ]
  },
  {
   "cell_type": "code",
   "execution_count": 10,
   "metadata": {
    "execution": {
     "iopub.execute_input": "2022-03-13T19:42:47.852584Z",
     "iopub.status.busy": "2022-03-13T19:42:47.852213Z",
     "iopub.status.idle": "2022-03-13T19:42:48.990876Z",
     "shell.execute_reply": "2022-03-13T19:42:48.990132Z",
     "shell.execute_reply.started": "2022-03-13T19:42:47.852549Z"
    }
   },
   "outputs": [],
   "source": [
    "with open(r'./corpus.txt', 'w', encoding='utf-8') as txtfile:\n",
    "    for i in range(len(df)):\n",
    "        line = df.loc[i,'tokens']\n",
    "        txtfile.write(line)\n",
    "        txtfile.write('\\n')"
   ]
  },
  {
   "cell_type": "markdown",
   "metadata": {},
   "source": [
    "### train skipgram model on the corpus"
   ]
  },
  {
   "cell_type": "code",
   "execution_count": 11,
   "metadata": {
    "execution": {
     "iopub.execute_input": "2022-03-13T19:42:48.992390Z",
     "iopub.status.busy": "2022-03-13T19:42:48.992157Z",
     "iopub.status.idle": "2022-03-13T19:44:22.103017Z",
     "shell.execute_reply": "2022-03-13T19:44:22.102242Z",
     "shell.execute_reply.started": "2022-03-13T19:42:48.992357Z"
    }
   },
   "outputs": [
    {
     "name": "stderr",
     "output_type": "stream",
     "text": [
      "Read 0M words\n",
      "Number of words:  20193\n",
      "Number of labels: 0\n",
      "Progress: 100.0% words/sec/thread:   90580 lr:  0.000000 avg.loss:  1.615535 ETA:   0h 0m 0s\n"
     ]
    }
   ],
   "source": [
    "EMBED_SIZE=100\n",
    "model = fasttext.train_unsupervised('./corpus.txt',\n",
    "                                    minCount = 5, \n",
    "                                    model='skipgram',\n",
    "                                    minn = 2,\n",
    "                                    maxn = 5,\n",
    "                                    dim = 100,\n",
    "                                    lr = 0.1,\n",
    "                                    epoch = 10)"
   ]
  },
  {
   "cell_type": "code",
   "execution_count": 12,
   "metadata": {
    "execution": {
     "iopub.execute_input": "2022-03-13T19:44:22.105954Z",
     "iopub.status.busy": "2022-03-13T19:44:22.104423Z",
     "iopub.status.idle": "2022-03-13T19:44:22.416602Z",
     "shell.execute_reply": "2022-03-13T19:44:22.415835Z",
     "shell.execute_reply.started": "2022-03-13T19:44:22.105911Z"
    }
   },
   "outputs": [],
   "source": [
    "#create a list of all unique words in the dataset\n",
    "with open(r'./corpus.txt', 'r', encoding=\"utf-8\") as txtfile:\n",
    "    corpus_sentences = txtfile.readlines()\n",
    "    corpus_words = []\n",
    "    for sent in corpus_sentences:\n",
    "        tokenized_sent = sent.split()\n",
    "        for word_ in tokenized_sent:\n",
    "            corpus_words.append(word_)\n",
    "            \n",
    "    corpus_unique_words = list(set(corpus_words))"
   ]
  },
  {
   "cell_type": "markdown",
   "metadata": {},
   "source": [
    "### convert text to numbers using tokenizer"
   ]
  },
  {
   "cell_type": "code",
   "execution_count": 13,
   "metadata": {
    "execution": {
     "iopub.execute_input": "2022-03-13T19:44:22.418270Z",
     "iopub.status.busy": "2022-03-13T19:44:22.417964Z",
     "iopub.status.idle": "2022-03-13T19:44:25.638330Z",
     "shell.execute_reply": "2022-03-13T19:44:25.637588Z",
     "shell.execute_reply.started": "2022-03-13T19:44:22.418232Z"
    }
   },
   "outputs": [],
   "source": [
    "tokenizer = Tokenizer(num_words=len(corpus_unique_words)+1)\n",
    "tokenizer.fit_on_texts(df['tokens'])\n",
    "sequences = tokenizer.texts_to_sequences(df['tokens'])"
   ]
  },
  {
   "cell_type": "code",
   "execution_count": 14,
   "metadata": {
    "execution": {
     "iopub.execute_input": "2022-03-13T19:44:25.640015Z",
     "iopub.status.busy": "2022-03-13T19:44:25.639715Z",
     "iopub.status.idle": "2022-03-13T19:44:26.012978Z",
     "shell.execute_reply": "2022-03-13T19:44:26.012208Z",
     "shell.execute_reply.started": "2022-03-13T19:44:25.639969Z"
    }
   },
   "outputs": [
    {
     "name": "stdout",
     "output_type": "stream",
     "text": [
      "Found 134293 unique tokens.\n"
     ]
    }
   ],
   "source": [
    "word_index = tokenizer.word_index\n",
    "print('Found %s unique tokens.' % len(word_index))\n",
    "data = pad_sequences(sequences, maxlen=max_length,padding='post')  ## padding all the sentences in the dataset to have the same length"
   ]
  },
  {
   "cell_type": "markdown",
   "metadata": {},
   "source": [
    "### create embedding matrix from the trained fasttext model"
   ]
  },
  {
   "cell_type": "code",
   "execution_count": 15,
   "metadata": {
    "execution": {
     "iopub.execute_input": "2022-03-13T19:44:26.014633Z",
     "iopub.status.busy": "2022-03-13T19:44:26.014402Z",
     "iopub.status.idle": "2022-03-13T19:44:28.131823Z",
     "shell.execute_reply": "2022-03-13T19:44:28.131106Z",
     "shell.execute_reply.started": "2022-03-13T19:44:26.014599Z"
    }
   },
   "outputs": [
    {
     "name": "stderr",
     "output_type": "stream",
     "text": [
      "100%|██████████| 134293/134293 [00:02<00:00, 63819.24it/s]\n"
     ]
    }
   ],
   "source": [
    "vocab_size = len(tokenizer.word_index)+1\n",
    "embeddings_matrix = np.zeros(shape = (vocab_size , EMBED_SIZE))\n",
    "\n",
    "for word, index in tqdm(tokenizer.word_index.items()):\n",
    "    embeddings_matrix[index] = model.get_word_vector(word)"
   ]
  },
  {
   "cell_type": "code",
   "execution_count": 16,
   "metadata": {
    "execution": {
     "iopub.execute_input": "2022-03-13T19:44:28.133747Z",
     "iopub.status.busy": "2022-03-13T19:44:28.133277Z",
     "iopub.status.idle": "2022-03-13T19:44:28.146849Z",
     "shell.execute_reply": "2022-03-13T19:44:28.146187Z",
     "shell.execute_reply.started": "2022-03-13T19:44:28.133708Z"
    }
   },
   "outputs": [],
   "source": [
    "data_y=pd.get_dummies(df['dialect'])"
   ]
  },
  {
   "cell_type": "code",
   "execution_count": 17,
   "metadata": {
    "execution": {
     "iopub.execute_input": "2022-03-13T19:44:28.148442Z",
     "iopub.status.busy": "2022-03-13T19:44:28.148180Z",
     "iopub.status.idle": "2022-03-13T19:44:28.162419Z",
     "shell.execute_reply": "2022-03-13T19:44:28.161694Z",
     "shell.execute_reply.started": "2022-03-13T19:44:28.148403Z"
    }
   },
   "outputs": [
    {
     "data": {
      "text/html": [
       "<div>\n",
       "<style scoped>\n",
       "    .dataframe tbody tr th:only-of-type {\n",
       "        vertical-align: middle;\n",
       "    }\n",
       "\n",
       "    .dataframe tbody tr th {\n",
       "        vertical-align: top;\n",
       "    }\n",
       "\n",
       "    .dataframe thead th {\n",
       "        text-align: right;\n",
       "    }\n",
       "</style>\n",
       "<table border=\"1\" class=\"dataframe\">\n",
       "  <thead>\n",
       "    <tr style=\"text-align: right;\">\n",
       "      <th></th>\n",
       "      <th>DZ</th>\n",
       "      <th>LY</th>\n",
       "      <th>MA</th>\n",
       "      <th>TN</th>\n",
       "    </tr>\n",
       "  </thead>\n",
       "  <tbody>\n",
       "    <tr>\n",
       "      <th>0</th>\n",
       "      <td>0</td>\n",
       "      <td>1</td>\n",
       "      <td>0</td>\n",
       "      <td>0</td>\n",
       "    </tr>\n",
       "    <tr>\n",
       "      <th>1</th>\n",
       "      <td>0</td>\n",
       "      <td>1</td>\n",
       "      <td>0</td>\n",
       "      <td>0</td>\n",
       "    </tr>\n",
       "    <tr>\n",
       "      <th>2</th>\n",
       "      <td>0</td>\n",
       "      <td>1</td>\n",
       "      <td>0</td>\n",
       "      <td>0</td>\n",
       "    </tr>\n",
       "    <tr>\n",
       "      <th>3</th>\n",
       "      <td>0</td>\n",
       "      <td>1</td>\n",
       "      <td>0</td>\n",
       "      <td>0</td>\n",
       "    </tr>\n",
       "    <tr>\n",
       "      <th>4</th>\n",
       "      <td>0</td>\n",
       "      <td>1</td>\n",
       "      <td>0</td>\n",
       "      <td>0</td>\n",
       "    </tr>\n",
       "    <tr>\n",
       "      <th>5</th>\n",
       "      <td>0</td>\n",
       "      <td>1</td>\n",
       "      <td>0</td>\n",
       "      <td>0</td>\n",
       "    </tr>\n",
       "    <tr>\n",
       "      <th>6</th>\n",
       "      <td>0</td>\n",
       "      <td>1</td>\n",
       "      <td>0</td>\n",
       "      <td>0</td>\n",
       "    </tr>\n",
       "    <tr>\n",
       "      <th>7</th>\n",
       "      <td>0</td>\n",
       "      <td>1</td>\n",
       "      <td>0</td>\n",
       "      <td>0</td>\n",
       "    </tr>\n",
       "    <tr>\n",
       "      <th>8</th>\n",
       "      <td>0</td>\n",
       "      <td>1</td>\n",
       "      <td>0</td>\n",
       "      <td>0</td>\n",
       "    </tr>\n",
       "    <tr>\n",
       "      <th>9</th>\n",
       "      <td>0</td>\n",
       "      <td>1</td>\n",
       "      <td>0</td>\n",
       "      <td>0</td>\n",
       "    </tr>\n",
       "  </tbody>\n",
       "</table>\n",
       "</div>"
      ],
      "text/plain": [
       "   DZ  LY  MA  TN\n",
       "0   0   1   0   0\n",
       "1   0   1   0   0\n",
       "2   0   1   0   0\n",
       "3   0   1   0   0\n",
       "4   0   1   0   0\n",
       "5   0   1   0   0\n",
       "6   0   1   0   0\n",
       "7   0   1   0   0\n",
       "8   0   1   0   0\n",
       "9   0   1   0   0"
      ]
     },
     "execution_count": 17,
     "metadata": {},
     "output_type": "execute_result"
    }
   ],
   "source": [
    "data_y[:10]"
   ]
  },
  {
   "cell_type": "code",
   "execution_count": 26,
   "metadata": {
    "execution": {
     "iopub.execute_input": "2022-03-13T19:50:57.418345Z",
     "iopub.status.busy": "2022-03-13T19:50:57.417678Z",
     "iopub.status.idle": "2022-03-13T19:50:58.043823Z",
     "shell.execute_reply": "2022-03-13T19:50:58.043056Z",
     "shell.execute_reply.started": "2022-03-13T19:50:57.418294Z"
    }
   },
   "outputs": [],
   "source": [
    "#split the data into train and test sets\n",
    "x_train, x_test, y_train, y_test = train_test_split(data,data_y, test_size = 0.1, stratify =data_y,shuffle=True)"
   ]
  },
  {
   "cell_type": "code",
   "execution_count": 27,
   "metadata": {
    "execution": {
     "iopub.execute_input": "2022-03-13T19:50:59.437356Z",
     "iopub.status.busy": "2022-03-13T19:50:59.437104Z",
     "iopub.status.idle": "2022-03-13T19:51:00.016074Z",
     "shell.execute_reply": "2022-03-13T19:51:00.015341Z",
     "shell.execute_reply.started": "2022-03-13T19:50:59.437328Z"
    }
   },
   "outputs": [],
   "source": [
    "#create a bidirectional LSTM model\n",
    "def create_model():\n",
    "    model = Sequential()\n",
    "    embedding_layer = Embedding(vocab_size, EMBED_SIZE, \n",
    "                                weights=[embeddings_matrix], \n",
    "                                input_length=max_length , \n",
    "                                trainable=True)\n",
    "    \n",
    "    model.add(embedding_layer)\n",
    "    model.add(Bidirectional(LSTM(128)))\n",
    "    model.add(Dropout(0.5))\n",
    "    model.add(Dense(5000, activation='relu'))\n",
    "    model.add(Dense(len(np.unique(df['dialect'])), activation='softmax'))\n",
    "    return model\n",
    "\n",
    "model1 = create_model()\n",
    "tf.keras.backend.clear_session()\n",
    "early_stop = tf.keras.callbacks.EarlyStopping(monitor='loss',mode = 'max',patience=3,verbose=1) #,mode = 'min',callbacks=[early_stop]\n",
    "early_stopping = EarlyStopping(monitor='loss', patience=2)\n",
    "tf.keras.backend.clear_session()\n",
    "# early_stopping = EarlyStopping(monitor= 'val_acc', \n",
    "#                                mode = 'max',\n",
    "#                                patience=30, \n",
    "#                                verbose=1)\n",
    "\n",
    "# model_checkpoint = ModelCheckpoint('levant_dialect_CLASSIFIER',\n",
    "#                                    monitor = 'val_acc', \n",
    "#                                    mode = 'max', \n",
    "#                                    save_best_only=True, \n",
    "#                                    verbose=1)\n",
    "\n",
    "\n",
    "opt = Adam(learning_rate = 0.0001)\n",
    "\n",
    "model1.compile(opt, loss = 'categorical_crossentropy', metrics=['accuracy'])"
   ]
  },
  {
   "cell_type": "code",
   "execution_count": 28,
   "metadata": {
    "execution": {
     "iopub.execute_input": "2022-03-13T19:51:03.880377Z",
     "iopub.status.busy": "2022-03-13T19:51:03.879841Z",
     "iopub.status.idle": "2022-03-13T19:51:03.947250Z",
     "shell.execute_reply": "2022-03-13T19:51:03.945839Z",
     "shell.execute_reply.started": "2022-03-13T19:51:03.880340Z"
    }
   },
   "outputs": [
    {
     "data": {
      "text/plain": [
       "['DZ', 'LY', 'MA', 'TN']"
      ]
     },
     "execution_count": 28,
     "metadata": {},
     "output_type": "execute_result"
    }
   ],
   "source": [
    "np.unique(df['dialect']).tolist()"
   ]
  },
  {
   "cell_type": "code",
   "execution_count": 29,
   "metadata": {
    "execution": {
     "iopub.execute_input": "2022-03-13T19:51:05.499257Z",
     "iopub.status.busy": "2022-03-13T19:51:05.498942Z",
     "iopub.status.idle": "2022-03-13T19:52:59.647021Z",
     "shell.execute_reply": "2022-03-13T19:52:59.646259Z",
     "shell.execute_reply.started": "2022-03-13T19:51:05.499227Z"
    }
   },
   "outputs": [
    {
     "name": "stdout",
     "output_type": "stream",
     "text": [
      "Epoch 1/50\n",
      "2066/2066 [==============================] - 31s 14ms/step - loss: 0.9472 - accuracy: 0.6201 - val_loss: 0.7777 - val_accuracy: 0.7010\n",
      "Epoch 2/50\n",
      "2066/2066 [==============================] - 28s 13ms/step - loss: 0.7198 - accuracy: 0.7189 - val_loss: 0.6874 - val_accuracy: 0.7352\n",
      "Epoch 3/50\n",
      "2066/2066 [==============================] - 28s 13ms/step - loss: 0.6114 - accuracy: 0.7635 - val_loss: 0.6567 - val_accuracy: 0.7518\n",
      "Epoch 4/50\n",
      "2066/2066 [==============================] - 28s 14ms/step - loss: 0.5264 - accuracy: 0.7993 - val_loss: 0.6475 - val_accuracy: 0.7526\n",
      "Epoch 00004: early stopping\n"
     ]
    }
   ],
   "source": [
    "#train the model\n",
    "history = model1.fit(x_train, \n",
    "                    y_train, \n",
    "                    validation_data=(x_test, y_test),\n",
    "                    batch_size=32,\n",
    "                    epochs=50,\n",
    "                    callbacks = [early_stop])"
   ]
  },
  {
   "cell_type": "code",
   "execution_count": 30,
   "metadata": {
    "execution": {
     "iopub.execute_input": "2022-03-13T19:53:18.564456Z",
     "iopub.status.busy": "2022-03-13T19:53:18.564203Z",
     "iopub.status.idle": "2022-03-13T19:53:19.001609Z",
     "shell.execute_reply": "2022-03-13T19:53:19.000721Z",
     "shell.execute_reply.started": "2022-03-13T19:53:18.564425Z"
    }
   },
   "outputs": [],
   "source": [
    "model1.save(\"maghreb.h5\")"
   ]
  },
  {
   "cell_type": "code",
   "execution_count": 31,
   "metadata": {
    "execution": {
     "iopub.execute_input": "2022-03-13T19:53:21.802447Z",
     "iopub.status.busy": "2022-03-13T19:53:21.802196Z",
     "iopub.status.idle": "2022-03-13T19:53:21.872869Z",
     "shell.execute_reply": "2022-03-13T19:53:21.871959Z",
     "shell.execute_reply.started": "2022-03-13T19:53:21.802419Z"
    }
   },
   "outputs": [
    {
     "data": {
      "text/plain": [
       "['DZ', 'LY', 'MA', 'TN']"
      ]
     },
     "execution_count": 31,
     "metadata": {},
     "output_type": "execute_result"
    }
   ],
   "source": [
    "target_names=np.unique(df['dialect']).tolist()\n",
    "target_names"
   ]
  },
  {
   "cell_type": "code",
   "execution_count": 32,
   "metadata": {
    "execution": {
     "iopub.execute_input": "2022-03-13T19:53:24.318729Z",
     "iopub.status.busy": "2022-03-13T19:53:24.317978Z",
     "iopub.status.idle": "2022-03-13T19:53:24.332150Z",
     "shell.execute_reply": "2022-03-13T19:53:24.331443Z",
     "shell.execute_reply.started": "2022-03-13T19:53:24.318681Z"
    }
   },
   "outputs": [
    {
     "data": {
      "text/html": [
       "<div>\n",
       "<style scoped>\n",
       "    .dataframe tbody tr th:only-of-type {\n",
       "        vertical-align: middle;\n",
       "    }\n",
       "\n",
       "    .dataframe tbody tr th {\n",
       "        vertical-align: top;\n",
       "    }\n",
       "\n",
       "    .dataframe thead th {\n",
       "        text-align: right;\n",
       "    }\n",
       "</style>\n",
       "<table border=\"1\" class=\"dataframe\">\n",
       "  <thead>\n",
       "    <tr style=\"text-align: right;\">\n",
       "      <th></th>\n",
       "      <th>DZ</th>\n",
       "      <th>LY</th>\n",
       "      <th>MA</th>\n",
       "      <th>TN</th>\n",
       "    </tr>\n",
       "  </thead>\n",
       "  <tbody>\n",
       "    <tr>\n",
       "      <th>57498</th>\n",
       "      <td>1</td>\n",
       "      <td>0</td>\n",
       "      <td>0</td>\n",
       "      <td>0</td>\n",
       "    </tr>\n",
       "    <tr>\n",
       "      <th>33284</th>\n",
       "      <td>0</td>\n",
       "      <td>1</td>\n",
       "      <td>0</td>\n",
       "      <td>0</td>\n",
       "    </tr>\n",
       "    <tr>\n",
       "      <th>50417</th>\n",
       "      <td>0</td>\n",
       "      <td>0</td>\n",
       "      <td>1</td>\n",
       "      <td>0</td>\n",
       "    </tr>\n",
       "    <tr>\n",
       "      <th>72018</th>\n",
       "      <td>1</td>\n",
       "      <td>0</td>\n",
       "      <td>0</td>\n",
       "      <td>0</td>\n",
       "    </tr>\n",
       "    <tr>\n",
       "      <th>68356</th>\n",
       "      <td>1</td>\n",
       "      <td>0</td>\n",
       "      <td>0</td>\n",
       "      <td>0</td>\n",
       "    </tr>\n",
       "    <tr>\n",
       "      <th>...</th>\n",
       "      <td>...</td>\n",
       "      <td>...</td>\n",
       "      <td>...</td>\n",
       "      <td>...</td>\n",
       "    </tr>\n",
       "    <tr>\n",
       "      <th>54492</th>\n",
       "      <td>0</td>\n",
       "      <td>0</td>\n",
       "      <td>1</td>\n",
       "      <td>0</td>\n",
       "    </tr>\n",
       "    <tr>\n",
       "      <th>15966</th>\n",
       "      <td>0</td>\n",
       "      <td>1</td>\n",
       "      <td>0</td>\n",
       "      <td>0</td>\n",
       "    </tr>\n",
       "    <tr>\n",
       "      <th>62287</th>\n",
       "      <td>1</td>\n",
       "      <td>0</td>\n",
       "      <td>0</td>\n",
       "      <td>0</td>\n",
       "    </tr>\n",
       "    <tr>\n",
       "      <th>63568</th>\n",
       "      <td>1</td>\n",
       "      <td>0</td>\n",
       "      <td>0</td>\n",
       "      <td>0</td>\n",
       "    </tr>\n",
       "    <tr>\n",
       "      <th>61703</th>\n",
       "      <td>1</td>\n",
       "      <td>0</td>\n",
       "      <td>0</td>\n",
       "      <td>0</td>\n",
       "    </tr>\n",
       "  </tbody>\n",
       "</table>\n",
       "<p>7345 rows × 4 columns</p>\n",
       "</div>"
      ],
      "text/plain": [
       "       DZ  LY  MA  TN\n",
       "57498   1   0   0   0\n",
       "33284   0   1   0   0\n",
       "50417   0   0   1   0\n",
       "72018   1   0   0   0\n",
       "68356   1   0   0   0\n",
       "...    ..  ..  ..  ..\n",
       "54492   0   0   1   0\n",
       "15966   0   1   0   0\n",
       "62287   1   0   0   0\n",
       "63568   1   0   0   0\n",
       "61703   1   0   0   0\n",
       "\n",
       "[7345 rows x 4 columns]"
      ]
     },
     "execution_count": 32,
     "metadata": {},
     "output_type": "execute_result"
    }
   ],
   "source": [
    "y_test"
   ]
  },
  {
   "cell_type": "code",
   "execution_count": 33,
   "metadata": {
    "execution": {
     "iopub.execute_input": "2022-03-13T19:53:27.675647Z",
     "iopub.status.busy": "2022-03-13T19:53:27.675176Z",
     "iopub.status.idle": "2022-03-13T19:53:27.683173Z",
     "shell.execute_reply": "2022-03-13T19:53:27.682083Z",
     "shell.execute_reply.started": "2022-03-13T19:53:27.675613Z"
    }
   },
   "outputs": [
    {
     "data": {
      "text/plain": [
       "array([0, 1, 2, ..., 0, 0, 0])"
      ]
     },
     "execution_count": 33,
     "metadata": {},
     "output_type": "execute_result"
    }
   ],
   "source": [
    "np.argmax(np.array(y_test),axis=1)"
   ]
  },
  {
   "cell_type": "markdown",
   "metadata": {},
   "source": [
    "### classification report for test data"
   ]
  },
  {
   "cell_type": "code",
   "execution_count": 34,
   "metadata": {
    "execution": {
     "iopub.execute_input": "2022-03-13T19:53:46.045240Z",
     "iopub.status.busy": "2022-03-13T19:53:46.044926Z",
     "iopub.status.idle": "2022-03-13T19:54:31.428862Z",
     "shell.execute_reply": "2022-03-13T19:54:31.427118Z",
     "shell.execute_reply.started": "2022-03-13T19:53:46.045210Z"
    }
   },
   "outputs": [
    {
     "name": "stdout",
     "output_type": "stream",
     "text": [
      "              precision    recall  f1-score   support\n",
      "\n",
      "          DZ       0.65      0.67      0.66      1618\n",
      "          LY       0.83      0.86      0.84      3648\n",
      "          MA       0.79      0.64      0.71      1154\n",
      "          TN       0.59      0.61      0.60       925\n",
      "\n",
      "    accuracy                           0.75      7345\n",
      "   macro avg       0.72      0.70      0.70      7345\n",
      "weighted avg       0.75      0.75      0.75      7345\n",
      "\n"
     ]
    }
   ],
   "source": [
    "pred=model1.predict(x_test)\n",
    "print(classification_report(np.argmax(np.array(y_test),axis=1),np.argmax(pred,axis=1), target_names=target_names))"
   ]
  },
  {
   "cell_type": "markdown",
   "metadata": {},
   "source": [
    "### classification report for train data"
   ]
  },
  {
   "cell_type": "code",
   "execution_count": 35,
   "metadata": {
    "execution": {
     "iopub.execute_input": "2022-03-13T19:54:31.431010Z",
     "iopub.status.busy": "2022-03-13T19:54:31.430721Z",
     "iopub.status.idle": "2022-03-13T19:54:41.803038Z",
     "shell.execute_reply": "2022-03-13T19:54:41.802229Z",
     "shell.execute_reply.started": "2022-03-13T19:54:31.430967Z"
    }
   },
   "outputs": [
    {
     "name": "stdout",
     "output_type": "stream",
     "text": [
      "              precision    recall  f1-score   support\n",
      "\n",
      "          DZ       0.75      0.78      0.76     14563\n",
      "          LY       0.90      0.93      0.91     32833\n",
      "          MA       0.87      0.72      0.79     10382\n",
      "          TN       0.72      0.74      0.73      8319\n",
      "\n",
      "    accuracy                           0.84     66097\n",
      "   macro avg       0.81      0.79      0.80     66097\n",
      "weighted avg       0.84      0.84      0.84     66097\n",
      "\n"
     ]
    }
   ],
   "source": [
    "pred_train=model1.predict(x_train)\n",
    "print(classification_report(np.argmax(np.array(y_train),axis=1),np.argmax(pred_train,axis=1), target_names=target_names))"
   ]
  },
  {
   "cell_type": "code",
   "execution_count": 40,
   "metadata": {
    "execution": {
     "iopub.execute_input": "2022-03-13T19:56:55.227473Z",
     "iopub.status.busy": "2022-03-13T19:56:55.227209Z",
     "iopub.status.idle": "2022-03-13T19:56:55.234468Z",
     "shell.execute_reply": "2022-03-13T19:56:55.233767Z",
     "shell.execute_reply.started": "2022-03-13T19:56:55.227443Z"
    }
   },
   "outputs": [
    {
     "name": "stdout",
     "output_type": "stream",
     "text": [
      "[796]\n"
     ]
    }
   ],
   "source": [
    "a=\"توحشتك\"\n",
    "l=splitolist(a)\n",
    "seq=tokenizer.texts_to_sequences(l)\n",
    "b=[item for sublist in seq for item in sublist]\n",
    "print(b)\n",
    "pad_seq=pad_sequences([b], maxlen=max_length,padding='post')"
   ]
  },
  {
   "cell_type": "code",
   "execution_count": 41,
   "metadata": {
    "execution": {
     "iopub.execute_input": "2022-03-13T19:56:57.849348Z",
     "iopub.status.busy": "2022-03-13T19:56:57.848722Z",
     "iopub.status.idle": "2022-03-13T19:56:57.856530Z",
     "shell.execute_reply": "2022-03-13T19:56:57.855626Z",
     "shell.execute_reply.started": "2022-03-13T19:56:57.849304Z"
    }
   },
   "outputs": [
    {
     "name": "stdout",
     "output_type": "stream",
     "text": [
      "['توحشتك'] [[796]] [[796   0   0   0   0   0   0   0   0   0   0   0   0   0   0   0   0   0\n",
      "    0   0   0   0   0   0   0   0   0   0   0   0   0   0   0   0   0   0\n",
      "    0   0   0   0   0   0   0   0   0   0   0   0   0   0   0   0   0   0\n",
      "    0   0   0   0   0   0   0]]\n"
     ]
    }
   ],
   "source": [
    "print(l,seq,pad_seq)"
   ]
  },
  {
   "cell_type": "code",
   "execution_count": 42,
   "metadata": {
    "execution": {
     "iopub.execute_input": "2022-03-13T19:57:00.739313Z",
     "iopub.status.busy": "2022-03-13T19:57:00.739040Z",
     "iopub.status.idle": "2022-03-13T19:57:00.790284Z",
     "shell.execute_reply": "2022-03-13T19:57:00.789577Z",
     "shell.execute_reply.started": "2022-03-13T19:57:00.739283Z"
    }
   },
   "outputs": [
    {
     "data": {
      "text/plain": [
       "2"
      ]
     },
     "execution_count": 42,
     "metadata": {},
     "output_type": "execute_result"
    }
   ],
   "source": [
    "out=model1.predict(pad_seq).argmax(axis=1)\n",
    "out[0]"
   ]
  },
  {
   "cell_type": "code",
   "execution_count": 43,
   "metadata": {
    "execution": {
     "iopub.execute_input": "2022-03-13T19:57:02.948848Z",
     "iopub.status.busy": "2022-03-13T19:57:02.948228Z",
     "iopub.status.idle": "2022-03-13T19:57:02.954048Z",
     "shell.execute_reply": "2022-03-13T19:57:02.953300Z",
     "shell.execute_reply.started": "2022-03-13T19:57:02.948803Z"
    }
   },
   "outputs": [
    {
     "data": {
      "text/plain": [
       "'MA'"
      ]
     },
     "execution_count": 43,
     "metadata": {},
     "output_type": "execute_result"
    }
   ],
   "source": [
    "country_pred=target_names[out[0]]\n",
    "country_pred"
   ]
  }
 ],
 "metadata": {
  "kernelspec": {
   "display_name": "Python 3 (ipykernel)",
   "language": "python",
   "name": "python3"
  },
  "language_info": {
   "codemirror_mode": {
    "name": "ipython",
    "version": 3
   },
   "file_extension": ".py",
   "mimetype": "text/x-python",
   "name": "python",
   "nbconvert_exporter": "python",
   "pygments_lexer": "ipython3",
   "version": "3.9.7"
  }
 },
 "nbformat": 4,
 "nbformat_minor": 4
}
