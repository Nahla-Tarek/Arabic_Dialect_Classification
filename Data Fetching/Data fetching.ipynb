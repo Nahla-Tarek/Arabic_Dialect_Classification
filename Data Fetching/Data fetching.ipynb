{
 "cells": [
  {
   "cell_type": "code",
   "execution_count": 1,
   "id": "af4197c1",
   "metadata": {},
   "outputs": [],
   "source": [
    "import pandas as pd\n",
    "from itertools import islice\n",
    "import requests\n",
    "from collections import ChainMap\n",
    "import re\n",
    "import string\n",
    "import pickle\n"
   ]
  },
  {
   "cell_type": "markdown",
   "id": "26ba2c1c",
   "metadata": {},
   "source": [
    "### Import csv file"
   ]
  },
  {
   "cell_type": "code",
   "execution_count": 2,
   "id": "90339edd",
   "metadata": {},
   "outputs": [],
   "source": [
    "df=pd.read_csv('dialect_dataset.csv')"
   ]
  },
  {
   "cell_type": "code",
   "execution_count": 3,
   "id": "8bdaa2a4",
   "metadata": {},
   "outputs": [
    {
     "data": {
      "text/html": [
       "<div>\n",
       "<style scoped>\n",
       "    .dataframe tbody tr th:only-of-type {\n",
       "        vertical-align: middle;\n",
       "    }\n",
       "\n",
       "    .dataframe tbody tr th {\n",
       "        vertical-align: top;\n",
       "    }\n",
       "\n",
       "    .dataframe thead th {\n",
       "        text-align: right;\n",
       "    }\n",
       "</style>\n",
       "<table border=\"1\" class=\"dataframe\">\n",
       "  <thead>\n",
       "    <tr style=\"text-align: right;\">\n",
       "      <th></th>\n",
       "      <th>id</th>\n",
       "      <th>dialect</th>\n",
       "    </tr>\n",
       "  </thead>\n",
       "  <tbody>\n",
       "    <tr>\n",
       "      <th>0</th>\n",
       "      <td>1175358310087892992</td>\n",
       "      <td>IQ</td>\n",
       "    </tr>\n",
       "    <tr>\n",
       "      <th>1</th>\n",
       "      <td>1175416117793349632</td>\n",
       "      <td>IQ</td>\n",
       "    </tr>\n",
       "    <tr>\n",
       "      <th>2</th>\n",
       "      <td>1175450108898565888</td>\n",
       "      <td>IQ</td>\n",
       "    </tr>\n",
       "    <tr>\n",
       "      <th>3</th>\n",
       "      <td>1175471073770573824</td>\n",
       "      <td>IQ</td>\n",
       "    </tr>\n",
       "    <tr>\n",
       "      <th>4</th>\n",
       "      <td>1175496913145217024</td>\n",
       "      <td>IQ</td>\n",
       "    </tr>\n",
       "    <tr>\n",
       "      <th>...</th>\n",
       "      <td>...</td>\n",
       "      <td>...</td>\n",
       "    </tr>\n",
       "    <tr>\n",
       "      <th>458192</th>\n",
       "      <td>1019484980282580992</td>\n",
       "      <td>BH</td>\n",
       "    </tr>\n",
       "    <tr>\n",
       "      <th>458193</th>\n",
       "      <td>1021083283709407232</td>\n",
       "      <td>BH</td>\n",
       "    </tr>\n",
       "    <tr>\n",
       "      <th>458194</th>\n",
       "      <td>1017477537889431552</td>\n",
       "      <td>BH</td>\n",
       "    </tr>\n",
       "    <tr>\n",
       "      <th>458195</th>\n",
       "      <td>1022430374696239232</td>\n",
       "      <td>BH</td>\n",
       "    </tr>\n",
       "    <tr>\n",
       "      <th>458196</th>\n",
       "      <td>1022409931029458944</td>\n",
       "      <td>BH</td>\n",
       "    </tr>\n",
       "  </tbody>\n",
       "</table>\n",
       "<p>458197 rows × 2 columns</p>\n",
       "</div>"
      ],
      "text/plain": [
       "                         id dialect\n",
       "0       1175358310087892992      IQ\n",
       "1       1175416117793349632      IQ\n",
       "2       1175450108898565888      IQ\n",
       "3       1175471073770573824      IQ\n",
       "4       1175496913145217024      IQ\n",
       "...                     ...     ...\n",
       "458192  1019484980282580992      BH\n",
       "458193  1021083283709407232      BH\n",
       "458194  1017477537889431552      BH\n",
       "458195  1022430374696239232      BH\n",
       "458196  1022409931029458944      BH\n",
       "\n",
       "[458197 rows x 2 columns]"
      ]
     },
     "execution_count": 3,
     "metadata": {},
     "output_type": "execute_result"
    }
   ],
   "source": [
    "df"
   ]
  },
  {
   "cell_type": "code",
   "execution_count": 4,
   "id": "b2c23c4e",
   "metadata": {},
   "outputs": [
    {
     "data": {
      "text/plain": [
       "(458197, 2)"
      ]
     },
     "execution_count": 4,
     "metadata": {},
     "output_type": "execute_result"
    }
   ],
   "source": [
    "df.shape"
   ]
  },
  {
   "cell_type": "markdown",
   "id": "cd3f8249",
   "metadata": {},
   "source": [
    "### Check null values"
   ]
  },
  {
   "cell_type": "code",
   "execution_count": 5,
   "id": "374721a6",
   "metadata": {},
   "outputs": [
    {
     "data": {
      "text/plain": [
       "id         0\n",
       "dialect    0\n",
       "dtype: int64"
      ]
     },
     "execution_count": 5,
     "metadata": {},
     "output_type": "execute_result"
    }
   ],
   "source": [
    "df.isnull().sum()"
   ]
  },
  {
   "cell_type": "code",
   "execution_count": 6,
   "id": "fa451d6b",
   "metadata": {},
   "outputs": [],
   "source": [
    "df['id']= df['id'].astype(str)  ## change type of id into string"
   ]
  },
  {
   "cell_type": "code",
   "execution_count": 7,
   "id": "c617cf06",
   "metadata": {},
   "outputs": [],
   "source": [
    "id = df[\"id\"].values.tolist()    ## convert id column to list"
   ]
  },
  {
   "cell_type": "code",
   "execution_count": 8,
   "id": "a1413864",
   "metadata": {},
   "outputs": [
    {
     "data": {
      "text/plain": [
       "458197"
      ]
     },
     "execution_count": 8,
     "metadata": {},
     "output_type": "execute_result"
    }
   ],
   "source": [
    "len(id)"
   ]
  },
  {
   "cell_type": "code",
   "execution_count": 9,
   "id": "ca1b0274",
   "metadata": {},
   "outputs": [
    {
     "data": {
      "text/plain": [
       "str"
      ]
     },
     "execution_count": 9,
     "metadata": {},
     "output_type": "execute_result"
    }
   ],
   "source": [
    "type(id[0])"
   ]
  },
  {
   "cell_type": "markdown",
   "id": "92d662b9",
   "metadata": {},
   "source": [
    "### Adding ids in list of lists, each list contains 1000 ids except the last one contains 197 ids"
   ]
  },
  {
   "cell_type": "code",
   "execution_count": 10,
   "id": "8d94e7e4",
   "metadata": {},
   "outputs": [],
   "source": [
    "id_n = iter(id)\n",
    "list1=[1000]*458\n",
    "list1.append(197)\n",
    "Output = [list(islice(id_n, ele)) for ele in list1]"
   ]
  },
  {
   "cell_type": "code",
   "execution_count": 11,
   "id": "7226f246",
   "metadata": {},
   "outputs": [
    {
     "data": {
      "text/plain": [
       "197"
      ]
     },
     "execution_count": 11,
     "metadata": {},
     "output_type": "execute_result"
    }
   ],
   "source": [
    "len(Output[458])"
   ]
  },
  {
   "cell_type": "markdown",
   "id": "0dcce8b2",
   "metadata": {},
   "source": [
    "### sending post request and get the data "
   ]
  },
  {
   "cell_type": "code",
   "execution_count": 12,
   "id": "c5e73cf0",
   "metadata": {},
   "outputs": [],
   "source": [
    "result = {}\n",
    "  \n",
    "# api-endpoint\n",
    "URL = \"https://recruitment.aimtechnologies.co/ai-tasks\"\n",
    "  \n",
    "for i in range(len(Output)) :\n",
    "    # sending post request and saving the response as response object\n",
    "    r = requests.post(url = URL, json = Output[i]) \n",
    "    # extracting data in json format\n",
    "    data = r.json()\n",
    "    result.update(data) ## adding the data in a dictionary\n",
    "    \n"
   ]
  },
  {
   "cell_type": "markdown",
   "id": "75bab46d",
   "metadata": {},
   "source": [
    "### Saving dictionary in a pickle file"
   ]
  },
  {
   "cell_type": "code",
   "execution_count": 13,
   "id": "d7e6a4cf",
   "metadata": {},
   "outputs": [],
   "source": [
    "with open('data.json', 'wb') as fp:\n",
    "    pickle.dump(result, fp)"
   ]
  }
 ],
 "metadata": {
  "kernelspec": {
   "display_name": "Python 3 (ipykernel)",
   "language": "python",
   "name": "python3"
  },
  "language_info": {
   "codemirror_mode": {
    "name": "ipython",
    "version": 3
   },
   "file_extension": ".py",
   "mimetype": "text/x-python",
   "name": "python",
   "nbconvert_exporter": "python",
   "pygments_lexer": "ipython3",
   "version": "3.9.7"
  }
 },
 "nbformat": 4,
 "nbformat_minor": 5
}
